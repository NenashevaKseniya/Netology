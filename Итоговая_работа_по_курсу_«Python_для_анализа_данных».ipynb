{
  "nbformat": 4,
  "nbformat_minor": 0,
  "metadata": {
    "colab": {
      "provenance": []
    },
    "kernelspec": {
      "name": "python3",
      "display_name": "Python 3"
    },
    "language_info": {
      "name": "python"
    }
  },
  "cells": [
    {
      "cell_type": "markdown",
      "source": [
        "Дан файл HR.csv с данными по опросу уровня удовлетворенности сотрудниками работой.\n",
        "\n",
        "Признаки:\n",
        "1. satisfaction_level - Уровень удовлетворенности работой\n",
        "2. Last_evaluation - Время с момента последней оценки в годах\n",
        "3. number_projects - Количество проектов, выполненных за время работы\n",
        "4. average_monthly_hours - Среднее количество часов на рабочем месте в месяц\n",
        "5. time_spend_company - Стаж работы в компании в годах\n",
        "6. work_accident - Происходили ли несчастные случаи на рабочем месте с сотрудником\n",
        "7. left - уволился ли сотрудник\n",
        "8. promotion_last_5years - повышался ли сотрудник за последние пять лет\n",
        "9. department - отдел в котором работает сотрудник\n",
        "10. salary - относительный уровень зарплаты\n",
        "\n"
      ],
      "metadata": {
        "id": "iGwl4uUAsG-C"
      }
    },
    {
      "cell_type": "code",
      "source": [
        "import numpy as np\n",
        "import pandas as pd\n",
        "import matplotlib.pyplot as plt\n",
        "import seaborn as sns\n",
        "from scipy import stats\n",
        "from sklearn.discriminant_analysis import LinearDiscriminantAnalysis\n",
        "from sklearn.model_selection import train_test_split\n",
        "from sklearn.metrics import accuracy_score"
      ],
      "metadata": {
        "id": "zYfMCO0osORT"
      },
      "execution_count": null,
      "outputs": []
    },
    {
      "cell_type": "markdown",
      "source": [
        "1. Загрузите файл HR.csv в pandas dataframe"
      ],
      "metadata": {
        "id": "OGQi6pKNsZKn"
      }
    },
    {
      "cell_type": "code",
      "source": [
        "hr = pd.read_csv('HR.csv')\n",
        "hr.head()"
      ],
      "metadata": {
        "colab": {
          "base_uri": "https://localhost:8080/",
          "height": 206
        },
        "id": "GS4NJVvNsc1N",
        "outputId": "0e4addb2-5535-40a9-8846-c9b06641d3ba"
      },
      "execution_count": null,
      "outputs": [
        {
          "output_type": "execute_result",
          "data": {
            "text/plain": [
              "   satisfaction_level  last_evaluation  number_project  average_montly_hours  \\\n",
              "0                0.38             0.53               2                   157   \n",
              "1                0.80             0.86               5                   262   \n",
              "2                0.11             0.88               7                   272   \n",
              "3                0.72             0.87               5                   223   \n",
              "4                0.37             0.52               2                   159   \n",
              "\n",
              "   time_spend_company  Work_accident  left  promotion_last_5years department  \\\n",
              "0                   3              0     1                      0      sales   \n",
              "1                   6              0     1                      0      sales   \n",
              "2                   4              0     1                      0      sales   \n",
              "3                   5              0     1                      0      sales   \n",
              "4                   3              0     1                      0      sales   \n",
              "\n",
              "   salary  \n",
              "0     low  \n",
              "1  medium  \n",
              "2  medium  \n",
              "3     low  \n",
              "4     low  "
            ],
            "text/html": [
              "\n",
              "  <div id=\"df-aaf73327-7735-4cd6-9b45-ef6c8c60e28c\" class=\"colab-df-container\">\n",
              "    <div>\n",
              "<style scoped>\n",
              "    .dataframe tbody tr th:only-of-type {\n",
              "        vertical-align: middle;\n",
              "    }\n",
              "\n",
              "    .dataframe tbody tr th {\n",
              "        vertical-align: top;\n",
              "    }\n",
              "\n",
              "    .dataframe thead th {\n",
              "        text-align: right;\n",
              "    }\n",
              "</style>\n",
              "<table border=\"1\" class=\"dataframe\">\n",
              "  <thead>\n",
              "    <tr style=\"text-align: right;\">\n",
              "      <th></th>\n",
              "      <th>satisfaction_level</th>\n",
              "      <th>last_evaluation</th>\n",
              "      <th>number_project</th>\n",
              "      <th>average_montly_hours</th>\n",
              "      <th>time_spend_company</th>\n",
              "      <th>Work_accident</th>\n",
              "      <th>left</th>\n",
              "      <th>promotion_last_5years</th>\n",
              "      <th>department</th>\n",
              "      <th>salary</th>\n",
              "    </tr>\n",
              "  </thead>\n",
              "  <tbody>\n",
              "    <tr>\n",
              "      <th>0</th>\n",
              "      <td>0.38</td>\n",
              "      <td>0.53</td>\n",
              "      <td>2</td>\n",
              "      <td>157</td>\n",
              "      <td>3</td>\n",
              "      <td>0</td>\n",
              "      <td>1</td>\n",
              "      <td>0</td>\n",
              "      <td>sales</td>\n",
              "      <td>low</td>\n",
              "    </tr>\n",
              "    <tr>\n",
              "      <th>1</th>\n",
              "      <td>0.80</td>\n",
              "      <td>0.86</td>\n",
              "      <td>5</td>\n",
              "      <td>262</td>\n",
              "      <td>6</td>\n",
              "      <td>0</td>\n",
              "      <td>1</td>\n",
              "      <td>0</td>\n",
              "      <td>sales</td>\n",
              "      <td>medium</td>\n",
              "    </tr>\n",
              "    <tr>\n",
              "      <th>2</th>\n",
              "      <td>0.11</td>\n",
              "      <td>0.88</td>\n",
              "      <td>7</td>\n",
              "      <td>272</td>\n",
              "      <td>4</td>\n",
              "      <td>0</td>\n",
              "      <td>1</td>\n",
              "      <td>0</td>\n",
              "      <td>sales</td>\n",
              "      <td>medium</td>\n",
              "    </tr>\n",
              "    <tr>\n",
              "      <th>3</th>\n",
              "      <td>0.72</td>\n",
              "      <td>0.87</td>\n",
              "      <td>5</td>\n",
              "      <td>223</td>\n",
              "      <td>5</td>\n",
              "      <td>0</td>\n",
              "      <td>1</td>\n",
              "      <td>0</td>\n",
              "      <td>sales</td>\n",
              "      <td>low</td>\n",
              "    </tr>\n",
              "    <tr>\n",
              "      <th>4</th>\n",
              "      <td>0.37</td>\n",
              "      <td>0.52</td>\n",
              "      <td>2</td>\n",
              "      <td>159</td>\n",
              "      <td>3</td>\n",
              "      <td>0</td>\n",
              "      <td>1</td>\n",
              "      <td>0</td>\n",
              "      <td>sales</td>\n",
              "      <td>low</td>\n",
              "    </tr>\n",
              "  </tbody>\n",
              "</table>\n",
              "</div>\n",
              "    <div class=\"colab-df-buttons\">\n",
              "\n",
              "  <div class=\"colab-df-container\">\n",
              "    <button class=\"colab-df-convert\" onclick=\"convertToInteractive('df-aaf73327-7735-4cd6-9b45-ef6c8c60e28c')\"\n",
              "            title=\"Convert this dataframe to an interactive table.\"\n",
              "            style=\"display:none;\">\n",
              "\n",
              "  <svg xmlns=\"http://www.w3.org/2000/svg\" height=\"24px\" viewBox=\"0 -960 960 960\">\n",
              "    <path d=\"M120-120v-720h720v720H120Zm60-500h600v-160H180v160Zm220 220h160v-160H400v160Zm0 220h160v-160H400v160ZM180-400h160v-160H180v160Zm440 0h160v-160H620v160ZM180-180h160v-160H180v160Zm440 0h160v-160H620v160Z\"/>\n",
              "  </svg>\n",
              "    </button>\n",
              "\n",
              "  <style>\n",
              "    .colab-df-container {\n",
              "      display:flex;\n",
              "      gap: 12px;\n",
              "    }\n",
              "\n",
              "    .colab-df-convert {\n",
              "      background-color: #E8F0FE;\n",
              "      border: none;\n",
              "      border-radius: 50%;\n",
              "      cursor: pointer;\n",
              "      display: none;\n",
              "      fill: #1967D2;\n",
              "      height: 32px;\n",
              "      padding: 0 0 0 0;\n",
              "      width: 32px;\n",
              "    }\n",
              "\n",
              "    .colab-df-convert:hover {\n",
              "      background-color: #E2EBFA;\n",
              "      box-shadow: 0px 1px 2px rgba(60, 64, 67, 0.3), 0px 1px 3px 1px rgba(60, 64, 67, 0.15);\n",
              "      fill: #174EA6;\n",
              "    }\n",
              "\n",
              "    .colab-df-buttons div {\n",
              "      margin-bottom: 4px;\n",
              "    }\n",
              "\n",
              "    [theme=dark] .colab-df-convert {\n",
              "      background-color: #3B4455;\n",
              "      fill: #D2E3FC;\n",
              "    }\n",
              "\n",
              "    [theme=dark] .colab-df-convert:hover {\n",
              "      background-color: #434B5C;\n",
              "      box-shadow: 0px 1px 3px 1px rgba(0, 0, 0, 0.15);\n",
              "      filter: drop-shadow(0px 1px 2px rgba(0, 0, 0, 0.3));\n",
              "      fill: #FFFFFF;\n",
              "    }\n",
              "  </style>\n",
              "\n",
              "    <script>\n",
              "      const buttonEl =\n",
              "        document.querySelector('#df-aaf73327-7735-4cd6-9b45-ef6c8c60e28c button.colab-df-convert');\n",
              "      buttonEl.style.display =\n",
              "        google.colab.kernel.accessAllowed ? 'block' : 'none';\n",
              "\n",
              "      async function convertToInteractive(key) {\n",
              "        const element = document.querySelector('#df-aaf73327-7735-4cd6-9b45-ef6c8c60e28c');\n",
              "        const dataTable =\n",
              "          await google.colab.kernel.invokeFunction('convertToInteractive',\n",
              "                                                    [key], {});\n",
              "        if (!dataTable) return;\n",
              "\n",
              "        const docLinkHtml = 'Like what you see? Visit the ' +\n",
              "          '<a target=\"_blank\" href=https://colab.research.google.com/notebooks/data_table.ipynb>data table notebook</a>'\n",
              "          + ' to learn more about interactive tables.';\n",
              "        element.innerHTML = '';\n",
              "        dataTable['output_type'] = 'display_data';\n",
              "        await google.colab.output.renderOutput(dataTable, element);\n",
              "        const docLink = document.createElement('div');\n",
              "        docLink.innerHTML = docLinkHtml;\n",
              "        element.appendChild(docLink);\n",
              "      }\n",
              "    </script>\n",
              "  </div>\n",
              "\n",
              "\n",
              "<div id=\"df-48434743-2cef-442f-86cd-cae14eeee830\">\n",
              "  <button class=\"colab-df-quickchart\" onclick=\"quickchart('df-48434743-2cef-442f-86cd-cae14eeee830')\"\n",
              "            title=\"Suggest charts\"\n",
              "            style=\"display:none;\">\n",
              "\n",
              "<svg xmlns=\"http://www.w3.org/2000/svg\" height=\"24px\"viewBox=\"0 0 24 24\"\n",
              "     width=\"24px\">\n",
              "    <g>\n",
              "        <path d=\"M19 3H5c-1.1 0-2 .9-2 2v14c0 1.1.9 2 2 2h14c1.1 0 2-.9 2-2V5c0-1.1-.9-2-2-2zM9 17H7v-7h2v7zm4 0h-2V7h2v10zm4 0h-2v-4h2v4z\"/>\n",
              "    </g>\n",
              "</svg>\n",
              "  </button>\n",
              "\n",
              "<style>\n",
              "  .colab-df-quickchart {\n",
              "      --bg-color: #E8F0FE;\n",
              "      --fill-color: #1967D2;\n",
              "      --hover-bg-color: #E2EBFA;\n",
              "      --hover-fill-color: #174EA6;\n",
              "      --disabled-fill-color: #AAA;\n",
              "      --disabled-bg-color: #DDD;\n",
              "  }\n",
              "\n",
              "  [theme=dark] .colab-df-quickchart {\n",
              "      --bg-color: #3B4455;\n",
              "      --fill-color: #D2E3FC;\n",
              "      --hover-bg-color: #434B5C;\n",
              "      --hover-fill-color: #FFFFFF;\n",
              "      --disabled-bg-color: #3B4455;\n",
              "      --disabled-fill-color: #666;\n",
              "  }\n",
              "\n",
              "  .colab-df-quickchart {\n",
              "    background-color: var(--bg-color);\n",
              "    border: none;\n",
              "    border-radius: 50%;\n",
              "    cursor: pointer;\n",
              "    display: none;\n",
              "    fill: var(--fill-color);\n",
              "    height: 32px;\n",
              "    padding: 0;\n",
              "    width: 32px;\n",
              "  }\n",
              "\n",
              "  .colab-df-quickchart:hover {\n",
              "    background-color: var(--hover-bg-color);\n",
              "    box-shadow: 0 1px 2px rgba(60, 64, 67, 0.3), 0 1px 3px 1px rgba(60, 64, 67, 0.15);\n",
              "    fill: var(--button-hover-fill-color);\n",
              "  }\n",
              "\n",
              "  .colab-df-quickchart-complete:disabled,\n",
              "  .colab-df-quickchart-complete:disabled:hover {\n",
              "    background-color: var(--disabled-bg-color);\n",
              "    fill: var(--disabled-fill-color);\n",
              "    box-shadow: none;\n",
              "  }\n",
              "\n",
              "  .colab-df-spinner {\n",
              "    border: 2px solid var(--fill-color);\n",
              "    border-color: transparent;\n",
              "    border-bottom-color: var(--fill-color);\n",
              "    animation:\n",
              "      spin 1s steps(1) infinite;\n",
              "  }\n",
              "\n",
              "  @keyframes spin {\n",
              "    0% {\n",
              "      border-color: transparent;\n",
              "      border-bottom-color: var(--fill-color);\n",
              "      border-left-color: var(--fill-color);\n",
              "    }\n",
              "    20% {\n",
              "      border-color: transparent;\n",
              "      border-left-color: var(--fill-color);\n",
              "      border-top-color: var(--fill-color);\n",
              "    }\n",
              "    30% {\n",
              "      border-color: transparent;\n",
              "      border-left-color: var(--fill-color);\n",
              "      border-top-color: var(--fill-color);\n",
              "      border-right-color: var(--fill-color);\n",
              "    }\n",
              "    40% {\n",
              "      border-color: transparent;\n",
              "      border-right-color: var(--fill-color);\n",
              "      border-top-color: var(--fill-color);\n",
              "    }\n",
              "    60% {\n",
              "      border-color: transparent;\n",
              "      border-right-color: var(--fill-color);\n",
              "    }\n",
              "    80% {\n",
              "      border-color: transparent;\n",
              "      border-right-color: var(--fill-color);\n",
              "      border-bottom-color: var(--fill-color);\n",
              "    }\n",
              "    90% {\n",
              "      border-color: transparent;\n",
              "      border-bottom-color: var(--fill-color);\n",
              "    }\n",
              "  }\n",
              "</style>\n",
              "\n",
              "  <script>\n",
              "    async function quickchart(key) {\n",
              "      const quickchartButtonEl =\n",
              "        document.querySelector('#' + key + ' button');\n",
              "      quickchartButtonEl.disabled = true;  // To prevent multiple clicks.\n",
              "      quickchartButtonEl.classList.add('colab-df-spinner');\n",
              "      try {\n",
              "        const charts = await google.colab.kernel.invokeFunction(\n",
              "            'suggestCharts', [key], {});\n",
              "      } catch (error) {\n",
              "        console.error('Error during call to suggestCharts:', error);\n",
              "      }\n",
              "      quickchartButtonEl.classList.remove('colab-df-spinner');\n",
              "      quickchartButtonEl.classList.add('colab-df-quickchart-complete');\n",
              "    }\n",
              "    (() => {\n",
              "      let quickchartButtonEl =\n",
              "        document.querySelector('#df-48434743-2cef-442f-86cd-cae14eeee830 button');\n",
              "      quickchartButtonEl.style.display =\n",
              "        google.colab.kernel.accessAllowed ? 'block' : 'none';\n",
              "    })();\n",
              "  </script>\n",
              "</div>\n",
              "    </div>\n",
              "  </div>\n"
            ],
            "application/vnd.google.colaboratory.intrinsic+json": {
              "type": "dataframe",
              "variable_name": "hr",
              "summary": "{\n  \"name\": \"hr\",\n  \"rows\": 14999,\n  \"fields\": [\n    {\n      \"column\": \"satisfaction_level\",\n      \"properties\": {\n        \"dtype\": \"number\",\n        \"std\": 0.24863065106114257,\n        \"min\": 0.09,\n        \"max\": 1.0,\n        \"num_unique_values\": 92,\n        \"samples\": [\n          0.83,\n          0.13,\n          0.55\n        ],\n        \"semantic_type\": \"\",\n        \"description\": \"\"\n      }\n    },\n    {\n      \"column\": \"last_evaluation\",\n      \"properties\": {\n        \"dtype\": \"number\",\n        \"std\": 0.17116911062327533,\n        \"min\": 0.36,\n        \"max\": 1.0,\n        \"num_unique_values\": 65,\n        \"samples\": [\n          0.66,\n          0.44,\n          0.53\n        ],\n        \"semantic_type\": \"\",\n        \"description\": \"\"\n      }\n    },\n    {\n      \"column\": \"number_project\",\n      \"properties\": {\n        \"dtype\": \"number\",\n        \"std\": 1,\n        \"min\": 2,\n        \"max\": 7,\n        \"num_unique_values\": 6,\n        \"samples\": [\n          2,\n          5,\n          3\n        ],\n        \"semantic_type\": \"\",\n        \"description\": \"\"\n      }\n    },\n    {\n      \"column\": \"average_montly_hours\",\n      \"properties\": {\n        \"dtype\": \"number\",\n        \"std\": 49,\n        \"min\": 96,\n        \"max\": 310,\n        \"num_unique_values\": 215,\n        \"samples\": [\n          118,\n          112,\n          222\n        ],\n        \"semantic_type\": \"\",\n        \"description\": \"\"\n      }\n    },\n    {\n      \"column\": \"time_spend_company\",\n      \"properties\": {\n        \"dtype\": \"number\",\n        \"std\": 1,\n        \"min\": 2,\n        \"max\": 10,\n        \"num_unique_values\": 8,\n        \"samples\": [\n          6,\n          8,\n          3\n        ],\n        \"semantic_type\": \"\",\n        \"description\": \"\"\n      }\n    },\n    {\n      \"column\": \"Work_accident\",\n      \"properties\": {\n        \"dtype\": \"number\",\n        \"std\": 0,\n        \"min\": 0,\n        \"max\": 1,\n        \"num_unique_values\": 2,\n        \"samples\": [\n          1,\n          0\n        ],\n        \"semantic_type\": \"\",\n        \"description\": \"\"\n      }\n    },\n    {\n      \"column\": \"left\",\n      \"properties\": {\n        \"dtype\": \"number\",\n        \"std\": 0,\n        \"min\": 0,\n        \"max\": 1,\n        \"num_unique_values\": 2,\n        \"samples\": [\n          0,\n          1\n        ],\n        \"semantic_type\": \"\",\n        \"description\": \"\"\n      }\n    },\n    {\n      \"column\": \"promotion_last_5years\",\n      \"properties\": {\n        \"dtype\": \"number\",\n        \"std\": 0,\n        \"min\": 0,\n        \"max\": 1,\n        \"num_unique_values\": 2,\n        \"samples\": [\n          1,\n          0\n        ],\n        \"semantic_type\": \"\",\n        \"description\": \"\"\n      }\n    },\n    {\n      \"column\": \"department\",\n      \"properties\": {\n        \"dtype\": \"category\",\n        \"num_unique_values\": 10,\n        \"samples\": [\n          \"marketing\",\n          \"accounting\"\n        ],\n        \"semantic_type\": \"\",\n        \"description\": \"\"\n      }\n    },\n    {\n      \"column\": \"salary\",\n      \"properties\": {\n        \"dtype\": \"category\",\n        \"num_unique_values\": 3,\n        \"samples\": [\n          \"low\",\n          \"medium\"\n        ],\n        \"semantic_type\": \"\",\n        \"description\": \"\"\n      }\n    }\n  ]\n}"
            }
          },
          "metadata": {},
          "execution_count": 60
        }
      ]
    },
    {
      "cell_type": "markdown",
      "source": [
        "2. Рассчитайте основные статистики для переменных\n",
        "(среднее,медиана,мода,мин/макс,сред.отклонение)."
      ],
      "metadata": {
        "id": "Am_3xVM6soc8"
      }
    },
    {
      "cell_type": "code",
      "source": [
        "print(hr['satisfaction_level'].describe())\n",
        "print('медиана', hr['satisfaction_level'].median())"
      ],
      "metadata": {
        "colab": {
          "base_uri": "https://localhost:8080/"
        },
        "id": "7bzPMWU5uE2t",
        "outputId": "4061c2ef-0987-47f3-8952-49b5380d22d6"
      },
      "execution_count": null,
      "outputs": [
        {
          "output_type": "stream",
          "name": "stdout",
          "text": [
            "count    14999.000000\n",
            "mean         0.612834\n",
            "std          0.248631\n",
            "min          0.090000\n",
            "25%          0.440000\n",
            "50%          0.640000\n",
            "75%          0.820000\n",
            "max          1.000000\n",
            "Name: satisfaction_level, dtype: float64\n",
            "медиана 0.64\n"
          ]
        }
      ]
    },
    {
      "cell_type": "code",
      "source": [
        "print(hr['last_evaluation'].describe())\n",
        "print('медиана', hr['last_evaluation'].median())"
      ],
      "metadata": {
        "colab": {
          "base_uri": "https://localhost:8080/"
        },
        "id": "APRCLROtuwet",
        "outputId": "b8e6f877-3f74-4f12-e0de-2ac979ac000a"
      },
      "execution_count": null,
      "outputs": [
        {
          "output_type": "stream",
          "name": "stdout",
          "text": [
            "count    14999.000000\n",
            "mean         0.716102\n",
            "std          0.171169\n",
            "min          0.360000\n",
            "25%          0.560000\n",
            "50%          0.720000\n",
            "75%          0.870000\n",
            "max          1.000000\n",
            "Name: last_evaluation, dtype: float64\n",
            "медиана 0.72\n"
          ]
        }
      ]
    },
    {
      "cell_type": "code",
      "source": [
        "print(hr['number_project'].describe())\n",
        "print('медиана', hr['number_project'].median())"
      ],
      "metadata": {
        "colab": {
          "base_uri": "https://localhost:8080/"
        },
        "id": "8Mjm0VBru6OG",
        "outputId": "2ad6481c-a098-42df-e265-b702a162fb76"
      },
      "execution_count": null,
      "outputs": [
        {
          "output_type": "stream",
          "name": "stdout",
          "text": [
            "count    14999.000000\n",
            "mean         3.803054\n",
            "std          1.232592\n",
            "min          2.000000\n",
            "25%          3.000000\n",
            "50%          4.000000\n",
            "75%          5.000000\n",
            "max          7.000000\n",
            "Name: number_project, dtype: float64\n",
            "медиана 4.0\n"
          ]
        }
      ]
    },
    {
      "cell_type": "code",
      "source": [
        "print(hr['average_montly_hours'].describe())\n",
        "print('медиана', hr['average_montly_hours'].median())"
      ],
      "metadata": {
        "colab": {
          "base_uri": "https://localhost:8080/"
        },
        "id": "Y9NFscShvoST",
        "outputId": "45dee027-1c86-4a7c-c84a-898af8703e2c"
      },
      "execution_count": null,
      "outputs": [
        {
          "output_type": "stream",
          "name": "stdout",
          "text": [
            "count    14999.000000\n",
            "mean       201.050337\n",
            "std         49.943099\n",
            "min         96.000000\n",
            "25%        156.000000\n",
            "50%        200.000000\n",
            "75%        245.000000\n",
            "max        310.000000\n",
            "Name: average_montly_hours, dtype: float64\n",
            "медиана 200.0\n"
          ]
        }
      ]
    },
    {
      "cell_type": "code",
      "source": [
        "print(hr['time_spend_company'].describe())\n",
        "print('медиана', hr['time_spend_company'].median())"
      ],
      "metadata": {
        "colab": {
          "base_uri": "https://localhost:8080/"
        },
        "id": "RdcYake-vzU5",
        "outputId": "b6f3978d-b872-4367-d1d9-adf50918fabf"
      },
      "execution_count": null,
      "outputs": [
        {
          "output_type": "stream",
          "name": "stdout",
          "text": [
            "count    14999.000000\n",
            "mean         3.498233\n",
            "std          1.460136\n",
            "min          2.000000\n",
            "25%          3.000000\n",
            "50%          3.000000\n",
            "75%          4.000000\n",
            "max         10.000000\n",
            "Name: time_spend_company, dtype: float64\n",
            "медиана 3.0\n"
          ]
        }
      ]
    },
    {
      "cell_type": "code",
      "source": [
        "print('мода', hr['Work_accident'].mode()[0])\n",
        "print('распределение по категориям', hr['Work_accident'].value_counts())\n",
        "print('уникальные значения категорий', hr['Work_accident'].unique())"
      ],
      "metadata": {
        "colab": {
          "base_uri": "https://localhost:8080/"
        },
        "id": "ftjCy112wXjk",
        "outputId": "5c7890a9-018b-4425-ef56-9a085dabc406"
      },
      "execution_count": null,
      "outputs": [
        {
          "output_type": "stream",
          "name": "stdout",
          "text": [
            "мода 0\n",
            "распределение по категориям Work_accident\n",
            "0    12830\n",
            "1     2169\n",
            "Name: count, dtype: int64\n",
            "уникальные значения категорий [0 1]\n"
          ]
        }
      ]
    },
    {
      "cell_type": "code",
      "source": [
        "print('мода', hr['left'].mode()[0])\n",
        "print('распределение по категориям', hr['left'].value_counts())\n",
        "print('уникальные значения категорий', hr['left'].unique())"
      ],
      "metadata": {
        "colab": {
          "base_uri": "https://localhost:8080/"
        },
        "id": "fKn1nsmdwnPG",
        "outputId": "5c4dd6b6-9513-420c-a04f-95226a425a80"
      },
      "execution_count": null,
      "outputs": [
        {
          "output_type": "stream",
          "name": "stdout",
          "text": [
            "мода 0\n",
            "распределение по категориям left\n",
            "0    11428\n",
            "1     3571\n",
            "Name: count, dtype: int64\n",
            "уникальные значения категорий [1 0]\n"
          ]
        }
      ]
    },
    {
      "cell_type": "code",
      "source": [
        "print('мода', hr['promotion_last_5years'].mode()[0])\n",
        "print('распределение по категориям', hr['promotion_last_5years'].value_counts())\n",
        "print('уникальные значения категорий', hr['promotion_last_5years'].unique())"
      ],
      "metadata": {
        "colab": {
          "base_uri": "https://localhost:8080/"
        },
        "id": "feRSJdy8wwY1",
        "outputId": "b5f5bdcd-aac2-4d04-bf4e-efc5212a1400"
      },
      "execution_count": null,
      "outputs": [
        {
          "output_type": "stream",
          "name": "stdout",
          "text": [
            "мода 0\n",
            "распределение по категориям promotion_last_5years\n",
            "0    14680\n",
            "1      319\n",
            "Name: count, dtype: int64\n",
            "уникальные значения категорий [0 1]\n"
          ]
        }
      ]
    },
    {
      "cell_type": "code",
      "source": [
        "print('мода', hr['department'].mode()[0])\n",
        "print('распределение по категориям', hr['department'].value_counts())\n",
        "print('уникальные значения категорий', hr['department'].unique())"
      ],
      "metadata": {
        "colab": {
          "base_uri": "https://localhost:8080/"
        },
        "id": "1YqwQsiOw8QN",
        "outputId": "40e84d9f-1c8b-4233-f169-895fbcfddaec"
      },
      "execution_count": null,
      "outputs": [
        {
          "output_type": "stream",
          "name": "stdout",
          "text": [
            "мода sales\n",
            "распределение по категориям department\n",
            "sales          4140\n",
            "technical      2720\n",
            "support        2229\n",
            "IT             1227\n",
            "product_mng     902\n",
            "marketing       858\n",
            "RandD           787\n",
            "accounting      767\n",
            "hr              739\n",
            "management      630\n",
            "Name: count, dtype: int64\n",
            "уникальные значения категорий ['sales' 'accounting' 'hr' 'technical' 'support' 'management' 'IT'\n",
            " 'product_mng' 'marketing' 'RandD']\n"
          ]
        }
      ]
    },
    {
      "cell_type": "code",
      "source": [
        "print('мода', hr['salary'].mode()[0])\n",
        "print('распределение по категориям', hr['salary'].value_counts())\n",
        "print('уникальные значения категорий', hr['salary'].unique())"
      ],
      "metadata": {
        "colab": {
          "base_uri": "https://localhost:8080/"
        },
        "id": "YmWHoh0txMPt",
        "outputId": "2ecdc7e7-b316-42c5-fc18-713f31191333"
      },
      "execution_count": null,
      "outputs": [
        {
          "output_type": "stream",
          "name": "stdout",
          "text": [
            "мода low\n",
            "распределение по категориям salary\n",
            "low       7316\n",
            "medium    6446\n",
            "high      1237\n",
            "Name: count, dtype: int64\n",
            "уникальные значения категорий ['low' 'medium' 'high']\n"
          ]
        }
      ]
    },
    {
      "cell_type": "markdown",
      "source": [
        "3. Рассчитайте и визуализируйте корреляционную матрицу для\n",
        "количественных переменных.\n",
        "Определите две самые скоррелированные и две наименее\n",
        "скоррелированные переменные."
      ],
      "metadata": {
        "id": "t4f7p9uwxZDf"
      }
    },
    {
      "cell_type": "code",
      "source": [
        "corr_hr = hr[['satisfaction_level', 'last_evaluation', 'number_project', 'average_montly_hours', 'time_spend_company']].corr()\n",
        "corr_hr"
      ],
      "metadata": {
        "colab": {
          "base_uri": "https://localhost:8080/",
          "height": 206
        },
        "id": "M3Ued6PExcA3",
        "outputId": "30d40423-eaed-49b8-fafe-8da94fb6195f"
      },
      "execution_count": null,
      "outputs": [
        {
          "output_type": "execute_result",
          "data": {
            "text/plain": [
              "                      satisfaction_level  last_evaluation  number_project  \\\n",
              "satisfaction_level              1.000000         0.105021       -0.142970   \n",
              "last_evaluation                 0.105021         1.000000        0.349333   \n",
              "number_project                 -0.142970         0.349333        1.000000   \n",
              "average_montly_hours           -0.020048         0.339742        0.417211   \n",
              "time_spend_company             -0.100866         0.131591        0.196786   \n",
              "\n",
              "                      average_montly_hours  time_spend_company  \n",
              "satisfaction_level               -0.020048           -0.100866  \n",
              "last_evaluation                   0.339742            0.131591  \n",
              "number_project                    0.417211            0.196786  \n",
              "average_montly_hours              1.000000            0.127755  \n",
              "time_spend_company                0.127755            1.000000  "
            ],
            "text/html": [
              "\n",
              "  <div id=\"df-1c7be138-886c-42a9-9be4-dc8181a44bc0\" class=\"colab-df-container\">\n",
              "    <div>\n",
              "<style scoped>\n",
              "    .dataframe tbody tr th:only-of-type {\n",
              "        vertical-align: middle;\n",
              "    }\n",
              "\n",
              "    .dataframe tbody tr th {\n",
              "        vertical-align: top;\n",
              "    }\n",
              "\n",
              "    .dataframe thead th {\n",
              "        text-align: right;\n",
              "    }\n",
              "</style>\n",
              "<table border=\"1\" class=\"dataframe\">\n",
              "  <thead>\n",
              "    <tr style=\"text-align: right;\">\n",
              "      <th></th>\n",
              "      <th>satisfaction_level</th>\n",
              "      <th>last_evaluation</th>\n",
              "      <th>number_project</th>\n",
              "      <th>average_montly_hours</th>\n",
              "      <th>time_spend_company</th>\n",
              "    </tr>\n",
              "  </thead>\n",
              "  <tbody>\n",
              "    <tr>\n",
              "      <th>satisfaction_level</th>\n",
              "      <td>1.000000</td>\n",
              "      <td>0.105021</td>\n",
              "      <td>-0.142970</td>\n",
              "      <td>-0.020048</td>\n",
              "      <td>-0.100866</td>\n",
              "    </tr>\n",
              "    <tr>\n",
              "      <th>last_evaluation</th>\n",
              "      <td>0.105021</td>\n",
              "      <td>1.000000</td>\n",
              "      <td>0.349333</td>\n",
              "      <td>0.339742</td>\n",
              "      <td>0.131591</td>\n",
              "    </tr>\n",
              "    <tr>\n",
              "      <th>number_project</th>\n",
              "      <td>-0.142970</td>\n",
              "      <td>0.349333</td>\n",
              "      <td>1.000000</td>\n",
              "      <td>0.417211</td>\n",
              "      <td>0.196786</td>\n",
              "    </tr>\n",
              "    <tr>\n",
              "      <th>average_montly_hours</th>\n",
              "      <td>-0.020048</td>\n",
              "      <td>0.339742</td>\n",
              "      <td>0.417211</td>\n",
              "      <td>1.000000</td>\n",
              "      <td>0.127755</td>\n",
              "    </tr>\n",
              "    <tr>\n",
              "      <th>time_spend_company</th>\n",
              "      <td>-0.100866</td>\n",
              "      <td>0.131591</td>\n",
              "      <td>0.196786</td>\n",
              "      <td>0.127755</td>\n",
              "      <td>1.000000</td>\n",
              "    </tr>\n",
              "  </tbody>\n",
              "</table>\n",
              "</div>\n",
              "    <div class=\"colab-df-buttons\">\n",
              "\n",
              "  <div class=\"colab-df-container\">\n",
              "    <button class=\"colab-df-convert\" onclick=\"convertToInteractive('df-1c7be138-886c-42a9-9be4-dc8181a44bc0')\"\n",
              "            title=\"Convert this dataframe to an interactive table.\"\n",
              "            style=\"display:none;\">\n",
              "\n",
              "  <svg xmlns=\"http://www.w3.org/2000/svg\" height=\"24px\" viewBox=\"0 -960 960 960\">\n",
              "    <path d=\"M120-120v-720h720v720H120Zm60-500h600v-160H180v160Zm220 220h160v-160H400v160Zm0 220h160v-160H400v160ZM180-400h160v-160H180v160Zm440 0h160v-160H620v160ZM180-180h160v-160H180v160Zm440 0h160v-160H620v160Z\"/>\n",
              "  </svg>\n",
              "    </button>\n",
              "\n",
              "  <style>\n",
              "    .colab-df-container {\n",
              "      display:flex;\n",
              "      gap: 12px;\n",
              "    }\n",
              "\n",
              "    .colab-df-convert {\n",
              "      background-color: #E8F0FE;\n",
              "      border: none;\n",
              "      border-radius: 50%;\n",
              "      cursor: pointer;\n",
              "      display: none;\n",
              "      fill: #1967D2;\n",
              "      height: 32px;\n",
              "      padding: 0 0 0 0;\n",
              "      width: 32px;\n",
              "    }\n",
              "\n",
              "    .colab-df-convert:hover {\n",
              "      background-color: #E2EBFA;\n",
              "      box-shadow: 0px 1px 2px rgba(60, 64, 67, 0.3), 0px 1px 3px 1px rgba(60, 64, 67, 0.15);\n",
              "      fill: #174EA6;\n",
              "    }\n",
              "\n",
              "    .colab-df-buttons div {\n",
              "      margin-bottom: 4px;\n",
              "    }\n",
              "\n",
              "    [theme=dark] .colab-df-convert {\n",
              "      background-color: #3B4455;\n",
              "      fill: #D2E3FC;\n",
              "    }\n",
              "\n",
              "    [theme=dark] .colab-df-convert:hover {\n",
              "      background-color: #434B5C;\n",
              "      box-shadow: 0px 1px 3px 1px rgba(0, 0, 0, 0.15);\n",
              "      filter: drop-shadow(0px 1px 2px rgba(0, 0, 0, 0.3));\n",
              "      fill: #FFFFFF;\n",
              "    }\n",
              "  </style>\n",
              "\n",
              "    <script>\n",
              "      const buttonEl =\n",
              "        document.querySelector('#df-1c7be138-886c-42a9-9be4-dc8181a44bc0 button.colab-df-convert');\n",
              "      buttonEl.style.display =\n",
              "        google.colab.kernel.accessAllowed ? 'block' : 'none';\n",
              "\n",
              "      async function convertToInteractive(key) {\n",
              "        const element = document.querySelector('#df-1c7be138-886c-42a9-9be4-dc8181a44bc0');\n",
              "        const dataTable =\n",
              "          await google.colab.kernel.invokeFunction('convertToInteractive',\n",
              "                                                    [key], {});\n",
              "        if (!dataTable) return;\n",
              "\n",
              "        const docLinkHtml = 'Like what you see? Visit the ' +\n",
              "          '<a target=\"_blank\" href=https://colab.research.google.com/notebooks/data_table.ipynb>data table notebook</a>'\n",
              "          + ' to learn more about interactive tables.';\n",
              "        element.innerHTML = '';\n",
              "        dataTable['output_type'] = 'display_data';\n",
              "        await google.colab.output.renderOutput(dataTable, element);\n",
              "        const docLink = document.createElement('div');\n",
              "        docLink.innerHTML = docLinkHtml;\n",
              "        element.appendChild(docLink);\n",
              "      }\n",
              "    </script>\n",
              "  </div>\n",
              "\n",
              "\n",
              "<div id=\"df-08fc0c87-acd4-41e0-8821-1fdcdf3dc48e\">\n",
              "  <button class=\"colab-df-quickchart\" onclick=\"quickchart('df-08fc0c87-acd4-41e0-8821-1fdcdf3dc48e')\"\n",
              "            title=\"Suggest charts\"\n",
              "            style=\"display:none;\">\n",
              "\n",
              "<svg xmlns=\"http://www.w3.org/2000/svg\" height=\"24px\"viewBox=\"0 0 24 24\"\n",
              "     width=\"24px\">\n",
              "    <g>\n",
              "        <path d=\"M19 3H5c-1.1 0-2 .9-2 2v14c0 1.1.9 2 2 2h14c1.1 0 2-.9 2-2V5c0-1.1-.9-2-2-2zM9 17H7v-7h2v7zm4 0h-2V7h2v10zm4 0h-2v-4h2v4z\"/>\n",
              "    </g>\n",
              "</svg>\n",
              "  </button>\n",
              "\n",
              "<style>\n",
              "  .colab-df-quickchart {\n",
              "      --bg-color: #E8F0FE;\n",
              "      --fill-color: #1967D2;\n",
              "      --hover-bg-color: #E2EBFA;\n",
              "      --hover-fill-color: #174EA6;\n",
              "      --disabled-fill-color: #AAA;\n",
              "      --disabled-bg-color: #DDD;\n",
              "  }\n",
              "\n",
              "  [theme=dark] .colab-df-quickchart {\n",
              "      --bg-color: #3B4455;\n",
              "      --fill-color: #D2E3FC;\n",
              "      --hover-bg-color: #434B5C;\n",
              "      --hover-fill-color: #FFFFFF;\n",
              "      --disabled-bg-color: #3B4455;\n",
              "      --disabled-fill-color: #666;\n",
              "  }\n",
              "\n",
              "  .colab-df-quickchart {\n",
              "    background-color: var(--bg-color);\n",
              "    border: none;\n",
              "    border-radius: 50%;\n",
              "    cursor: pointer;\n",
              "    display: none;\n",
              "    fill: var(--fill-color);\n",
              "    height: 32px;\n",
              "    padding: 0;\n",
              "    width: 32px;\n",
              "  }\n",
              "\n",
              "  .colab-df-quickchart:hover {\n",
              "    background-color: var(--hover-bg-color);\n",
              "    box-shadow: 0 1px 2px rgba(60, 64, 67, 0.3), 0 1px 3px 1px rgba(60, 64, 67, 0.15);\n",
              "    fill: var(--button-hover-fill-color);\n",
              "  }\n",
              "\n",
              "  .colab-df-quickchart-complete:disabled,\n",
              "  .colab-df-quickchart-complete:disabled:hover {\n",
              "    background-color: var(--disabled-bg-color);\n",
              "    fill: var(--disabled-fill-color);\n",
              "    box-shadow: none;\n",
              "  }\n",
              "\n",
              "  .colab-df-spinner {\n",
              "    border: 2px solid var(--fill-color);\n",
              "    border-color: transparent;\n",
              "    border-bottom-color: var(--fill-color);\n",
              "    animation:\n",
              "      spin 1s steps(1) infinite;\n",
              "  }\n",
              "\n",
              "  @keyframes spin {\n",
              "    0% {\n",
              "      border-color: transparent;\n",
              "      border-bottom-color: var(--fill-color);\n",
              "      border-left-color: var(--fill-color);\n",
              "    }\n",
              "    20% {\n",
              "      border-color: transparent;\n",
              "      border-left-color: var(--fill-color);\n",
              "      border-top-color: var(--fill-color);\n",
              "    }\n",
              "    30% {\n",
              "      border-color: transparent;\n",
              "      border-left-color: var(--fill-color);\n",
              "      border-top-color: var(--fill-color);\n",
              "      border-right-color: var(--fill-color);\n",
              "    }\n",
              "    40% {\n",
              "      border-color: transparent;\n",
              "      border-right-color: var(--fill-color);\n",
              "      border-top-color: var(--fill-color);\n",
              "    }\n",
              "    60% {\n",
              "      border-color: transparent;\n",
              "      border-right-color: var(--fill-color);\n",
              "    }\n",
              "    80% {\n",
              "      border-color: transparent;\n",
              "      border-right-color: var(--fill-color);\n",
              "      border-bottom-color: var(--fill-color);\n",
              "    }\n",
              "    90% {\n",
              "      border-color: transparent;\n",
              "      border-bottom-color: var(--fill-color);\n",
              "    }\n",
              "  }\n",
              "</style>\n",
              "\n",
              "  <script>\n",
              "    async function quickchart(key) {\n",
              "      const quickchartButtonEl =\n",
              "        document.querySelector('#' + key + ' button');\n",
              "      quickchartButtonEl.disabled = true;  // To prevent multiple clicks.\n",
              "      quickchartButtonEl.classList.add('colab-df-spinner');\n",
              "      try {\n",
              "        const charts = await google.colab.kernel.invokeFunction(\n",
              "            'suggestCharts', [key], {});\n",
              "      } catch (error) {\n",
              "        console.error('Error during call to suggestCharts:', error);\n",
              "      }\n",
              "      quickchartButtonEl.classList.remove('colab-df-spinner');\n",
              "      quickchartButtonEl.classList.add('colab-df-quickchart-complete');\n",
              "    }\n",
              "    (() => {\n",
              "      let quickchartButtonEl =\n",
              "        document.querySelector('#df-08fc0c87-acd4-41e0-8821-1fdcdf3dc48e button');\n",
              "      quickchartButtonEl.style.display =\n",
              "        google.colab.kernel.accessAllowed ? 'block' : 'none';\n",
              "    })();\n",
              "  </script>\n",
              "</div>\n",
              "    </div>\n",
              "  </div>\n"
            ],
            "application/vnd.google.colaboratory.intrinsic+json": {
              "type": "dataframe",
              "variable_name": "corr_hr",
              "summary": "{\n  \"name\": \"corr_hr\",\n  \"rows\": 5,\n  \"fields\": [\n    {\n      \"column\": \"satisfaction_level\",\n      \"properties\": {\n        \"dtype\": \"number\",\n        \"std\": 0.474484775847331,\n        \"min\": -0.14296958603690096,\n        \"max\": 1.0,\n        \"num_unique_values\": 5,\n        \"samples\": [\n          0.10502121397148648,\n          -0.10086607257796669,\n          -0.14296958603690096\n        ],\n        \"semantic_type\": \"\",\n        \"description\": \"\"\n      }\n    },\n    {\n      \"column\": \"last_evaluation\",\n      \"properties\": {\n        \"dtype\": \"number\",\n        \"std\": 0.3619909381776988,\n        \"min\": 0.10502121397148648,\n        \"max\": 1.0,\n        \"num_unique_values\": 5,\n        \"samples\": [\n          1.0,\n          0.13159072244765863,\n          0.34933258851626237\n        ],\n        \"semantic_type\": \"\",\n        \"description\": \"\"\n      }\n    },\n    {\n      \"column\": \"number_project\",\n      \"properties\": {\n        \"dtype\": \"number\",\n        \"std\": 0.4160892927148713,\n        \"min\": -0.14296958603690096,\n        \"max\": 1.0,\n        \"num_unique_values\": 5,\n        \"samples\": [\n          0.34933258851626237,\n          0.1967858912637905,\n          1.0\n        ],\n        \"semantic_type\": \"\",\n        \"description\": \"\"\n      }\n    },\n    {\n      \"column\": \"average_montly_hours\",\n      \"properties\": {\n        \"dtype\": \"number\",\n        \"std\": 0.39077539525428034,\n        \"min\": -0.020048113219472644,\n        \"max\": 1.0,\n        \"num_unique_values\": 5,\n        \"samples\": [\n          0.3397417998383594,\n          0.1277549103618603,\n          0.41721063440177986\n        ],\n        \"semantic_type\": \"\",\n        \"description\": \"\"\n      }\n    },\n    {\n      \"column\": \"time_spend_company\",\n      \"properties\": {\n        \"dtype\": \"number\",\n        \"std\": 0.42284370580341996,\n        \"min\": -0.10086607257796669,\n        \"max\": 1.0,\n        \"num_unique_values\": 5,\n        \"samples\": [\n          0.13159072244765863,\n          1.0,\n          0.1967858912637905\n        ],\n        \"semantic_type\": \"\",\n        \"description\": \"\"\n      }\n    }\n  ]\n}"
            }
          },
          "metadata": {},
          "execution_count": 13
        }
      ]
    },
    {
      "cell_type": "code",
      "source": [
        "plt.figure(figsize=[8,5])\n",
        "sns.heatmap(corr_hr, annot=True, cmap='Blues')\n",
        "plt.title(\"Матрица корреляции Пирсона\")\n",
        "plt.show()"
      ],
      "metadata": {
        "colab": {
          "base_uri": "https://localhost:8080/",
          "height": 612
        },
        "id": "iJMBq5SKznXJ",
        "outputId": "5f98ee55-1107-4096-df9e-f9dd1c056ec5"
      },
      "execution_count": null,
      "outputs": [
        {
          "output_type": "display_data",
          "data": {
            "text/plain": [
              "<Figure size 800x500 with 2 Axes>"
            ],
            "image/png": "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\n"
          },
          "metadata": {}
        }
      ]
    },
    {
      "cell_type": "markdown",
      "source": [
        "Две наименее скоррелированные переменные: satisfaction_level и average_montly_hours\n",
        "\n",
        "Две самые скоррелированные переменные: number_project и average_montly_hours"
      ],
      "metadata": {
        "id": "nJBneKNR3CAF"
      }
    },
    {
      "cell_type": "markdown",
      "source": [
        "4. Рассчитайте сколько сотрудников работает в каждом\n",
        "департаменте."
      ],
      "metadata": {
        "id": "89Tk509j31yU"
      }
    },
    {
      "cell_type": "code",
      "source": [
        "# действующие сотрудники\n",
        "hr_noleft = hr[hr['left'] == 0]"
      ],
      "metadata": {
        "id": "aK5jHPp24McY"
      },
      "execution_count": null,
      "outputs": []
    },
    {
      "cell_type": "code",
      "source": [
        "hr_noleft['department'].value_counts()"
      ],
      "metadata": {
        "colab": {
          "base_uri": "https://localhost:8080/"
        },
        "id": "-Mp19nUEN8iu",
        "outputId": "81fa7333-fc31-449c-c953-fc8df3599836"
      },
      "execution_count": null,
      "outputs": [
        {
          "output_type": "execute_result",
          "data": {
            "text/plain": [
              "department\n",
              "sales          3126\n",
              "technical      2023\n",
              "support        1674\n",
              "IT              954\n",
              "product_mng     704\n",
              "RandD           666\n",
              "marketing       655\n",
              "accounting      563\n",
              "management      539\n",
              "hr              524\n",
              "Name: count, dtype: int64"
            ]
          },
          "metadata": {},
          "execution_count": 48
        }
      ]
    },
    {
      "cell_type": "markdown",
      "source": [
        "5. Показать распределение сотрудников по зарплатам."
      ],
      "metadata": {
        "id": "YR_UAIwk6BXa"
      }
    },
    {
      "cell_type": "code",
      "source": [
        "sns.countplot(data=hr_noleft, x='salary')\n",
        "plt.title(\"Распределение сотрудников по зарплатам\")\n",
        "plt.ylabel(\"Количество\")\n",
        "plt.show()"
      ],
      "metadata": {
        "colab": {
          "base_uri": "https://localhost:8080/",
          "height": 472
        },
        "id": "kveGcY_q6FNp",
        "outputId": "50abdab4-717b-4226-bf65-aa14181c9657"
      },
      "execution_count": null,
      "outputs": [
        {
          "output_type": "display_data",
          "data": {
            "text/plain": [
              "<Figure size 640x480 with 1 Axes>"
            ],
            "image/png": "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\n"
          },
          "metadata": {}
        }
      ]
    },
    {
      "cell_type": "markdown",
      "source": [
        "6. Показать распределение сотрудников по зарплатам в каждом\n",
        "департаменте по отдельности\n"
      ],
      "metadata": {
        "id": "F9X6BIwp65yQ"
      }
    },
    {
      "cell_type": "code",
      "source": [
        "hr.groupby('department')['salary'].value_counts().plot(\n",
        "    kind=\"bar\",\n",
        "    figsize=(10, 5),\n",
        "    title=\"Распределение сотрудников по зарплатам в каждом департаменте по отдельности\")"
      ],
      "metadata": {
        "colab": {
          "base_uri": "https://localhost:8080/",
          "height": 661
        },
        "id": "yVQe-B6p69Jz",
        "outputId": "c15cdce3-ad3b-4cb4-bde3-77cdfa7d12e7"
      },
      "execution_count": null,
      "outputs": [
        {
          "output_type": "execute_result",
          "data": {
            "text/plain": [
              "<Axes: title={'center': 'Распределение сотрудников по зарплатам в каждом департаменте по отдельности'}, xlabel='department,salary'>"
            ]
          },
          "metadata": {},
          "execution_count": 17
        },
        {
          "output_type": "display_data",
          "data": {
            "text/plain": [
              "<Figure size 1000x500 with 1 Axes>"
            ],
            "image/png": "iVBORw0KGgoAAAANSUhEUgAAA0cAAAJyCAYAAAAPerspAAAAOXRFWHRTb2Z0d2FyZQBNYXRwbG90bGliIHZlcnNpb24zLjcuMSwgaHR0cHM6Ly9tYXRwbG90bGliLm9yZy/bCgiHAAAACXBIWXMAAA9hAAAPYQGoP6dpAAD8OElEQVR4nOzdZ1QUyds28GsAiQoICogiIObsmhOKicWcdXUVc1hzRHeNGNcc/4Z1FV1zdteAWTFgFnNABDMYAQUFgXo/+E4/DDMgMD2D4vU7Z86B7p6q6lRd93RXtUIIIUBERERERPSDM8jqAhAREREREX0LGBwRERERERGBwREREREREREABkdEREREREQAGBwREREREREBYHBEREREREQEgMERERERERERAAZHREREREREABgcERERERERAWBwREREREREBIDBUZr8/PygUCikj6mpKYoWLYqBAwciIiIiq4tHREREREQyMsrqAnwPfH194erqik+fPuH06dNYtmwZ9u/fj5s3b8Lc3Dyri0dERERERDJgcJQOXl5eqFSpEgCgV69esLW1xbx587Bnzx788ssvWVw6IiIiIiKSAx+ry4R69eoBAEJDQwEAb9++xciRI1GmTBnkzJkTlpaW8PLywrVr19S+++nTJ0yaNAlFixaFqakp8uXLh9atWyMkJAQAEBYWpvIoX8pP3bp1pbROnDgBhUKBLVu24Pfff4eDgwMsLCzQvHlzPHnyRC3v8+fP4+eff4aVlRXMzc1Rp04dnDlzRuM61q1bV2P+kyZNUlt2/fr1qFixIszMzGBjY4OOHTtqzD+tdUsuKSkJCxYsQKlSpWBqagp7e3v07dsX7969U1nOxcUFTZs2Vctn4MCBamlqKvvs2bPVtikAxMXFYeLEiShcuDBMTEzg5OSE0aNHIy4uTuO2Sun8+fNo3LgxcufODQsLC5QtWxYLFy5UWebYsWOoXbs2LCwsYG1tjRYtWuDOnTvS/EmTJqV5HCgUCpw4cQLAl31VunRpXL58GTVq1ICZmRlcXV2xfPlyKb0PHz7AwsICQ4YMUSvv06dPYWhoiBkzZqhM79atm8Z8u3XrprKcLvaD8thWriMAPH/+HC4uLqhUqRI+fPggTX/58iV69uwJe3t7mJqaoly5cli7dq1KHimPvRw5csDFxQWjRo1CfHy8WtnT+m5a52R6y5OaFi1awMXFBaamprCzs0Pz5s1x48YNlWXWrFmDevXqwc7ODiYmJihZsiSWLVumlpZyvxw6dAjly5eHqakpSpYsiZ07d6osl/Lx4fSc8y4uLmkekwCwZ88eNGnSBI6OjjAxMYGbmxumTJmCxMREaZnU6hlNdUNG1luhUGDo0KFq8zw9PaFQKDQeryklL4OhoSHy58+PPn36IDIyMl3fTb7dEhIS0LhxY9jY2OD27dsZWqfIyEiUKFECVapUwcePH6Xp3bp1g4uLi8qyAwcORM6cOXHlyhWV6Wkdw2FhYSrLPnz4EO3atYONjQ3Mzc1RrVo17Nu3T2UZ5fmpUCgQFBSkMu/Zs2cwNDSEQqHA9u3bv7qtlOuSnroGAA4cOCDVnbly5UKTJk1w69atdKWn6Tg9deoU2rVrh4IFC0r1/bBhw1S2tTLNnDlz4uHDh/D09ISFhQUcHR3h6+sLIcRXt3PKdUpvuyGz2/ru3bto27YtbGxsYGpqikqVKuHff/9VWUZ57l+6dEll+uvXr1WO4Yxcj4CMtTVSW9f0HA/pOVZTk5CQgClTpsDNzQ0mJiZwcXHB77//rnKdT62eU35Snn+p1aUplwPSt3+UUqsn/fz8VJYpXbr0V9dboVBg4MCBatObNm2qVs6YmBiMGDECTk5OMDExQbFixTBnzhzpeE9u/fr1qFKlCszNzZE7d264u7vj0KFDANK/HZXnT/L1AoABAwakWh/oCu8cZYIykLG1tQXw5QTdvXs32rVrB1dXV0RERGDFihWoU6cObt++DUdHRwBAYmIimjZtiqNHj6Jjx44YMmQI3r9/j8OHD+PmzZtwc3OT8vjll1/QuHFjlXzHjh2rsTzTpk2DQqGAj48PXr58iQULFqBBgwYICgqCmZkZgC+NcS8vL1SsWBETJ06EgYGBdGE+deoUqlSpopZugQIFpAbzhw8f0L9/f415jx8/Hu3bt0evXr3w6tUrLF68GO7u7rh69Sqsra3VvtOnTx/Url0bALBz507s2rVLZX7fvn3h5+eH7t27Y/DgwQgNDcWSJUtw9epVnDlzBjly5NC4HTIiMjJSLRgAvgRmzZs3x+nTp9GnTx+UKFECN27cwPz583H//n3s3r07zXQPHz6Mpk2bIl++fBgyZAgcHBxw584d7N27VwpMjhw5Ai8vLxQqVAiTJk3Cx48fsXjxYtSsWRNXrlyBi4sLWrdujcKFC0vpDhs2DCVKlECfPn2kaSVKlJD+fvfuHRo3boz27dvjl19+wdatW9G/f38YGxujR48eyJkzJ1q1aoUtW7Zg3rx5MDQ0lL67adMmCCHQuXNntfUxMTHBqlWrpP979er19Y2bAanth5SioqLg5eWFHDlyYP/+/ciZMycA4OPHj6hbty4ePHiAgQMHwtXVFdu2bUO3bt0QGRmpFgwqj724uDgcPHgQc+bMgampKaZMmfLVMqTnnMxoeTTp06cPHBwc8Pz5cyxZsgQNGjRAaGio9AjvsmXLUKpUKTRv3hxGRkb477//8NtvvyEpKQkDBgxQSSs4OBgdOnRAv3794O3tjTVr1qBdu3bw9/dHw4YNVZZVPj6slNo5r1S7dm3peLxz5w6mT5+uMt/Pzw85c+bE8OHDkTNnThw7dgwTJkxAdHQ0Zs+eDQD4448/pGPq9evXGDZsmEr9kFxG1tvU1BQbNmzA7Nmzpfri6dOnOHr0KExNTVPf+Cm0atUKrVu3RkJCAgIDA7Fy5Up8/PgR//zzT7rTAL6cNydOnMDhw4dRsmTJDK2TtbU19u7di2rVqsHb2xtbtmxR+9EBABYvXoxly5Zh586d+OmnnzSWI/kxvH//fmzatEllfkREBGrUqIHY2FgMHjwYtra2WLt2LZo3b47t27ejVatWKsubmppizZo1Kj/+rF27FsbGxvj06VOGtlF66pp//vkH3t7e8PT0xJ9//onY2FgsW7YMtWrVwtWrV1UadynTA4CLFy9i0aJFKtO2bduG2NhY9O/fH7a2trhw4QIWL16Mp0+fYtu2bSrLJiYm4ueff0a1atUwa9Ys+Pv7Y+LEiUhISICvry/y5s2rcmwor2/Jpymv8+ltNyhlZFvfunULNWvWRP78+TFmzBhYWFhg69ataNmyJXbs2KG2H78mI9ejzLQ1Uho8eDAqV66sMi3l8ZDRYzWlXr16Ye3atWjbti1GjBiB8+fPY8aMGbhz547UJlmwYIH0Q5yyjvv999+ldVVeh1JKXpfOnTtX7YfdzOyf4sWL448//gDwf3WlLgkh0Lx5cxw/fhw9e/ZE+fLlcfDgQYwaNQrPnj3D/PnzpWUnT56MSZMmoUaNGvD19YWxsTHOnz+PY8eOoVGjRpnejgDw4MED/PXXXzpdV40EpWrNmjUCgDhy5Ih49eqVePLkidi8ebOwtbUVZmZm4unTp0IIIT59+iQSExNVvhsaGipMTEyEr6+vNG316tUCgJg3b55aXklJSdL3AIjZs2erLVOqVClRp04d6f/jx48LACJ//vwiOjpamr5161YBQCxcuFBKu0iRIsLT01PKRwghYmNjhaurq2jYsKFaXjVq1BClS5eW/n/16pUAICZOnChNCwsLE4aGhmLatGkq371x44YwMjJSmx4cHCwAiLVr10rTJk6cKJIfhqdOnRIAxIYNG1S+6+/vrzbd2dlZNGnSRK3sAwYMECkP7ZRlHz16tLCzsxMVK1ZU2ab//POPMDAwEKdOnVL5/vLlywUAcebMGbX8lBISEoSrq6twdnYW7969U5mXfLuXL19e2NnZiTdv3kjTrl27JgwMDETXrl01pu3s7Cy8vb01zqtTp44AIObOnStNi4uLk/KJj48XQghx8OBBAUAcOHBA5ftly5ZV2QZKnTp1Ejlz5lSZZmFhoVYOXewH5bF9/Phx8enTJ1G3bl1hZ2cnHjx4oJLeggULBACxfv16aVp8fLyoXr26yJkzp3ReKM+rNWvWqHzf0dFRNG7cWK3syWXknExvedJLeS5funRJmhYbG6u2nKenpyhUqJDKNGdnZwFA7NixQ5oWFRUl8uXLJypUqCBNU9ZzFy9eVPm+pnNeKX/+/KJ79+7S/8n3V1rl7Nu3rzA3NxefPn1Sm5faPkorvdTWu2HDhiJPnjxi+/bt0vQpU6aIGjVqpHq8pqRp3WvUqCFKliyZoe+OHTtWGBoait27d2d6nYT4UjeamJiIP/74QwghhLe3t3B2dhZCCHHgwAFhaGio8RgVQoj79+8LAGLOnDnStNmzZwsAIjQ0VJo2dOhQAUCl/nv//r1wdXUVLi4u0nVOub9/+eUXYWtrK+Li4qTlixQpIjp16iQAiG3btqWyhVSlp655//69sLa2Fr1791ZZLjw8XFhZWalM9/b2FhYWFmr5bNu2LV3H6YwZM4RCoRCPHj1SSROAGDRokDQtKSlJNGnSRBgbG4tXr16ppZPy+pZcetsNmdnW9evXF2XKlFE5z5KSkkSNGjVEkSJFpGmZOfeFSP16lJm2RnLKddV03KQ8HtJ7rGoSFBQkAIhevXqpTB85cqQAII4dO5Zq2ZIfOymtXLlSrb5u0qSJdJ4qpXf/KNWsWVN4eHhI/2uqK+vUqSNKlSqVatmUAIgBAwaoTU9Zzt27dwsAYurUqSrLtW3bVigUCulaHBwcLAwMDESrVq3UtnnyY0Apre2oab3at28vSpcuLZycnFJtA+kCH6tLhwYNGiBv3rxwcnJCx44dkTNnTuzatQv58+cH8OUXKgODL5syMTERb968Qc6cOVGsWDGVxxt27NiBPHnyYNCgQWp5aPolML26du2KXLlySf+3bdsW+fLlw/79+wEAQUFBCA4ORqdOnfDmzRu8fv0ar1+/RkxMDOrXr4+AgAAkJSWppPnp06ev/sK6c+dOJCUloX379lKar1+/hoODA4oUKYLjx4+rLK98fMnExCTVNLdt2wYrKys0bNhQJc2KFSsiZ86caml+/vxZZbnXr19/9RfLZ8+eYfHixRg/frzaLxbbtm1DiRIlULx4cZU0lY9Spsw/uatXryI0NBRDhw5Vu2Om3L8vXrxAUFAQunXrBhsbG2l+2bJl0bBhQ2mfZZSRkRH69u0r/W9sbIy+ffvi5cuXuHz5MoAvx7GjoyM2bNggLXfz5k1cv34dv/76q1qa6TkGlOTeD0pJSUno2rUrzp07h/3796vcXQW+/Prt4OCg0vcvR44cGDx4MD58+ICTJ0+qLP/hwwe8fv0az549w8qVKxEeHo769eunax3TI6Pl0SQ2NhavX79GUFAQ/vrrL9jb26No0aLSfOXdYODLHbXXr1+jTp06ePjwIaKiolTScnR0VPkV0tLSEl27dsXVq1cRHh6e6fWMj49P8zxOWc7379/j9evXqF27NmJjY3H37t0M55mR9TY2Nkbnzp2xZs0aaZrybnRGKPdFeHg4duzYgWvXrmXoeFmyZAlmzJiBRYsWoUWLFlqtU61atbBixQpMmzYN69evl6bfunULHTp0QJcuXTBy5EiN5VCei187n/fv348qVaqgVq1a0rScOXOiT58+CAsLU3kkEACaNWsGhUIhPQ506tQpPH36FB06dEgzH03l+1rZDh8+jMjISPzyyy8q9YyhoSGqVq2aZt2cluT7ICYmBq9fv0aNGjUghMDVq1fVlk/+SJLyEaX4+HgcOXIkQ/mmt92glN5t/fbtWxw7dgzt27eXzrvXr1/jzZs38PT0RHBwMJ49e6byHeWxp/y8ffs2Q+uilJm2RmZl9FhN+V0AGD58uMr0ESNGAEC6H81LKT3nWWb2T3rqW+DLcaRML63HxT99+qR2vf78+bPKMvv374ehoSEGDx6sMn3EiBEQQuDAgQMAgN27dyMpKQkTJkyQjmclbdq1AHD58mVs27YNM2bMUEtb1/hYXTosXboURYsWhZGREezt7VGsWDGVHZWUlISFCxfif//7H0JDQ1WeqVc+egd8eRyvWLFiMDKSd7MXKVJE5X+FQoHChQtLz5IHBwcDALy9vVNNIyoqCrlz55b+f/36tVq6KQUHB0MIkepyKR9/Uz6rn9Yt1ODgYERFRcHOzk7j/JcvX6r8f+jQIeTNmzfNcqY0ceJEODo6om/fvmrPaQcHB+POnTupppky/+SUj1um9dzvo0ePAADFihVTm1eiRAkcPHgQMTExsLCw+Op6JOfo6Kj2HWWDOiwsDNWqVYOBgQE6d+6MZcuWITY2Fubm5tiwYQNMTU3Rrl07tTRfv34NKyurdOUv935Q+uOPP3Du3DkoFArExsaqzX/06BGKFCmiVnEqb9crt7fSoEGDVH6c6N69u6yPJ2S0PJr4+vrizz//BPDl3D5x4oTKjx9nzpzBxIkTERgYqLZNoqKiVPZZ4cKF1S5QyY8LBweHDKydaj5pncfAl0b7uHHjcOzYMURHR6t9P6Myst7Al31bsWJFvHjxAvfv38eLFy/Qvn17TJ06Nd15zp49W3oEEAB+/vlnad98zYEDB6S+HKk1NjO6TspXSPTq1QvFihVDTEwMmjVrhujo6DTrptevXwPAV8/nR48eoWrVqmrTkx+/yeu3HDly4Ndff8Xq1avRtm1brF69Gm3atIGlpWWa+Wgq39fKpryOKX+oSimjeSo9fvwYEyZMwL///qv2+FPK49TAwACFChVSmZb8fMqI9LYblNK7rR88eAAhBMaPH4/x48drzPvly5fSj7vAlx/O5JCZtkZmZfRYTfldAwMDlUcFAcDBwQHW1tbpqqc1Sc95lpn9ExkZCWdn56/mf/fuXek6rFy/iRMnolOnTirL/f333/j777/Vvp88j0ePHsHR0VHl2gOoX8tCQkJgYGCg8riwXMaMGYPatWujadOmGvtJ6RKDo3SoUqWKNFqdJtOnT8f48ePRo0cPTJkyBTY2NjAwMMDQoUNl+5VEG8oyzJ49G+XLl9e4TPKGTnx8PF68eKHWJ0FTugqFAgcOHFDpw6IpTQDSL9VpNciSkpJgZ2encncjuZQN8KpVq6o1dpYsWYI9e/Zo/P6dO3fg5+eH9evXa+y7lJSUhDJlymDevHkav+/k5JRq2b8HXbt2xezZs7F792788ssv2LhxI5o2baqxMg8LC/tqgKwk935QOn/+PPz8/LBkyRL06dMHQUFB6foFLTWjRo1Co0aNkJiYiFu3bkmdqZPfYchqvXr1Qv369fH06VPMnz8fbdq0wdmzZ2FlZYWQkBDUr18fxYsXx7x58+Dk5ARjY2Ps378f8+fP10t98/btW8THx6d5HkdGRqJOnTqwtLSEr68v3NzcYGpqiitXrsDHxyfD5czMepcrVw7lypXDunXrcOfOnUw12rt06YKuXbsiKSkJDx8+xJQpU9C0aVMcOXLkq7+KXrhwAb1794aFhQWmTp2Kdu3aqfwoktF1evr0KXx9feHj44OQkBDpBwUbGxts2LABnTt3xu7du9GyZUu1sigb7po6hmurR48eqFChAu7du4dt27al2qk8Lempa5Tb459//tF47GXmR8fExEQ0bNgQb9++hY+PD4oXLw4LCws8e/YM3bp10+n5lJl2Q3q2tfK7I0eOhKenp8Z0UgYFyh+AlaKjo9GmTZsMr1NG2xpZTds7GymFhYUhR44cav3FksvM/gkPD0912eRcXFyk/jlv3rzBokWL0KVLFxQqVAjVqlWTlmvRooVasDFu3DitniaQ26FDh3DkyBEEBgZmSf4MjmSwfft2eHh4qEXikZGRyJMnj/S/m5sbzp8/j8+fP8syqICS8tcaJSEEHjx4gLJly0r5Al9+WUvPL0TXrl3D58+f0wwIlekKIeDq6qpSsabm9u3bUCgUGu+aJE/zyJEjqFmzpsrjDqnJkyeP2jqlNWjC2LFjUb58+VQf+3Bzc5Mencloxanczjdv3kx1Oyt/mbl3757avLt37yJPnjwZvmsEfBnJLeUdp/v37wNQbRCVLl0aFSpUwIYNG1CgQAE8fvwYixcvVkvv1atXePz4cbqHqpd7PyhNnjwZ3t7eKF++PCpVqoSpU6eqDJ7g7OyM69evIykpSeVujfKxrZS/tpUsWVIqp6enJ+Li4vD7779j2rRpaV7Q0iuj5dGkcOHC0sWxQYMGKFiwIDZu3Ij+/fvjv//+Q1xcHP79918ULFhQ+k5qjxQpf6VMfixrOi4yQvm4SvIBQVI6ceIE3rx5g507d8Ld3V2arhzhM6Myut5KPXr0wPz58xEeHo7//vsvw/kWKlRI5bi2srJCp06dcO7cOVSvXj3N7zZs2BDLli3Dp0+fsHv3bvTp00cajSsz6zRkyBDY2tpiwoQJUCgUuH//Ph48eIC9e/eiSJEi2LlzJ4YMGYJGjRqpvX/v0qVLMDIySrXBquTs7Jxq3aScn1KZMmVQoUIFtG/fHnnz5oWHh0e6Hh9VSm9do6xf7ezsZLvTcePGDdy/fx9r165F165dpemHDx/WuLwySE5+vcvs+ZTedkNy6dnWyjtbOXLkSPd2SvkDsPIOSEZltK2hjcwcq8m/m5SUhODgYJV6LCIiIt13aTS5dOkSfvrppzQfAcvo/nn69Cnev3+fZn2rZGFhoZJm7dq1kT9/fhw6dEglOCpQoIBa3gsWLFAJjpydnXHkyBG8f/9e5e5Ryu3r5uaGpKQk3L59+6v1S3oJITBmzBi0atVKpdz6xD5HMjA0NFQb2nDbtm1qz422adMGr1+/xpIlS9TSSPn9jFi3bh3ev38v/b99+3a8ePECXl5eAICKFSvCzc0Nc+bMURkCWenVq1dqZTc0NPzqcLetW7eGoaEhJk+erFZ+IQTevHkj/Z+QkIAdO3agSpUqaf5y1L59eyQmJmocPSwhISFdw+imJjAwEHv27MHMmTNTDXzat2+PZ8+eaRwd5ePHj4iJiUk1/Z9++gmurq5YsGCBWjmV2ydfvnwoX7481q5dq7LMzZs3cejQIbXR0NIrISEBK1askP6Pj4/HihUrkDdvXlSsWFFl2S5duuDQoUNYsGABbG1tpeMkOeUoTZr6SWgrPftBSTlqWbly5TBy5Ej8+eefuHnzpjS/cePGCA8Px5YtW6RpCQkJWLx4MXLmzIk6deqkmb5yuN6vDeedXtqWJyVlI0U5vKzyDm3y8y0qKirVO1/Pnz9XGQ0yOjoa69atQ/ny5TP9SN3mzZthbGys8qx/SprKGR8fj//973+ZyjOj663UqVMnPHv2DHZ2dqibYsj1zFAeL+kZ1r9GjRowNDSEhYUFli9fjoCAAJV6JSPr5O/vj507d2LhwoUwNzeHmZkZKlSogLx580p3XBYsWIA3b96o1Z3x8fH4999/Ua9eva/+at+4cWNcuHBB5dfamJgYrFy5Ei4uLqk+OtOjRw9cv35dGkI7I9Jb13h6esLS0hLTp09X6x8BqF/H0kPTPhBCqL16Ibnk128hBJYsWYIcOXJkuO9ietsNKX1tWyuP9RUrVuDFixdq8zOzndIro20NbWT2WFV+F/hyziSnfGKkSZMmGS7P7du3cfv27a8exxndP5s3bwaQ+uOkaVHepdL0ZM/XNG7cGImJiWrt1fnz50OhUEjthpYtW8LAwAC+vr5qdzwz267dvHkzrl+/nq6RbHWFd45k0LRpU/j6+qJ79+6oUaMGbty4gQ0bNqg9m9y1a1esW7cOw4cPx4ULF1C7dm3ExMTgyJEj+O233zLdELWxsUGtWrXQvXt3REREYMGCBShcuDB69+4N4Muzp6tWrYKXlxdKlSqF7t27I3/+/Hj27BmOHz8OS0tL/Pfff4iJicHSpUuxaNEiFC1aVOW9BcqK7vr16wgMDET16tXh5uaGqVOnYuzYsQgLC0PLli2RK1cuhIaGYteuXejTpw9GjhyJI0eOYPz48bh+/fpXf72tU6cO+vbtixkzZiAoKAiNGjVCjhw5EBwcjG3btmHhwoVo27ZtprbToUOH0LBhwzR/renSpQu2bt2Kfv364fjx46hZsyYSExNx9+5dbN26FQcPHkz1jpqBgQGWLVuGZs2aoXz58ujevTvy5cuHu3fv4tatWzh48CCAL48ceHl5oXr16ujZs6c0lLeVlZXGd8qkh6OjI/7880+EhYWhaNGi2LJlC4KCgrBy5Uq1u5SdOnXC6NGjsWvXLvTv319t/tKlSzFu3DjkzZsXISEhUl8q4EtD/+HDhzh8+PBXH7tMTXr2gyYTJ07Ejh070Lt3b5w5cwYGBgbo06cPVqxYgW7duuHy5ctwcXHB9u3bcebMGSxYsEDteenAwEAYGRlJj9UtXrwYFSpUkO1xo4yWJ7n9+/dj1apVqFGjBmxsbPDw4UP89ddfsLCwkAZVaNSoEYyNjdGsWTP07dsXHz58wF9//QU7OzuNF9qiRYuiZ8+euHjxIuzt7bF69WpERERk6jHC4OBgTJw4EZs2bcKYMWPSfEStRo0ayJ07N7y9vTF48GAoFAr8888/mb5YZnS9lXLnzo0XL15I74LJqOvXr2P9+vUQQiAkJASLFi1CgQIFvnpXPSVPT0/8+uuvGD16NJo1a4Z8+fKle53i4uIwaNAgNGnSROMjc0oFChTAxIkTMW7cOHh7e6N48eK4fv06Jk+ejKdPn6JJkyYqAzkoO/0rH7G1t7fHmDFjsGnTJnh5eWHw4MGwsbHB2rVrERoaih07dqT6i3jv3r3Rrl27dPdRVMpIXWNpaYlly5ahS5cu+Omnn9CxY0fkzZsXjx8/xr59+1CzZk2NPzympXjx4nBzc8PIkSPx7NkzWFpaYseOHWp9j5RMTU3h7+8Pb29vVK1aFQcOHMC+ffvw+++/Z7jPZXrbDSmlZ1svXboUtWrVQpkyZdC7d28UKlQIERERCAwMxNOnTzW+g1EO6W1ryCGzxyrw5cc2b29vrFy5UnoE+MKFC1i7di1atmwJDw+PDJXl4MGD0mAoZmZmKufZs2fPEBMTg/Xr10sDH6Vn/0RERGDixIlYtWoVOnbsiOLFi3+1HB8+fIC/vz+AL48/L1q0CDly5MhUsNesWTN4eHjgjz/+QFhYGMqVK4dDhw5hz549GDp0qHSXsHDhwvjjjz8wZcoU1K5dG61bt4aJiQkuXrwIR0fHTAU4hw4dQu/evdN8ykjn9DUs3vcotWEuU/r06ZMYMWKEyJcvnzAzMxM1a9YUgYGBok6dOmpDJMfGxoo//vhDuLq6ihw5cggHBwfRtm1bERISIoTI3FDemzZtEmPHjhV2dnbCzMxMNGnSRGUIUqWrV6+K1q1bC1tbW2FiYiKcnZ1F+/btxdGjR1Xy/ton5XCKO3bsELVq1RIWFhbCwsJCFC9eXAwYMEDcu3dPCCHEoEGDhLu7u/D391crU2pDna5cuVJUrFhRmJmZiVy5cokyZcqI0aNHi+fPn0vLZHQIaYVCIS5fvqwyXdM+io+PF3/++acoVaqUMDExEblz5xYVK1YUkydPFlFRUWr5pXT69GnRsGFDkStXLmFhYSHKli0rFi9erLLMkSNHRM2aNYWZmZmwtLQUzZo1E7dv3041za8N5V2qVClx6dIlUb16dWFqaiqcnZ3FkiVLUk2vcePGAoA4e/as2rz0HAPJt5ku9kNqw32eOHFCKBQKaZh6IYSIiIgQ3bt3F3ny5BHGxsaiTJkyasNBpzy2DQwMRIECBYS3t7c0JH9qMnJOprc8mty8eVM0atRI2NraCmNjY+Hk5CQ6duworl+/rrLcv//+K8qWLStMTU2Fi4uL+PPPP6XXBCQfllm5Xw4ePCjKli0rTExMRPHixdWGyU3vcL6bNm0SpUuXFgsXLlQbolXT/jpz5oyoVq2aMDMzE46OjmL06NHScPLpHcZVm/VOTUaG8lZ+FAqFcHBwEK1btxZ37txJ13dTDoP8+vVrkTdvXtGqVasMrdPkyZOFqampdI1QSj6Ut1J8fLwoVaqUqFevnhDi/+rXr32S74+QkBDRtm1bYW1tLUxNTUWVKlXE3r17VfJJa8jl9MxPvp0yUtco0/b09BRWVlbC1NRUuLm5iW7duqkMn5yRobxv374tGjRoIHLmzCny5MkjevfuLa5du6Z2LCrTDAkJEY0aNRLm5ubC3t5eTJw4MdVho782lHd62g2Z3dYhISGia9euwsHBQeTIkUPkz59fNG3aVGV4e7mH8lb6WlsjNRkZylu5jl87VlPz+fNnMXnyZKkt5uTkJMaOHavxNQPJy6ap7lK+TuNrn5RlT2v/nDlzRhQuXFhMmjRJZfh2IVIfyjt5XtbW1qJmzZpqr+5AOofyFuLL0OjDhg0Tjo6OIkeOHKJIkSJi9uzZGofoXr16tahQoYLUZqpTp444fPhwhrajcr3MzMzEs2fPVOZ97ZiTm0IILZ7noix14sQJeHh4YNu2bZm+m5JcWFgYXF1dERoamuov6ZMmTUJYWJjaG4wp69StWxevX79Wedzsa1q1aoUbN27gwYMHavMUCgWOHz+e6mNIfn5+8PPzU7mzSN8eFxcXlC5dGnv37s3qolAWmTRpEk6cOJHmueri4gI/Pz9ZHjvMqO+prunWrRu2b9+u8XEx+rHVrVsXdevWTfXJD2Xbis3t7wf7HBH9YF68eIF9+/ahS5cuWV0UIiIiom8K+xyRJGfOnOjcuXOanXbLli0ry6hepH+hoaE4c+YMVq1ahRw5cqi8NDa5zp07w97ePtV03NzcMt3fiIj0p2zZsl8dGbVVq1Zpnu+6xLqGsoOGDRumOZqcsm1F3w8+Vvcdk/uxOvo+pfexOj8/P3Tv3h0FCxbE3Llzecxkc3ysjkg+fKyO6MfB4IiIiIiIiAjsc0RERERERASAwRERERERERGAbDwgQ1JSEp4/f45cuXJl6uV/RERERESUPQgh8P79ezg6Oqb5ouBsGxw9f/4cTk5OWV0MIiIiIiL6Rjx58gQFChRIdX62DY5y5coF4MsGsLS0zOLSEBERERFRVomOjoaTk5MUI6Qm2wZHykfpLC0tGRwREREREdFXu9twQAYiIiIiIiIwOCIiIiIiIgLA4IiIiIiIiAgAgyMiIiIiIiIADI6IiIiIiIgAMDgiIiIiIiICwOCIiIiIiIgIAIMjIiIiIiIiAAyOiIiIiIiIADA4IiIiIiIiAsDgiIiIiIiICACDIyIiIiIiIgAMjoiIiIiIiAAwOCIiIiIiIgLA4IiIiIiIiAgAYJTVBSAiIiLK7lzG7Mvwd8JmNtFBSYgoLbxzREREREREBAZHREREREREABgcERERERERAWBwREREREREBIDBEREREREREQAGR0RERERERAAYHBEREREREQFgcERERERERASAwREREREREREABkdEREREREQAGBwREREREREBYHBEREREREQEIIPB0YwZM1C5cmXkypULdnZ2aNmyJe7du6eyzKdPnzBgwADY2toiZ86caNOmDSIiIlSWefz4MZo0aQJzc3PY2dlh1KhRSEhIUFnmxIkT+Omnn2BiYoLChQvDz88vc2tIRERERESUDhkKjk6ePIkBAwbg3LlzOHz4MD5//oxGjRohJiZGWmbYsGH477//sG3bNpw8eRLPnz9H69atpfmJiYlo0qQJ4uPjcfbsWaxduxZ+fn6YMGGCtExoaCiaNGkCDw8PBAUFYejQoejVqxcOHjwowyoTERERERGpUwghRGa//OrVK9jZ2eHkyZNwd3dHVFQU8ubNi40bN6Jt27YAgLt376JEiRIIDAxEtWrVcODAATRt2hTPnz+Hvb09AGD58uXw8fHBq1evYGxsDB8fH+zbtw83b96U8urYsSMiIyPh7++frrJFR0fDysoKUVFRsLS0zOwqEhEREWnNZcy+DH8nbGYTHZSE6MeU3thAqz5HUVFRAAAbGxsAwOXLl/H582c0aNBAWqZ48eIoWLAgAgMDAQCBgYEoU6aMFBgBgKenJ6Kjo3Hr1i1pmeRpKJdRpkFERERERCQ3o8x+MSkpCUOHDkXNmjVRunRpAEB4eDiMjY1hbW2tsqy9vT3Cw8OlZZIHRsr5ynlpLRMdHY2PHz/CzMxMrTxxcXGIi4uT/o+Ojs7sqhERERER0Q8o03eOBgwYgJs3b2Lz5s1ylifTZsyYASsrK+nj5OSU1UUiIiIiIqLvSKaCo4EDB2Lv3r04fvw4ChQoIE13cHBAfHw8IiMjVZaPiIiAg4ODtEzK0euU/39tGUtLS413jQBg7NixiIqKkj5PnjzJzKoREREREdEPKkPBkRACAwcOxK5du3Ds2DG4urqqzK9YsSJy5MiBo0ePStPu3buHx48fo3r16gCA6tWr48aNG3j58qW0zOHDh2FpaYmSJUtKyyRPQ7mMMg1NTExMYGlpqfIhIiIiIiJKrwz1ORowYAA2btyIPXv2IFeuXFIfISsrK5iZmcHKygo9e/bE8OHDYWNjA0tLSwwaNAjVq1dHtWrVAACNGjVCyZIl0aVLF8yaNQvh4eEYN24cBgwYABMTEwBAv379sGTJEowePRo9evTAsWPHsHXrVuzbl/GRXoiIiIiIiNIjQ3eOli1bhqioKNStWxf58uWTPlu2bJGWmT9/Ppo2bYo2bdrA3d0dDg4O2LlzpzTf0NAQe/fuhaGhIapXr45ff/0VXbt2ha+vr7SMq6sr9u3bh8OHD6NcuXKYO3cuVq1aBU9PTxlWmYiIiIiISJ1W7zn6lvE9R0RERPSt4HuOiLKWXt5zRERERERElF0wOCIiIiIiIgKDIyIiIiIiIgAMjoiIiIiIiAAwOCIiIiIiIgLA4IiIiIiIiAgAgyMiIiIiIiIADI6IiIiIiIgAMDgiIiIiIiICwOCIiIiIiIgIAIMjIiIiIiIiAAyOiIiIiIiIADA4IiIiIiIiAsDgiIiIiIiICACDIyIiIiIiIgAMjoiIiIiIiAAwOCIiIiIiIgLA4IiIiIiIiAgAgyMiIiIiIiIADI6IiIiIiIgAMDgiIiIiIiICwOCIiIiIiIgIAIMjIiIiIiIiAAyOiIiIiIiIADA4IiIiIiIiAsDgiIiIiIiICACDIyIiIiIiIgAMjoiIiIiIiAAwOCIiIiIiIgLA4IiIiIiIiAgAgyMiIiIiIiIADI6IiIiIiIgAMDgiIiIiIiICABhl9AsBAQGYPXs2Ll++jBcvXmDXrl1o2bKlNF+hUGj83qxZszBq1CgAgIuLCx49eqQyf8aMGRgzZoz0//Xr1zFgwABcvHgRefPmxaBBgzB69OiMFpeIiIjoh+EyZl+GvxM2s4kOSkL0fcrwnaOYmBiUK1cOS5cu1Tj/xYsXKp/Vq1dDoVCgTZs2Ksv5+vqqLDdo0CBpXnR0NBo1agRnZ2dcvnwZs2fPxqRJk7By5cqMFpeIiIiIiChdMnznyMvLC15eXqnOd3BwUPl/z5498PDwQKFChVSm58qVS21ZpQ0bNiA+Ph6rV6+GsbExSpUqhaCgIMybNw99+vTJaJGJiIiIiIi+Sqd9jiIiIrBv3z707NlTbd7MmTNha2uLChUqYPbs2UhISJDmBQYGwt3dHcbGxtI0T09P3Lt3D+/evdOYV1xcHKKjo1U+RERERERE6ZXhO0cZsXbtWuTKlQutW7dWmT548GD89NNPsLGxwdmzZzF27Fi8ePEC8+bNAwCEh4fD1dVV5Tv29vbSvNy5c6vlNWPGDEyePFlHa0JERERERNmdToOj1atXo3PnzjA1NVWZPnz4cOnvsmXLwtjYGH379sWMGTNgYmKSqbzGjh2rkm50dDScnJwyV3AiIiIiIvrh6Cw4OnXqFO7du4ctW7Z8ddmqVasiISEBYWFhKFasGBwcHBAREaGyjPL/1PopmZiYZDqwIiIiIiIi0lmfo7///hsVK1ZEuXLlvrpsUFAQDAwMYGdnBwCoXr06AgIC8PnzZ2mZw4cPo1ixYhofqSMiIiIiItJWhoOjDx8+ICgoCEFBQQCA0NBQBAUF4fHjx9Iy0dHR2LZtG3r16qX2/cDAQCxYsADXrl3Dw4cPsWHDBgwbNgy//vqrFPh06tQJxsbG6NmzJ27duoUtW7Zg4cKFKo/NERERERERySnDj9VdunQJHh4e0v/KgMXb2xt+fn4AgM2bN0MIgV9++UXt+yYmJti8eTMmTZqEuLg4uLq6YtiwYSqBj5WVFQ4dOoQBAwagYsWKyJMnDyZMmMBhvImIiIiISGcUQgiR1YXQhejoaFhZWSEqKgqWlpZZXRwiIiL6gbmM2Zfh74TNbPLN5kP0vUlvbKDT9xwRERERERF9LxgcERERERERgcERERERERERAAZHREREREREABgcERERERERAWBwREREREREBIDBEREREREREQAGR0RERERERAAYHBEREREREQFgcERERERERASAwREREREREREABkdEREREREQAGBwREREREREBYHBEREREREQEgMERERERERERAAZHREREREREABgcERERERERAWBwREREREREBIDBEREREREREQAGR0RERERERAAYHBEREREREQFgcERERERERASAwREREREREREABkdEREREREQAGBwREREREREBYHBEREREREQEgMERERERERERAAZHREREREREABgcERERERERAWBwREREREREBIDBEREREREREQAGR0RERERERAAYHBEREREREQHIRHAUEBCAZs2awdHREQqFArt371aZ361bNygUCpXPzz//rLLM27dv0blzZ1haWsLa2ho9e/bEhw8fVJa5fv06ateuDVNTUzg5OWHWrFkZXzsiIiIiIqJ0ynBwFBMTg3LlymHp0qWpLvPzzz/jxYsX0mfTpk0q8zt37oxbt27h8OHD2Lt3LwICAtCnTx9pfnR0NBo1agRnZ2dcvnwZs2fPxqRJk7By5cqMFpeIiIiIiChdjDL6BS8vL3h5eaW5jImJCRwcHDTOu3PnDvz9/XHx4kVUqlQJALB48WI0btwYc+bMgaOjIzZs2ID4+HisXr0axsbGKFWqFIKCgjBv3jyVIIqIiIiIiEguOulzdOLECdjZ2aFYsWLo378/3rx5I80LDAyEtbW1FBgBQIMGDWBgYIDz589Ly7i7u8PY2FhaxtPTE/fu3cO7d+805hkXF4fo6GiVDxERERERUXrJHhz9/PPPWLduHY4ePYo///wTJ0+ehJeXFxITEwEA4eHhsLOzU/mOkZERbGxsEB4eLi1jb2+vsozyf+UyKc2YMQNWVlbSx8nJSe5VIyIiIiKibCzDj9V9TceOHaW/y5Qpg7Jly8LNzQ0nTpxA/fr15c5OMnbsWAwfPlz6Pzo6mgESERERERGlm86H8i5UqBDy5MmDBw8eAAAcHBzw8uVLlWUSEhLw9u1bqZ+Sg4MDIiIiVJZR/p9aXyYTExNYWlqqfIiIiIiIiNJL58HR06dP8ebNG+TLlw8AUL16dURGRuLy5cvSMseOHUNSUhKqVq0qLRMQEIDPnz9Lyxw+fBjFihVD7ty5dV1kIiIiIiL6AWU4OPrw4QOCgoIQFBQEAAgNDUVQUBAeP36MDx8+YNSoUTh37hzCwsJw9OhRtGjRAoULF4anpycAoESJEvj555/Ru3dvXLhwAWfOnMHAgQPRsWNHODo6AgA6deoEY2Nj9OzZE7du3cKWLVuwcOFClcfmiIiIiIiI5JTh4OjSpUuoUKECKlSoAAAYPnw4KlSogAkTJsDQ0BDXr19H8+bNUbRoUfTs2RMVK1bEqVOnYGJiIqWxYcMGFC9eHPXr10fjxo1Rq1YtlXcYWVlZ4dChQwgNDUXFihUxYsQITJgwgcN4ExERERGRzmR4QIa6detCCJHq/IMHD341DRsbG2zcuDHNZcqWLYtTp05ltHhERERERESZovM+R0RERERERN8DBkdERERERERgcERERERERASAwREREREREREABkdEREREREQAGBwREREREREBYHBEREREREQEgMERERERERERAAZHREREREREABgcERERERERAWBwREREREREBIDBEREREREREQAGR0RERERERAAYHBEREREREQFgcERERERERAQAMMrqAhARERERkTxcxuzL8HfCZjbRQUm+T7xzREREREREBAZHREREREREABgcERERERERAWBwREREREREBIDBEREREREREQAGR0RERERERAAYHBEREREREQFgcERERERERASAwREREREREREABkdEREREREQAGBwREREREREBYHBEREREREQEgMERERERERERAAZHREREREREABgcERERERERAWBwREREREREBCATwVFAQACaNWsGR0dHKBQK7N69W5r3+fNn+Pj4oEyZMrCwsICjoyO6du2K58+fq6Th4uIChUKh8pk5c6bKMtevX0ft2rVhamoKJycnzJo1K3NrSERERERElA4ZDo5iYmJQrlw5LF26VG1ebGwsrly5gvHjx+PKlSvYuXMn7t27h+bNm6st6+vrixcvXkifQYMGSfOio6PRqFEjODs74/Lly5g9ezYmTZqElStXZrS4RERERERE6WKU0S94eXnBy8tL4zwrKyscPnxYZdqSJUtQpUoVPH78GAULFpSm58qVCw4ODhrT2bBhA+Lj47F69WoYGxujVKlSCAoKwrx589CnT5+MFpmIiIiIiOirdN7nKCoqCgqFAtbW1irTZ86cCVtbW1SoUAGzZ89GQkKCNC8wMBDu7u4wNjaWpnl6euLevXt49+6drotMREREREQ/oAzfOcqIT58+wcfHB7/88gssLS2l6YMHD8ZPP/0EGxsbnD17FmPHjsWLFy8wb948AEB4eDhcXV1V0rK3t5fm5c6dWy2vuLg4xMXFSf9HR0frYpWIiIiIiCib0llw9PnzZ7Rv3x5CCCxbtkxl3vDhw6W/y5YtC2NjY/Tt2xczZsyAiYlJpvKbMWMGJk+erFWZiYiIiIjox6WTx+qUgdGjR49w+PBhlbtGmlStWhUJCQkICwsDADg4OCAiIkJlGeX/qfVTGjt2LKKioqTPkydPtF8RIiIiIiL6YcgeHCkDo+DgYBw5cgS2trZf/U5QUBAMDAxgZ2cHAKhevToCAgLw+fNnaZnDhw+jWLFiGh+pAwATExNYWlqqfIiIiIiIiNIrw4/VffjwAQ8ePJD+Dw0NRVBQEGxsbJAvXz60bdsWV65cwd69e5GYmIjw8HAAgI2NDYyNjREYGIjz58/Dw8MDuXLlQmBgIIYNG4Zff/1VCnw6deqEyZMno2fPnvDx8cHNmzexcOFCzJ8/X6bVJiIiIiIiUpXh4OjSpUvw8PCQ/lf2H/L29sakSZPw77//AgDKly+v8r3jx4+jbt26MDExwebNmzFp0iTExcXB1dUVw4YNU+mHZGVlhUOHDmHAgAGoWLEi8uTJgwkTJnAYbyIiIiIi0pkMB0d169aFECLV+WnNA4CffvoJ586d+2o+ZcuWxalTpzJaPCIiIiIiokzR+XuOiIiIiIiIvgcMjoiIiIiIiMDgiIiIiIiICACDIyIiIiIiIgAMjoiIiIiIiAAwOCIiIiIiIgLA4IiIiIiIiAgAgyMiIiIiIiIADI6IiIiIiIgAMDgiIiIiIiICwOCIiIiIiIgIAIMjIiIiIiIiAIBRVheAiIiIiCgllzH7MvydsJlNdFAS0iS77h/eOSIiIiIiIgKDIyIiIiIiIgAMjoiIiIiIiAAwOCIiIiIiIgLA4IiIiIiIiAgAgyMiIiIiIiIADI6IiIiIiIgAMDgiIiIiIiICwOCIiIiIiIgIAIMjIiIiIiIiAAyOiIiIiIiIADA4IiIiIiIiAsDgiIiIiIiICACDIyIiIiIiIgAMjoiIiIiIiAAwOCIiIiIiIgLA4IiIiIiIiAgAgyMiIiIiIiIADI6IiIiIiIgAMDgiIiIiIiICkIngKCAgAM2aNYOjoyMUCgV2796tMl8IgQkTJiBfvnwwMzNDgwYNEBwcrLLM27dv0blzZ1haWsLa2ho9e/bEhw8fVJa5fv06ateuDVNTUzg5OWHWrFkZXzsiIiIiIqJ0ynBwFBMTg3LlymHp0qUa58+aNQuLFi3C8uXLcf78eVhYWMDT0xOfPn2SluncuTNu3bqFw4cPY+/evQgICECfPn2k+dHR0WjUqBGcnZ1x+fJlzJ49G5MmTcLKlSszsYpERERERERfZ5TRL3h5ecHLy0vjPCEEFixYgHHjxqFFixYAgHXr1sHe3h67d+9Gx44dcefOHfj7++PixYuoVKkSAGDx4sVo3Lgx5syZA0dHR2zYsAHx8fFYvXo1jI2NUapUKQQFBWHevHkqQRQREREREZFcZO1zFBoaivDwcDRo0ECaZmVlhapVqyIwMBAAEBgYCGtraykwAoAGDRrAwMAA58+fl5Zxd3eHsbGxtIynpyfu3buHd+/eacw7Li4O0dHRKh8iIiIiIqL0kjU4Cg8PBwDY29urTLe3t5fmhYeHw87OTmW+kZERbGxsVJbRlEbyPFKaMWMGrKyspI+Tk5P2K0RERERERD+MbDNa3dixYxEVFSV9njx5ktVFIiIiIiKi74iswZGDgwMAICIiQmV6RESENM/BwQEvX75UmZ+QkIC3b9+qLKMpjeR5pGRiYgJLS0uVDxERERERUXrJGhy5urrCwcEBR48elaZFR0fj/PnzqF69OgCgevXqiIyMxOXLl6Vljh07hqSkJFStWlVaJiAgAJ8/f5aWOXz4MIoVK4bcuXPLWWQiIiIiIiIAmQiOPnz4gKCgIAQFBQH4MghDUFAQHj9+DIVCgaFDh2Lq1Kn4999/cePGDXTt2hWOjo5o2bIlAKBEiRL4+eef0bt3b1y4cAFnzpzBwIED0bFjRzg6OgIAOnXqBGNjY/Ts2RO3bt3Cli1bsHDhQgwfPly2FSciIiIiIkouw0N5X7p0CR4eHtL/yoDF29sbfn5+GD16NGJiYtCnTx9ERkaiVq1a8Pf3h6mpqfSdDRs2YODAgahfvz4MDAzQpk0bLFq0SJpvZWWFQ4cOYcCAAahYsSLy5MmDCRMmcBhvIiIiIiLSmQwHR3Xr1oUQItX5CoUCvr6+8PX1TXUZGxsbbNy4Mc18ypYti1OnTmW0eERERERERJmSbUarIyIiIiIi0gaDIyIiIiIiIjA4IiIiIiIiApCJPkdERERERNmFy5h9Gf5O2MwmOigJfQt454iIiIiIiAgMjoiIiIiIiAAwOCIiIiIiIgLA4IiIiIiIiAgAgyMiIiIiIiIADI6IiIiIiIgAMDgiIiIiIiICwOCIiIiIiIgIAIMjIiIiIiIiAAyOiIiIiIiIADA4IiIiIiIiAsDgiIiIiIiICACDIyIiIiIiIgAMjoiIiIiIiAAwOCIiIiIiIgLA4IiIiIiIiAgAgyMiIiIiIiIADI6IiIiIiIgAMDgiIiIiIiICwOCIiIiIiIgIAIMjIiIiIiIiAAyOiIiIiIiIADA4IiIiIiIiAsDgiIiIiIiICACDIyIiIiIiIgAMjoiIiIiIiAAwOCIiIiIiIgLA4IiIiIiIiAgAgyMiIiIiIiIAOgiOXFxcoFAo1D4DBgwAANStW1dtXr9+/VTSePz4MZo0aQJzc3PY2dlh1KhRSEhIkLuoREREREREEiO5E7x48SISExOl/2/evImGDRuiXbt20rTevXvD19dX+t/c3Fz6OzExEU2aNIGDgwPOnj2LFy9eoGvXrsiRIwemT58ud3GJiIiIiIgA6CA4yps3r8r/M2fOhJubG+rUqSNNMzc3h4ODg8bvHzp0CLdv38aRI0dgb2+P8uXLY8qUKfDx8cGkSZNgbGwsd5GJiIiIiIh02+coPj4e69evR48ePaBQKKTpGzZsQJ48eVC6dGmMHTsWsbGx0rzAwECUKVMG9vb20jRPT09ER0fj1q1bqeYVFxeH6OholQ8REREREVF6yX7nKLndu3cjMjIS3bp1k6Z16tQJzs7OcHR0xPXr1+Hj44N79+5h586dAIDw8HCVwAiA9H94eHiqec2YMQOTJ0+WfyWIiIiIiOiHoNPg6O+//4aXlxccHR2laX369JH+LlOmDPLly4f69esjJCQEbm5umc5r7NixGD58uPR/dHQ0nJycMp0eERERERH9WHQWHD169AhHjhyR7gilpmrVqgCABw8ewM3NDQ4ODrhw4YLKMhEREQCQaj8lADAxMYGJiYmWpSYiIiIioh+VzvocrVmzBnZ2dmjSpEmaywUFBQEA8uXLBwCoXr06bty4gZcvX0rLHD58GJaWlihZsqSuiktERERERD84ndw5SkpKwpo1a+Dt7Q0jo//LIiQkBBs3bkTjxo1ha2uL69evY9iwYXB3d0fZsmUBAI0aNULJkiXRpUsXzJo1C+Hh4Rg3bhwGDBjAO0NERERERKQzOgmOjhw5gsePH6NHjx4q042NjXHkyBEsWLAAMTExcHJyQps2bTBu3DhpGUNDQ+zduxf9+/dH9erVYWFhAW9vb5X3IhEREREREclNJ8FRo0aNIIRQm+7k5ISTJ09+9fvOzs7Yv3+/LopGRERERESkkU7fc0RERERERPS9YHBEREREREQEBkdEREREREQAGBwREREREREBYHBEREREREQEgMERERERERERAAZHREREREREABgcERERERERAWBwREREREREBIDBEREREREREQAGR0RERERERAAYHBEREREREQFgcERERERERASAwREREREREREABkdEREREREQAGBwREREREREBYHBEREREREQEgMERERERERERAMAoqwuQFVzG7Mvwd8JmNtFBSYiIiIiI6FvBO0dERERERERgcERERERERASAwREREREREREABkdEREREREQAGBwREREREREBYHBEREREREQEgMERERERERERAAZHREREREREABgcERERERERAWBwREREREREBIDBEREREREREQAGR0RERERERAAAo6wuQHbmMmZfhr8TNrOJDkpCRERERERfI/udo0mTJkGhUKh8ihcvLs3/9OkTBgwYAFtbW+TMmRNt2rRBRESEShqPHz9GkyZNYG5uDjs7O4waNQoJCQlyF5WIiIiIiEiikztHpUqVwpEjR/4vE6P/y2bYsGHYt28ftm3bBisrKwwcOBCtW7fGmTNnAACJiYlo0qQJHBwccPbsWbx48QJdu3ZFjhw5MH36dF0Ul4iIiIiISDfBkZGRERwcHNSmR0VF4e+//8bGjRtRr149AMCaNWtQokQJnDt3DtWqVcOhQ4dw+/ZtHDlyBPb29ihfvjymTJkCHx8fTJo0CcbGxrooMhERERER/eB0MiBDcHAwHB0dUahQIXTu3BmPHz8GAFy+fBmfP39GgwYNpGWLFy+OggULIjAwEAAQGBiIMmXKwN7eXlrG09MT0dHRuHXrli6KS0REREREJP+do6pVq8LPzw/FihXDixcvMHnyZNSuXRs3b95EeHg4jI2NYW1trfIde3t7hIeHAwDCw8NVAiPlfOW81MTFxSEuLk76Pzo6WqY1IiIiIiKiH4HswZGXl5f0d9myZVG1alU4Oztj69atMDMzkzs7yYwZMzB58mSdpU9ERERERNmbzt9zZG1tjaJFi+LBgwdwcHBAfHw8IiMjVZaJiIiQ+ig5ODiojV6n/F9TPyalsWPHIioqSvo8efJE3hUhIiIiIqJsTefB0YcPHxASEoJ8+fKhYsWKyJEjB44ePSrNv3fvHh4/fozq1asDAKpXr44bN27g5cuX0jKHDx+GpaUlSpYsmWo+JiYmsLS0VPkQERERERGll+yP1Y0cORLNmjWDs7Mznj9/jokTJ8LQ0BC//PILrKys0LNnTwwfPhw2NjawtLTEoEGDUL16dVSrVg0A0KhRI5QsWRJdunTBrFmzEB4ejnHjxmHAgAEwMTGRu7hEREREREQAdBAcPX36FL/88gvevHmDvHnzolatWjh37hzy5s0LAJg/fz4MDAzQpk0bxMXFwdPTE//73/+k7xsaGmLv3r3o378/qlevDgsLC3h7e8PX11fuohIREREREUlkD442b96c5nxTU1MsXboUS5cuTXUZZ2dn7N+/X+6iERERERERpUrnfY6IiIiIiIi+BwyOiIiIiIiIoIPH6oiIiCj7chmzL8PfCZvZRAclISKSH+8cERERERERgcERERERERERAAZHREREREREABgcERERERERAWBwREREREREBIDBEREREREREQAGR0RERERERAAYHBEREREREQHgS2CJiOgHxheaEhFRcrxzREREREREBAZHREREREREAPhYHREREX2D+MgjEWUFBkdEREQ6xoY+EdH3gcERpRsv7kRERESUnTE4om8OgzAiIiIiygoMjoh0iIFe5nC7ERERUVbgaHVERERERERgcERERERERASAwREREREREREA9jkiyhbYRydzuN2IiIgoOd45IiIiIiIiAoMjIiIiIiIiAAyOiIiIiIiIADA4IiIiIiIiAsDgiIiIiIiICACDIyIiIiIiIgAMjoiIiIiIiAAwOCIiIiIiIgLA4IiIiIiIiAgAgyMiIiIiIiIAOgiOZsyYgcqVKyNXrlyws7NDy5Ytce/ePZVl6tatC4VCofLp16+fyjKPHz9GkyZNYG5uDjs7O4waNQoJCQlyF5eIiIiIiAgAYCR3gidPnsSAAQNQuXJlJCQk4Pfff0ejRo1w+/ZtWFhYSMv17t0bvr6+0v/m5ubS34mJiWjSpAkcHBxw9uxZvHjxAl27dkWOHDkwffp0uYtMREREROnkMmZfhr8TNrOJDkpCJD/ZgyN/f3+V//38/GBnZ4fLly/D3d1dmm5ubg4HBweNaRw6dAi3b9/GkSNHYG9vj/Lly2PKlCnw8fHBpEmTYGxsLHexiYiIiIjoB6fzPkdRUVEAABsbG5XpGzZsQJ48eVC6dGmMHTsWsbGx0rzAwECUKVMG9vb20jRPT09ER0fj1q1bGvOJi4tDdHS0yoeIiIiIiCi9ZL9zlFxSUhKGDh2KmjVronTp0tL0Tp06wdnZGY6Ojrh+/Tp8fHxw79497Ny5EwAQHh6uEhgBkP4PDw/XmNeMGTMwefJkHa0JERERERFldzoNjgYMGICbN2/i9OnTKtP79Okj/V2mTBnky5cP9evXR0hICNzc3DKV19ixYzF8+HDp/+joaDg5OWWu4ERERERE9MPR2WN1AwcOxN69e3H8+HEUKFAgzWWrVq0KAHjw4AEAwMHBARERESrLKP9PrZ+SiYkJLC0tVT5ERERERETpJXtwJITAwIEDsWvXLhw7dgyurq5f/U5QUBAAIF++fACA6tWr48aNG3j58qW0zOHDh2FpaYmSJUvKXWQiIiIiIiL5H6sbMGAANm7ciD179iBXrlxSHyErKyuYmZkhJCQEGzduROPGjWFra4vr169j2LBhcHd3R9myZQEAjRo1QsmSJdGlSxfMmjUL4eHhGDduHAYMGAATExO5i0xERERERCR/cLRs2TIAX170mtyaNWvQrVs3GBsb48iRI1iwYAFiYmLg5OSENm3aYNy4cdKyhoaG2Lt3L/r374/q1avDwsIC3t7eKu9FIiKi/6Ov947w/SZERJSdyR4cCSHSnO/k5ISTJ09+NR1nZ2fs379frmIRERERERGlSefvOSIiIiIiIvoeMDgiIiIiIiKCjt9zRERERERElBlZ0c+Vd46IiIiIiIjA4IiIiIiIiAgAgyMiIiIiIiIA7HNERETfIL5PiYiIsgLvHBEREREREYHBEREREREREQAGR0RERERERAAYHBEREREREQFgcERERERERASAo9UREREREekcR+H8PvDOERERERERERgcERERERERAWBwREREREREBIDBEREREREREQAGR0RERERERAAYHBEREREREQFgcERERERERASAwREREREREREABkdEREREREQAAKOsLgBpj29cJiIiIiLSHoMjIiKibIA/lBERaY/BERGlGxtfRERElJ0xOCIiIqIfFn/0IaLkOCADERERERERGBwREREREREB4GN19IPiYxRERERElBKDIyIiHWIgTkRE9P3gY3VERERERERgcERERERERASAwRERERERERGAbzw4Wrp0KVxcXGBqaoqqVaviwoULWV0kIiIiIiLKpr7Z4GjLli0YPnw4Jk6ciCtXrqBcuXLw9PTEy5cvs7poRERERESUDX2zwdG8efPQu3dvdO/eHSVLlsTy5cthbm6O1atXZ3XRiIiIiIgoG/omh/KOj4/H5cuXMXbsWGmagYEBGjRogMDAQI3fiYuLQ1xcnPR/VFQUACA6Olpt2aS42AyXSVM6X8N8vt18stO6MJ9vO5/stC7M59vOJzutC/P5tvPJTuvCfL7tfOTMQzldCJHm9xXia0tkgefPnyN//vw4e/YsqlevLk0fPXo0Tp48ifPnz6t9Z9KkSZg8ebI+i0lERERERN+RJ0+eoECBAqnO/ybvHGXG2LFjMXz4cOn/pKQkvH37Fra2tlAoFOlKIzo6Gk5OTnjy5AksLS11VVS95JOd1oX5fNv5ZKd1YT7fdj7ZaV2Yz7edT3ZaF+bzbeeTndblW89HCIH379/D0dExzeW+yeAoT548MDQ0REREhMr0iIgIODg4aPyOiYkJTExMVKZZW1tnKn9LS0ud7lB95pOd1oX5fNv5ZKd1YT7fdj7ZaV2Yz7edT3ZaF+bzbeeTndblW87Hysrqq8t8kwMyGBsbo2LFijh69Kg0LSkpCUePHlV5zI6IiIiIiEgu3+SdIwAYPnw4vL29UalSJVSpUgULFixATEwMunfvntVFIyIiIiKibOibDY46dOiAV69eYcKECQgPD0f58uXh7+8Pe3t7neVpYmKCiRMnqj2e9z3mk53Whfl82/lkp3VhPt92PtlpXZjPt51PdloX5vNt55Od1iW75PNNjlZHRERERESkb99knyMiIiIiIiJ9Y3BEREREREQEBkdEREREREQAGBwREREREREB+IZHq6OM+/z5M8LDwxEbG4u8efPCxsYmq4v0XYmLi9P56Cr6zIe+PTxHv13cN9827h/Kjtge+Db9sMFRUlISTp48iVOnTuHRo0dShVuhQgU0aNAATk5OsuRz584dbN68WWM+np6eaNOmjVYnxvv377F+/Xps3rwZFy5cQHx8PIQQUCgUKFCgABo1aoQ+ffqgcuXKWq9LZGQkdu3aleq61KhRQ+s8lEJDQzXmU716dZiamsqSx4EDB6R98+TJEyQlJcHCwgIVKlRAo0aN0L17dzg6On43+Sg9fvxYZbuVKlVK1spXH/tG1+eNkj7qAX2eo4B+9o8+6wJdHs/63jdxcXE4f/682jZzdXWVJX0g+1zbgOy5f3gMZE52qdeyW3sAyD77Jrkfbijvjx8/Yu7cuVi2bBnevn2L8uXLw9HREWZmZnj79i1u3ryJ58+fo1GjRpgwYQKqVauWqXyuXLmC0aNH4/Tp06hZsyaqVKmils+pU6cQHR2N0aNHY+jQoRk+YOfNm4dp06bBzc0NzZo1SzWP3bt3o2rVqli8eDGKFCmS4XV5/vw5JkyYgA0bNsDR0VFjPpcvX4azszMmTpyIDh06ZDgPpQ0bNmDhwoW4dOkS7O3tVfIJCQmBqakpOnfuDB8fHzg7O2cqj127dsHHxwfv379H48aNU91ugYGB6NatG6ZMmYK8efN+s/kAQFhYGJYtW4bNmzfj6dOnSH5aGxsbo3bt2ujTpw/atGkDA4PMPU2rj32jj/MG0F89oK9zFNDP/tFXXaCP41mf++bMmTNYuHAh/vvvP3z+/BlWVlZSPnFxcShUqBD69OmDfv36IVeuXJnKIztd24Dst394DGSuQZ5d6rXs1h4Ass++0Uj8YAoUKCDatWsn9u3bJ+Lj4zUuExYWJqZPny6cnZ3FypUrM5WPi4uLWLp0qXj37l2ay509e1Z06NBBTJs2LcN5dOzYUdy8efOry3369EksW7ZM/P333xnOQwgh7OzsxKhRo8StW7dSXSY2NlZs3LhRVKtWTcyePTtT+ZQvX15UqVJFLF26VDx+/Fht/qdPn8Tx48dF3759RZ48ecTWrVszlU+1atXE3r17RWJiYprLPX36VPj4+Ih58+Z90/kMGjRIWFpainbt2ol169aJu3fviujoaPH582cREREhjh49KiZNmiSKFy8uSpUqJS5cuJDhPPS1b/Rx3gihv3pAX+eovvaPPuoCfRzPQuhv3zRr1kzkz59fjBo1SgQEBIjY2FiV+SEhIcLPz094enoKBwcHcejQoUzlk52ubUJkr/3DYyBzx0B2qteyU3tAiOy1bzT54YKj27dvp3vZ+Ph48eDBg0zlk1rFJNfy+vT69WudLq/k7++foTwuXbqUqXyymzFjxqR7mx84cEDs2LEjw3noa9/o67zRVz2gL/raP/qoC/RxPOvT8uXL032c3rp1Sxw5ciRT+fDaljn62D88BjJ3DGSnek1f9FV/Zvd988M9VkeUFR4+fIhChQpldTGISINjx46hRo0asj0f/6P49OkTtxkRZTs/dHDk7u6OunXrok6dOqhZs6ZOK/mLFy/i+PHjePnyJZKSklTmzZs3T+v0Y2JiMHPmTBw9elRjHg8fPtQ6D6Xnz5/j9OnTGvMZPHiwLHl07doVHh4ecHd3h5ubmyxpapKYmAg/P79Ut9uxY8dkycfAwAAFChRAnTp1pGOucOHCsqSdFZKSkvDgwQON28zd3V22fHR93gD6qwf0eY4CwMuXLzXmU7ZsWdnyCA4OTnX/TJgwQev0V69eDQ8PD1k7q2uSM2dOJCQkoHLlyirHgpmZmc7y/PDhg9o2s7S0lC39yMhIXLhwQeO+6dq1qyx5mJqaokqVKlK9VqNGDZ1ss0+fPmHx4sWpHmtXrlyRNb/4+HiN+RQsWFDrtCdMmAAPDw9ZO6un5tOnT7h+/brGdWnevLls+Rw9ejTVem316tWy5KGvNgGg+zaOvtod+qo/lbLDNUfphw6Opk6dioCAAJw9exYJCQmoVKmSyoXR3NxclnymT5+OcePGoVixYrC3t4dCoZDmKRQKWU6EX375BSdPnkSXLl2QL18+lTwAYMiQIVrnAQB+fn7o27cvjI2NYWtrq7YucjXwevXqhYCAADx48AD58+dXCSoy2+lWk4EDB8LPzw9NmjTRuN3mz58vSz7Pnj3DiRMncPLkSZw8eRLBwcFwdHREnTp14OHhgV69esmSz5s3bzBhwoRUK4+3b99qnce5c+fQqVMnPHr0CCmrD4VCgcTERK3zAPRz3gD6qwf0dY5evnwZ3t7euHPnjrR/FAqFNMqXXPvnr7/+Qv/+/ZEnTx44ODio7R85GqxFihTBw4cPpTpAWQ/I/cPC58+fceHCBen8PHv2LOLj41GpUiV4eHhg6tSpsuQTGhqKgQMH4sSJE/j06ZM0Xe59899//6Fz58748OEDLC0t1faNHPUAAJw+fRoBAQE4ceKEyvmj3E8NGzaUJZ/OnTvj0KFDaNu2rVpdAAATJ06UJZ/g4GD06NEDZ8+eVZku5/5p2LAhAgMDpWBcua3kDsb9/f3RtWtXvH79Wm2enMfa5MmT4evri0qVKmms13bt2iVLPvpqE+ijjaOvdoe+6s/sdM2R0vuRgyOlhIQEXLx4ESdPnsSJEydw7NgxGBgYqFy8tGFvb48///wT3bp1kyU9TaytrbFv3z7UrFlTZ3kAgJOTE/r164exY8dqNcpJej179gwBAQFSo+X+/fvIly8fnj59Kkv6efLkwbp169C4cWNZ0kuv4OBgTJs2DRs2bEBSUpJslUfjxo3x4MED9OzZU2MjwtvbW+s8ypcvj6JFi2Ly5MkaK3YrKyut8wD0c94kp+t6QF/naLly5eDm5gYfHx+Nx0BmRw1KydnZGb/99ht8fHxkSS81yh8WlPVAcHAw8uXLh7p162L9+vU6yfPWrVuYPXu27OdnzZo1IYTAkCFDNO6bOnXqyJJP0aJF0bhxY0yfPl224P5rlOfPihUrZN9uVlZW2L9/v87PnZo1a8LIyAhjxozRWLeVK1dOlnwSEhJw/vx56Zg+e/Ys4uLiULlyZZw+fVqWPIoUKSKNSmdvby9Lmprky5cPs2bNQpcuXXSWR3K6bhPoo42jz3aHPurP7HbNAX7g9xwl9/DhQ9y4cQPXrl3D9evXkStXLlkfDTIwMNB5pZ47d269vBQvNjYWHTt21EtgBHxZL1tbW+TOnRvW1tYwMjLK9PCWmhgbG+vl8bbY2FicPn0aJ06cwIkTJ3D16lUUL14cAwcORN26dWXL59SpUzh9+rRsF3FNgoODsX37dp1vN32cN8npuh7Q1zn68OFD7NixQ+f75927d2jXrp1O8wCA/Pnzo3PnzmjVqhVOnTqFTZs2YcOGDdi8ebNsF/f79+9L5+bJkycRFxeH2rVrY86cObKen9euXcPly5dRrFgx2dLU5NmzZxg8eLBeAqPk2+7EiROIi4tD06ZNZd1u+fPnz/Tw1hkRFBSEy5cvo3jx4jrNx8jICDVr1pReZpsrVy7s3r0bd+/elS2PiIgIDB8+XKeBEfDlEUS53zGTFl23CfTRxtFXuwPQT/2Z3a45AKCfFu43qlOnTsifPz9q1KgBf39/VKtWDQcOHMDr169luxUMAMOGDcPSpUtlS0+TKVOmYMKECYiNjdVpPj179sS2bdt0mgcA/P7776hRowZsbW0xZswYfPr0CWPGjEF4eDiuXr0qWz4jRozAwoUL1R4Pk5u1tTW6dOkircfz589x9epVzJ8/Hy1atJAtn+LFi+Pjx4+ypadJ1apV8eDBA53mAejnvAH0Vw/o6xytX78+rl27ptM8AKBdu3Y4dOiQTvM4dOiQSl0wduxY5M6dG9u3b8erV69ky6d48eIYP348SpcujQMHDuDVq1fYtWsXhgwZIusPDZUrV8aTJ09kSy81np6euHTpks7zyZ8/P6pVq6bxvJHrMVEAmDt3Lnx8fPDo0SPZ0tSkZMmSGh9Dk9PKlSvV6pxatWrh0qVLsh7Tbdu2xYkTJ2RLLzW9evXCxo0bdZ6PvtoE+mjj6Kvdoa/6Mztdc5R+6MfqDAwMkCdPHvTo0QP16tVDrVq1dPJLW1JSEpo0aYL79++jZMmSyJEjh8r8nTt3ZirdChUqqNy+fPDgAYQQcHFxUctDrmcxExMT0bRpU3z8+BFlypRRy0euTvIGBgbImzcvhg0bhtatW6No0aKypAsArVu3Vvn/2LFjsLGxQalSpWTbNym1bNkSp0+fhrGxMerWrSt95Fwv4MsABmPGjMGECRNQunRptfXJbIfv69evS3+HhIRg3LhxGDVqlMZjQK7Ol7o6b1LSZT2QFefo69ev4e3tjSpVqmg8BrTpiL1o0SLp75iYGMybNw9NmjTReBzI0XFZWQ+MGDECffr0gbW1tdZpajJ06FAEBATg9u3b+Omnn6TzU+5rQkhICPr164dff/1V477R5tz5999/pb9fvXoFX19fdO/eXeO+kaszfvny5XH37l2dbjPgy/q0b98eAQEBMDc3V1sfbfpQRUdHS39funQJ48aNw/Tp0zVuNzkGzEh+TP/222/ImTOn1mlqEhsbi3bt2iFv3ryyn5/Dhw+X/k5KSsLatWtRtmxZlC1b9rtsEySnqzZOVrQ79FV/ZqdrjtIPHRy9e/cOp06dkh6luHPnDsqXLy9V8o0aNZIln4EDB2LVqlXw8PDQ+DzmmjVrMpXu5MmT072sXB1Wp06digkTJui8k/y1a9ekvh+nTp2CsbGx1JlQ26Cie/fu6V42s/smNdevX5eelT516hSMjIxQt25dbNiwQZb0g4OD0alTJ7WGtrYdIw0MDKQOlproovOlrs6blHRZD2TFOfrff/+hS5cuKo0+JW33T3pHPZKr4/KCBQsQEBCAgIAAmJiYyFYHpCYyMhKnTp2SztFbt26hQoUKOHPmjCzpKwczCQsLk6bJde6k9zEgOc9R4Ms2S94H5Pbt2yhfvjw8PDwwbdo0WfJo0KABHj9+rJO+lMq6TUm5L5KTs27bvXu3NIjFnTt3UKFCBZ0Eln///Tf69esHU1NT2QcW8PDwSNdy30ubIDldtXGyot2hr/ozO11zpPR+5OAopQcPHmDq1KmydybNlSsXNm/ejCZNmsiSXlbKnTs35s+fr7dO8krXrl3D/PnzZd83+iaEwNWrV3H8+HEcP34cBw8ehBACCQkJsqRfpUoVGBkZyd7hOyOPs8jV+TKrzhtd1QP64uLigqZNm2L8+PE672+gTzdu3MDJkydx7Ngx7N27F3Z2drJ1wlZ68+YNTp48iePHj+PEiRO4ffs2cufOLdujViVLlkSJEiUwevRonXZczgpv3rzBiRMnsGfPHmzatEnWc8fc3ByBgYE66Ut58uTJdC8r14AZSlFRUTh16hS2bduGTZs2yToAjIODAwYPHowxY8borY+wPumqTZBVbRxd02X9mR2vOT/0gAzKC6GyI+nt27dhbW2NZs2ayVoJ2tjY6Hxcfn0xMTHRSyd5ZRCh3DenT59GdHQ0ypYtK/sFSh/mzZsnrcf79+9Rrlw5uLu7o0+fPqhdu7Zs+dy8eRNXr16VvcN3VjTa9HXe6Kse0Jc3b95g2LBh2eYilbwuOH78OE6fPo2kpCRZO2EPHjxYJRhyd3dH7969UbduXZQpU0a2fB49eoR///33u37HWXI7d+5UOW9sbGxQq1YtzJ07V9ZzR5d9KbPiHE9Z59y6dQu5c+eW9VoQHx+PDh06ZJvASF9tAn21cfRFH/VndrvmAD/4nSNDQ0PkyZMHtWvXlm43ynkhVFqzZg38/f2xZs0anY0elDt3brVfIYEvtxpNTU1RuHBhdOvWLUO3djWZMWMGXrx4ofIcqC7kzp0bHz58QLly5aR9U7t2bdmfmU3ZJ0Qp5XZL72MEqUn+PovatWvLNtx1Su7u7pgwYQIaNGigk/QB1b4NySXfZnK8dE4f5w2gv3pAX+eot7c3ateuLdu7s1KTvN9BcsnXp0WLFlqN0NesWTOcOXMG0dHRKFeunPReE3d3d1nrgnbt2kn7vnTp0rKlm1KzZs3QrVs3tGnTRmd5AEi1fk6+b9zd3WFoaKhVPnZ2diovUdbFeQN86Vg+efJkTJs2TWd9gQDVvpXJKbdbwYIFYWJiolUeZcqUwZ07d6QgXLnt5HxRJvBlQJu8efPi999/lzXdlFq1avXVeq1Tp05a/2CnrzaBPto4+mp36Kv+zE7XHCnNHzk4unXrFkqVKqXzfCpUqICQkBCddsSeP38+pk2bBi8vL1SpUgUAcOHCBfj7+2PYsGEIDQ3FP//8g8WLF6N3796ZzqdVq1Y4duwYbG1tddqRcN++fahdu7asb4zXZOzYsVi2bBnKlCkjbbeLFy/i+vXr6NatG27fvo2jR49i586dso4qpyvbtm3DpEmTdDpYQmr9j5L3nahVqxZ2796N3LlzZzoffZw3gP7qAX2do9OmTcOCBQt03mnVw8MDV65cQWJiotTwuX//PgwNDVG8eHHcu3cPCoUCp0+fRsmSJTOVx6hRo1CnTh2d/qCgTytXrsTUqVPRo0cPnQ6U4OrqilevXiE2NlY6B9+9ewdzc3PkzJkTL1++RKFChXD8+HE4OTnJkqcuKe9+6LIvkDIfTY1WpRw5cqBDhw5YsWIFTE1NM5XH0qVLUadOHZ0G4cCX83zdunUoV66cTgdK6NatG3bv3g1ra2tUrFgRwJe6OTIyEo0aNcK1a9cQFhaGo0ePanVHRl9tAn20cfTV7tBX/ZmdrjlKP3RwpPTq1Svcu3cPAFCsWDFZbzcCX++ULUdH7DZt2qBhw4bo16+fyvQVK1bg0KFD2LFjBxYvXoyVK1fixo0bmc7na79qyz2AAQDpudgCBQrInnbv3r1RsGBBjB8/XmX61KlT8ejRI/z111+YOHEi9u3bp/XQuJGRkfj7779x584dAF/6H/Ts2VPWSkvTIxRyD5Zw9OhR/PHHH5g2bZpKI3/8+PEYN24crKys0LdvX1StWhV///13pvPRx3mTnK7rAX2do2ndtZOz0+qCBQtw6tQprFmzRmqwREVFoVevXqhVqxZ69+6NTp064ePHjzh48KAseepSSEgIFixYoHJ+DhkyRNZHO9N6xEnORv6mTZuwcuVKrFq1Sir/gwcP0LdvX/Tp0wc1a9ZEx44d4eDggO3bt2uVV2JiInbv3q2y3Vq0aKH1XankvtYvSK7Hqvbs2QMfHx+MGjVKpW6bO3cuJk6ciISEBIwZMwYdOnTAnDlztM5P2fxKKyDLrLTuOsg5UMKYMWMQHR2NJUuWSMd3UlIShgwZgly5cmHatGno168fbt26JdsLbnXZJtBHG0ef7Q59yJbXHPED+/Dhg+jevbswNDQUCoVCKBQKYWRkJHr06CFiYmKyungZYmFhIYKDg9WmBwcHCwsLCyGEEA8ePBDm5ub6LlqmJCYmismTJwtLS0thYGAgDAwMhJWVlfD19RWJiYmy5WNpaZnqdrO0tBRCCHHnzh2RM2dOrfK5ePGisLGxEfnz5xetWrUSrVq1EgUKFBC2trbi8uXLWqWdXFhYWJofOZQqVUqcOXNGbfrp06dFyZIlhRBCHD58WDg5OcmSn67pqx7Ibueoo6OjuHXrltr0mzdvCkdHRyGEEJcvXxa2trZa5XPixAnRtGlT4ebmJtzc3ESzZs1EQECAVmmm5O/vL4yNjUWVKlXEsGHDxLBhw0SVKlWEiYmJOHTokKx56UOhQoXE1atX1aZfuXJFuLq6CiGEOHPmjHBwcNAqn+DgYFGkSBFhbm4uKlSoICpUqCDMzc1FsWLFxIMHD7RKOytUrlxZ+Pv7q0339/cXlStXFkIIsWvXLlGoUCGt8lm7dq0oXbq0MDExESYmJqJMmTJi3bp1WqWZVfLkySPu3bunNv3evXvSuX/9+nVhZWWlVT76ahPog77aHULop/7UF31dc4QQInv01Muk4cOH4+TJk/jvv/8QGRmJyMhI7NmzBydPnsSIESOyungZYmNjg//++09t+n///Sc9fxkTE6OXt4zL4Y8//sCSJUswc+ZMXL16FVevXsX06dOxePFitV9btGFqaoqzZ8+qTT979qz02ERSUlKmH6FQGjZsGJo3b46wsDDs3LkTO3fuRGhoKJo2bYqhQ4dqlXZyzs7OaX7kEBISovHRBktLS+kXoiJFiuj8ZYpy0Vc9kN3O0aioKLx8+VJt+qtXr6QhXa2trREfH5/pPNavX48GDRrA3NwcgwcPxuDBg2FmZob69evL+uLJMWPGYNiwYTh//jzmzZuHefPm4fz58xg6dCh8fHxky0dfXrx4oXEEzISEBISHhwMAHB0d8f79e63yGTx4MNzc3PDkyRNcuXIFV65cwePHj+Hq6irrO0eUwxGn9pHLjRs3NNaTzs7O0t3c8uXL48WLF5nOY968eejfvz8aN26MrVu3YuvWrfj555/Rr18/zJ8/P9PpZpWEhATcvXtXbfrdu3elO6GmpqZa3x3TV5tAH/TV7tBX/akv+rjmKP3Qo9Xt2LED27dvR926daVpjRs3hpmZGdq3b49ly5bJks/XnmOW41GK8ePHo3///jh+/LjKM6z79+/H8uXLAQCHDx/W+vEDV1fXNNdFrtuna9euxapVq1SewS9btizy58+P3377Tbb3ZwwaNAj9+vXD5cuXUblyZQBfttuqVaukjqwHDx5E+fLltcrn0qVL+Ouvv2Bk9H+nnJGREUaPHo1KlSpplXZy69atS3N+165dtc6jYsWKGDVqFNatWyc9evbq1SuMHj1a2obBwcFa92XQx3kD6K8e0Nc52qNHjzTnr169Wqv0lVq0aIEePXpg7ty5KufOyJEj0bJlSwBfHknS5n0a06ZNw6xZszBs2DBp2uDBgzFv3jxMmTIFnTp10modlO7cuYOtW7eqTe/RowcWLFggSx4A4Ovrm+b8CRMmyJKPh4cH+vbti1WrVqFChQoAgKtXr6J///6oV68egC+BgLYDp5w8eRLnzp1T6QBta2uLmTNnyjriV/JzUyl53SBXXVC8eHHMnDkTK1euhLGxMQDg8+fPmDlzJooXLw4AePbsmVajci1evBjLli1TqYubN2+OUqVKYdKkSSrHujY8PDzSrD/leqyuS5cu6NmzJ37//XeVemD69OnSOp48eVLrfp36ahPoo42jr3aHvurP7HTNUfqhg6PY2FiNlZydnR1iY2Nly2fXrl0q/3/+/BlXr17F2rVrM/SSyLT07t0bJUuWxJIlS6QOg8WKFcPJkydRo0YNAJDlV/CUdzmU6+Lv749Ro0Zpnb7S27dvpYtRcsWLF9fqbegpjRs3Dq6urliyZAn++ecfAF+2219//SVVHP369UP//v21ysfS0hKPHz9WW6cnT57IeqdgyJAhKv9//vwZsbGxMDY2hrm5uSzB0d9//40WLVqgQIECUgD05MkTFCpUCHv27AEAfPjwAePGjdMqH32cN4D+6gF9naPv3r1T+f/z58+4efMmIiMjpYaxHFasWIFhw4ahY8eO0l0KIyMjeHt7S7+AFy9eHKtWrcp0Hg8fPkSzZs3Upjdv3lzWUbjy5s2LoKAgFClSRGV6UFAQ7OzsZMtH0zEdGhoKIyMjuLm5yRYc/f333+jSpQsqVqwodY5OSEhA/fr1pX6AOXPmxNy5c7XKx8TEROPdpw8fPkjBhRw0HdNXr17F+PHjZWsUA18GS2jevDkKFCggDV5z48YNJCYmYu/evQC+HJO//fZbpvN48eKFdL4nV6NGDa3uSKWUsmH9+fNnBAUF4ebNm1q9NDel+fPnw97eHrNmzUJERAQAwN7eHsOGDZPuujZq1Ag///yzVvnoq02gjzaOvtod+qo/s9M1R6L1g3nfsXr16ol27dqJjx8/StNiY2NFu3btRP369XWe/4YNG0Tz5s11no8+LFmyRHTr1k229KpUqSIGDRqkNn3gwIGiatWqsuWjL4MGDRIFChQQmzdvFo8fPxaPHz8WmzZtEgUKFBBDhgzRad73798X9evX1/gsfWYlJiaKAwcOiIULF4qFCxcKf39/vT33Lfd5k9X1gD4kJiaKPn36iD///FP2tN+/fy+uXbsmrl27Jt6/fy9r2m5ubmL58uVq05ctWyYKFy4sWz6TJ08W1tbWYubMmSIgIEAEBASIGTNmCGtra+Hr6ytbPppERUWJVq1a6aTPyZ07d8SePXvEnj17xN27d2VPv0uXLqJUqVLi3LlzIikpSSQlJYnAwEBRunRp4e3tLXt+KZ04cUL89NNPsqYZHR0tli1bJvU9W758uYiOjpYt/VKlSolp06apTZ8yZYooXbq0bPmkZuLEiWLEiBE6STsqKkpERUXpJO2sbhPI3cbRB33Vn5p8r9ccpR86OLpx44ZwdHQUtra2ol69eqJevXrC1tZW5M+fX9y8eVPn+YeEhEgdsTMjeSWkrJRS++haSEiIyJUrl2zpnThxQlhYWIgSJUqIHj16iB49eogSJUqInDlzfpedCePi4sTgwYOFsbGx1JnUxMREDB06VHz69Enn+V+8eFEUK1ZM5/nog7bnTUq6rAe+pXP07t27WnfA17f//e9/wtjYWPTr10+sW7dOrFu3TvTt21eYmJhovOhnVlJSkpg3b57Inz+/NChH/vz5xYIFC0RSUpJs+aTm+vXrwtnZWef5yO3du3eiefPmQqFQCGNjY6l+a9mypYiMjNR5/nfu3JG1LtCH7du3C0NDQ+Hp6Sl8fX2Fr6+v8PT0FEZGRmLnzp06zz84OFjkzp1b5/nILavbBHK3cfRBX/Vnar7Ha47SDz+Ud2xsLDZs2CB1KCxRogQ6d+4MMzMzneb78eNHjB07FgcOHJCGD84oQ0NDvHjxAnZ2dqn2zxAyvwciNbNmzcL//vc/hIWFyZbm8+fPsXTpUpV989tvv8HR0VGrdG1sbHD//n3kyZMn1RdzKsl5ux74cryFhIQAANzc3HT6ctPkgoKC4O7uLnVazKhFixahT58+MDU1/erL8eTsiJ2SHOeNJrqqB76lc3T//v3w9vbGq1evMp1G69at4efnB0tLS7Ru3TrNZeV659muXbswd+5caajoEiVKYNSoUTp775jyMTF9Doxx+vRpNGvWTO3xlIwYPnw4pkyZAgsLi1Rflqgk1ztulIKDg1XOncKFC8uafsqXswoh8OLFC8ycORMJCQlaDRH977//wsvLCzly5Ej1BddKcr2H6vLly5g/f77KMT1ixAipf5gu/fPPP/Dx8cHz588zncZPP/2Eo0ePInfu3Km+0FRJrvfRAbprE6SHtm2crGp36Lv+TO57veYAP3ifIwAwNzfX6oWL6ZHyRBBC4P379zA3N8f69eszne6xY8ekjrDHjx/XupzpkbIiFEIgPDwcr169wv/+9z9Z83J0dJT1eXKl+fPnSw0fOTtbp4e5ubnO3iIPQO3irmxELFmyRKsO0vPnz0fnzp1hamqa5ohKCoVCtuBIV+eNJrqqB7LiHE3ZMFYeA/v27dO6r4GVlZW0T/T1UtZWrVqhVatWeskL0G1QlPKHBeW++eeff+Dl5aVV2levXsXnz5+lv1Oji3fqFClSRK2/lpzKly+v8cXT1apV07qzd8uWLREeHg47OzupU7cmcv6AUbFiRdnrsJRSNiSVx9qlS5e0Ht2tRYsWMDExAYA0t5ncdNUmSE5XbZysanfoo/7Mbtcc4Ad8CezXfhlKTq5fifz8/FRONgMDA+TNmxdVq1aV3l7+vUjZEV65LnXr1tXYWTIjUv46mBZlZ9lv2dd+5UhOrl88Ur5kUqFQIG/evKhXrx7mzp2LfPnyyZKPPujyvMmKekBfUr78Ubnd6tWrhx49eqiMmPgj+9ov3snJ9et3ytHhku+bsWPHfhfDuH/trlRyct2hevTokcr/yu2m7VDH+pKRO/aaXpOQGSlfZpr8WGvUqJEseehaVrQJdNnGya6y4zXnhwuO0npDeXL6eMxFbpGRkbhw4QJevnyJpKQklXlyjFKma8rHjr52SMq9b5KSkvDgwQON283d3T3T6X7tTdvJyfHWbUq/rKoHvvdzVB++9shJcto8fpKREQ8nTpyY6Xyym5QNodQoFArZhov+3n3ttQSA/h6v1ZX4+HiN9VrBggUznWZWtQn0QVftDn3Vn9ndDxcc6cv169dRunRpGBgYfPXXDzl+8fjvv//QuXNnfPjwAZaWlionh0Kh0OokiI6Oln7N+tovYNr86pXy18G0yPVC03PnzqFTp0549OiRWgX8PVa4+pCYmAg/Pz8cPXpUY8WuTYNI3+eNPunyHM0KERERGDlypHQcpDx/MnvurF27Nt3LyjkkcXYSExODmTNnpnqOyvU+Ol3Kqn6OR48eTXW7ZfYRvpMnT6Z7WW3fc6Zv9+/fR8+ePdVeaipHsKevNoG+2jhKumx3ZOf6U1fXHE0YHOmIgYGB9BxzWr9+yNUAL1q0KBo3bozp06fL3sn/W+pULrfy5cujaNGimDx5MvLly6e2bvp8xjWz9N0Re+DAgfDz80OTJk00bjNt3vKu7/NGn3R5jmZFB2kvLy88fvwYAwcO1Hgc6KPD7/cgKzoU//LLLzh58iS6dOmicd+kfB/at8jV1RWXLl2Cra1tmi+rVSgUsgV7kydPhq+vLypVqqRxu6V8T9W3Jis6/desWRNGRkYYM2aMxm1Wrlw5WfLRJX23cbJDuyO7X3O+vwcBvxOhoaHImzev9LeuPXv2DIMHD9bJ6GdZ0alcX4KDg7F9+3bZR1fSJ313xN68eTO2bt2Kxo0by5Jecvo+b/RJl+doVnSQPn36NE6dOqX1W9yzu6zoUHzgwAHs27dPq0FYslry819fdcHy5cvh5+eHLl266CU/uWVFp/+goCBcvnz5u+6Po+82TnZod2T3aw7vHGUTrVu3RseOHdG+ffusLsp3pV69ehg9erTWb+/+kTg6OuLEiRMoWrRoVhflu5LdztGSJUtiw4YNehl+mDLG1dUV+/fvR4kSJbK6KN8VW1tbXLhwAW5ublldlO9G5cqVMX/+fNSqVSuri/LdYLsjc/R5zWFwpCP6GA0reR6vXr2Cr68vunfvjjJlyiBHjhyy5AFkv1Hkkq9PSEgIxo0bh1GjRmncbt/D+ujb3Llz8fDhQyxZskT2YYGz2yhy+jpHs8KhQ4cwd+5crFixAi4uLlldHEpm/fr12LNnD9auXau3d6nJLStGxfPx8UHOnDm1Huo6q+hrVLzk+Vy6dAnjxo3D9OnTNdZrco2+p0v6aOOw3aE9fV5zGBzpiKYhlZNv6uSNysw+w6qvEbeS9/34WmP4e+gH8rURcJKv6/ewPvoYMjxlHsrHEEqVKqVWsWvTb0If540+6esc1dcIRSnziYmJQUJCAszNzdWOg+9tgAld0deQ4SnzefDgAYQQcHFxUds3cr6YU1dSjop35coVJCQkoFixYgC+DARgaGiIihUrajUITPIgLCkpCWvXrkXZsmVRtmxZte0m98tz5ZaeUfGU5GgTKGlqG3xP11B9tHGyW7sju19z2OdIR5KPcnPkyBH4+Phg+vTpqF69OgAgMDBQ+rVFjjx0Kfnz3levXsXIkSMxatQolXWZO3cuZs2apZfyaOtb68uybt061KxZM9OPciTvxyCEwK5du2BlZYVKlSoB+PI29sjIyAwFUWnlAUBnL5XTx3mjT/o6R5P3L3jz5g2mTp0KT09Ple128OBBrX8R1/dLk78Fvr6+8PDwQO3atTP1/eTP43/69An/+9//ULJkSWnfnDt3Drdu3cJvv/2mVTn1+TLO9AgICEC5cuUy3c8qed+PefPmIVeuXFi7dq30jrN3796he/fumd4vSin7aSr7M9y8eVNlui5eniu35NssLCwMY8aMQbdu3VTqgbVr12LGjBmy5ZMd6KON8621O7SV7a85gjRSKBTCw8NDXLp0Seu0SpUqJU6dOqU2PSAgQBQvXlzr9PWpcuXKYt++fWrT9+3bJ3766Se9lMHFxUX06NFDPHv2TC/56ZpCoRDGxsZi4MCBWqc1evRo0atXL5GQkCBNS0hIEH369BEjR47UOn19+hbOGznrAX1p3bq1WLx4sdr0xYsXixYtWui/QDrSvXt3sW7dOp3n4+LiIszMzETTpk21Tqtnz55i3LhxatMnTJggunfvrnX63xKFQiFsbGzEnDlztE7L0dFR3Lx5U236jRs3RL58+bRO/1vh4eEhfH19RUxMjNZp1atXT2zcuFFt+oYNG0SdOnW0Tv9bImeb4Fto4+iDnPVndrzmpO+Zjx/Q6tWr4e7ujgEDBmidVkhICKytrdWmW1lZISwsTOv09enGjRsah1V1dXXF7du39VIGb29vJCYmftcjMSWXlJSEu3fvytJ5evXq1Rg5ciQMDQ2laYaGhhg+fHim39GRVb6F80bOekBfDh48qLGj788//4wjR45kQYl04+HDhxg/frzORy4KDQ3Fmzdv0L9/f63T2rZtm8aX/f7666/YsWOH1ul/S0JDQ7F9+3ZERERonVZ0dDRevXqlNv3Vq1d4//691ul/KwoWLIijR4/KMvJbYGCg9PRAcpUqVcKFCxe0Tv9bImeb4Fto4+iDnPVntrzmZHV09iOoXbu2aNiwoQgPD5emhYeHi0aNGgl3d/csLFnGVahQQXTp0kXExcVJ0+Li4kSXLl1EhQoVsrBkJIQQ1tbWYvfu3WrTd+/eLaytrbOgRJmXnc4bfSpYsKDGX+vnzJkjChYsmAUl0q1bt25ldRHSzd7eXqxZs0Zt+po1a4SdnZ3+C/Sd6NKli3BxcRE7duwQT548EU+ePBHbt28Xrq6uomvXrlldPNlFRUVpnUbRokXFqFGj1KaPGjVKFC1aVOv0s6sfrY0jR/2ZHa85P2Sfo+Qv/NKH1atXo1WrVihYsCCcnJwAAE+ePEGRIkWwe/duvZRBLsuXL0ezZs1QoEABaUSV69evQ6FQ4L///svi0n27UhtFSKFQwMTEBMbGxrLk0717d/Ts2RMhISGoUqUKAOD8+fOYOXMmunfvLkse+qKP8+bz588wMzNDUFAQSpcuLUuaWW3y5Mno1asXTpw4gapVqwL4cgz4+/vjr7/+yuLSZUxAQABq1KgBIyPVS1VCQgLOnj0Ld3d3lCxZUut8UhutSqFQwNTUFAULFpTe6aGNoUOHon///rhy5YrK+bl69ervdoQ0fVi+fDlGjhyJTp06Se90MzIyQs+ePTF79uwsLp32IiMjVe6SyzHC2/z589GmTRscOHBAqgcuXLiA4ODg7/Iupa+vL0aOHKk2+uLHjx8xe/ZsTJgwQZZ8frQ2jhz1Z3a65ij9kKPVGRgYIDw8XG/BEfClo/zhw4dx9+5dAECJEiXQoEGD76KTZ0oxMTHYsGGDyrp06tQJFhYWsqX/559/YufOnQgLC4NCoYCrqyvatm2rsXL8HnxtFKECBQqgW7dumDhxYrpHONMkKSkJc+bMwcKFC/HixQsAQL58+TBkyBCMGDFC5XG774E+zptChQph165d38Wb3NPr/PnzWLRoEe7cuQPgy3YbPHiwdOH6XqT2Q9abN29gZ2cn26hOXzs/c+TIgQ4dOmDFihUwNTXVKq+tW7di4cKFKvtmyJAh3+X7r1IbsUoZVBYuXBjdunWT7YeZmJgYhISEAADc3Nxku+bo059//gkXFxd06NABANC+fXvs2LEDDg4O2L9/v6z10JMnT7Bs2TKV+rNfv37Sj03fE33VBYDu2zi6lFWvw8gu1xwlBkd69unTJ5iYmHyXQZE+xMfHo0aNGrh58ya8vLxQvHhxCCFw584d+Pv746effkJAQIDaEI7funXr1uGPP/5At27dpF+ML1y4gLVr12LcuHF49eoV5syZg1GjRuH333+XJU/l3arv4T0TX6PL8+bvv//Gzp078c8//0hvSadvg4GBASIiIpA3b16V6ffv30elSpUy9F6XtOzZswc+Pj4YNWqUyvk5d+5cTJw4EQkJCRgzZgw6dOiAOXPmyJJndjB//nxMmzYNXl5eKtvN398fw4YNQ2hoKP755x8sXrwYvXv31jq/Bw8eICQkBO7u7jAzM0vX0MvfGldXV2zYsAE1atTA4cOH0b59e2zZsgVbt27F48ePcejQoawu4jcptbrg2LFj6NChg8Y+aT8ifb0+ItvLuif6so5CoRDTpk0TCxcuTPMjl8TEROHr6yscHR2FoaGhCAkJEUIIMW7cOLFq1SrZ8kmN3CNurVu3TtSsWVPky5dPhIWFCSGEmDdvnsa+Lhm1YMECYW9vL+7evas2786dO8Le3l4sWrRI63zSQ84RcOrVqye2bNmiNn3Lli2iXr16Qogv27VYsWJa5/X582dx+PBhsXz5chEdHS2EEOLZs2fi/fv3Wqf9NWvXrhUPHjyQJS19nTfly5cXOXPmFCYmJqJo0aKiQoUKKh99kPscffDggfjjjz/EL7/8IiIiIoQQQuzfv1/jiF+6oO1ISK1atRKtWrUSBgYGonHjxtL/rVq1Es2bNxcuLi7C09NTtvJWrlxZ+Pv7q0339/cXlStXFkIIsWvXLlGoUCGt83r37p3466+/xNixY8WbN2+EEEJcvnxZPH36VOu002Py5MkiICBAlrRat24tli1bpjZ9+fLlonXr1kIIIRYtWiRKly6tVT6vX78W9erVEwqFQhgYGEh1Qffu3cXw4cO1Sju9Tp48KSIjI7VOx9TUVDx+/FgIIcTgwYNFnz59hBBC3Lt3T/Z+oQEBAaJz586ievXq0vG1bt06jaOA6oIco+9ZW1uL3LlzCwMDA+lv5cfS0lIYGBiI3377TcZS67aN8zXf62i83/s1J6UfNjhycnISLi4uqX5cXV1ly2/y5MmiUKFCYv369cLMzEyq2Ddv3iyqVasmWz6pWbNmjZg4caKoWrWq1mn973//E3ny5BFTp04Vpqam0rqsWbNG1K1bV+v03d3dxZIlS1Kdv2jRIr11xp84caLw9vYWLi4uWqdlamoq7t+/rzb9/v37wszMTAghxMOHD6W/MyssLEwUL15cmJubqwQUgwcPFn379tUq7fSQc1hyfZ03kyZNSvOjD3KeoydOnBBmZmaiQYMGwtjYWNpuM2bMEG3atNE6/fSoU6eOcHZ2FuXKlcvU97t16ya6desmFAqF6NChg/R/t27dRJ8+fcT06dPFq1evZCuvqampuHPnjtr0O3fuCFNTUyGEEKGhoVqfn9euXRN58+YVhQsXFkZGRtK++eOPP0SXLl20Sju95Bya3MLCQgQHB6tNDw4OFhYWFkKIL40mc3NzrfLp0qWL8PT0FE+ePBE5c+aUtpu/v78oWbKkVmmnl1xDk+fLl0+cOXNGCPFl0IStW7cKIYS4e/euyJUrl9blVNq+fbswMzMTvXr1EiYmJtI2W7x4sfDy8pItn7R4e3uLOnXqCCcnp0yn4efnJ9asWSMUCoVYuHCh8PPzkz4bN24UZ8+elbHEum/jfI2c7Q59yQ7XnJR+2OBIGdnqg5ubmzhy5IgQQqhU7Hfu3PnuRhArUaKE2LVrlxBCdV1u3LghbG1ttU4/T548af7ScOPGDZEnTx6t89G3IkWKCB8fH7XpPj4+0shBFy9eFI6Ojlrl06JFC/Hrr7+KuLg4lf1z/PhxUbhwYa3STq+HDx+KpUuXap1Odjpv9KlatWpi7ty5QgjV7Xb+/HmRP39+vZZF25GQJk2aJD58+CBTaVJXvnx54e3trTJCVXx8vPD29hbly5cXQghx+vRprRss9evXl0YQS75vzpw5I5ydnbVKOyNiY2M1vsslo5ycnMS8efPUps+bN09qEF+7dk3Y29trlY+9vb0ICgoSQqhut5CQECkI07WwsDBx7NgxjSPAZcSAAQOEs7OzaNCggbC1tZXu6G/atEnWO9Xly5cXa9euFUKobrMrV65ovT8yStvR9z5//iz8/PykO266pOs2jr59+PBB7Nu3TyxbtkxnT0dlp2uO0g85Wp2+n1F+9uwZChcurDY9KSlJGnkns/Q98l5oaCgqVKigNt3ExAQxMTFapx8ZGQlbW9tU59va2iIqKkrrfPRtzpw5aNeuHQ4cOIDKlSsDAC5duoS7d+9i+/btAICLFy9KnXQz69SpUzh79qza6HcuLi549uyZVmmnl6urK3777Tet09HleaNJfHw8Xr58iaSkJJXpBQsW1DptfY6Kd+PGDWzcuFFtup2dHV6/fi1bPvoYSW7ixIlafT+9li5diubNm6uMUHXjxg0kJiZi7969AL68F0Tb4/rixYtYsWKF2vT8+fMjPDxcq7QzwszMDI0bN9Y6nfHjx6N///44fvy41Ofo4sWL2L9/P5YvXw4AOHz4MOrUqaNVPjExMRoH4nn79q0sowimh7OzM5ydneHh4aFVOvPnz4eLiwuePHmCWbNmIWfOnACAFy9eyFJvKt27dw/u7u5q062srBAZGSlbPprIPfqekZER+vfvL3X21yVdt3EA/Y28d/XqVTRu3BixsbGIiYmBjY0NXr9+DXNzc9jZ2WHw4MGy5KOva056yDH6HgD8kMGR0PMYFCVLlsSpU6fg7OysMn379u0aT8KM0Pe6uLq6IigoSG1d/P39ZXmJaVJSUpojqhkYGMjWiVCfo+I1b94cd+/exYoVK3D//n0AgJeXF3bv3g0XFxcAkOUlk0lJSRq3z9OnT5ErVy6t0wf0Nyy5Ls+b5O7fv4+ePXvi7NmzKtPF/+/sLcfxliNHDhQsWFAvHWCtra3x4sULtRcZXr16Ffnz55ctHw8PD40/zERFRcHDw0OWdY2IiMDIkSNx9OhRvHz5Uq2+k2t71qhRA6GhodiwYYN0frZr1w6dOnWSzpsuXbponY+JiYnG8+f+/ftqHc21oa+hyXv37o2SJUtiyZIl2LlzJwCgWLFiOHnyJGrUqAEAGDFihNb51K5dG+vWrcOUKVMAfFmPpKQkzJo1S+tgRd9y5MiBkSNHqk0fNmyYrPk4ODjgwYMH0vVF6fTp0yhUqJBs+ehr9L0qVarg6tWratcDuem6jQN8Gfq6X79+am2M2NhYTJ48WbbgaNiwYWjWrBmWL18OKysrnDt3Djly5MCvv/6KIUOGyJIHoNtrTlaNvvdDPlY3adIkrToIZtTu3buFlZWVmDlzpjA3NxezZ88WvXr1EsbGxuLQoUNapa3vRwT/+usvkT9/frF582ZhYWEhNm3aJKZOnSr9rS2FQiHKlCmj1ile+SlTpowwMDDQOp+4uDhRsWJFYWJiIlq2bCnGjBkjfHx8RPPmzYWxsbGoVq2aiI+P1zoffWvfvr3o3bu3EOLL7e2HDx+K9+/fi3r16olu3brJkoeyU3Rqn4IFC4oJEyaIxMRErfLR5XmTXI0aNYS7u7vYv3+/uHr1qggKClL5yGXVqlWicePGUid8XRkxYoSoVauWePHihciVK5cIDg4Wp0+fFoUKFZK1D5VCoRAvX75Um37v3j3Z+k78/PPPomTJkuJ///uf2LVrl9i9e7fK53vTs2dP0bJlSxEfHy+dn48ePRIVKlQQQ4YMkS2fr52jJiYmomvXruLjx4+y5alLN27cEHZ2duLnn38WxsbGom3btqJEiRLC3t5etgFghBBqHf6VHxsbG+Ho6Cjc3d3F6tWrtc5HU4f/+fPny3pMT58+XZQsWVKcO3dO5MqVS5w6dUqsX79e5M2bV9ZBjVxcXKQ+VIcOHRLW1tbi4MGDomfPnqJhw4ay5bNlyxZRqFAhsXjxYnH27Flx7do1lY9cdN3GESL1uvPo0aOydhuwsrKSBreysrISt2/fFkIIce7cOVkGf1LS5TVHoVCk6yNHu1AlXyF+vKG8U/tVLSXl4xVyOHXqFHx9fXHt2jV8+PAB/6+9O4+rMf3/B/46Ie2LNqKVypQQxYy9DNn3ZYgk64xdRUYZobJFyNhbxCDrfCjb2CUlpdFCq7JLhJShun5/9Ot8nc7J0rnu+yjX8/HweOg+x/W+S+ec+7qv63pd7dq1w5IlS9C7d2+p2pWTk8OKFSuEQ/PVoTV8CgB79+7F0qVLhftN6Ovrw8fHB5MmTZK6bR8fny96nrTTbTZs2AB/f39cunQJFhYWIo/duXMHPXr0wOLFizFr1iyp6nyssLAQcXFxEqduOTs7U6nx4MEDODo6ghCCjIwM2NraIiMjA9ra2rh8+TKV6Zd8xpJz9br5mLKyMm7evImWLVtSa1MSGxsbZGZm4sOHDzAyMhLbMyMhIYFKnffv32PGjBkIDQ1FWVkZ6tevj7KyMowdOxahoaFS73U1bNgwABXx13369BEZgSgrK8O///4LCwsLnDp1Sqo6AKCqqoorV66gbdu2Urf1ORkZGbhw4YLE1yetO7mvXr3CiBEjEB8fjzdv3kBfXx9PnjzBTz/9hKioKGr7qPAZTV5eXo7MzEyJPzdJ07pq6tWrVwgKChJ5L5gxYwaaNGlCrQYf0eRbtmzBkiVLMHfuXPj6+iI5ORmmpqYIDQ1FWFgYLly4QOV7IYTAz88P/v7+KC4uBlAxcunu7i4cgaNBUVER6enpMDAwwJw5c/Du3TvhDImOHTvi5cuXVOpIiqgWCARUR/grcXWNU7kv2KtXr6CmpiayxKOsrAxFRUWYPn06Nm/eLFWdSjo6Orh27RrMzMxgbm6OTZs2wdHREXfu3EH79u2pTRPk+jNHFr7LzlHlhn+SvnWuXmxckZOTQ7NmzT75yycQCJCdnU29dnFxMYqKimSyX5S0unfvjlGjRmHGjBkSH9+0aRMOHTqES5cuUal3/PhxODk5oaioSOxNUSAQ4MWLF1TqABVrPvbv349///1XeBHh5OQERUVFKu337NkT06ZNE9u0MiIiAtu2bcO5c+cQHh4OX19f4SZ63zI7OzusX78eXbp04bTO5zr+tNfX5OXlITk5GUVFRbCxsYGZmRmVdis39AwLC8OoUaNEfq/k5eVhbGyMKVOmQFtbW+palpaW2Lt3L9VplJLs2LEDv/76K7S1tdG4cWOx1yetjmulq1evirw+f/75Z6rtd+jQAcuXL4ejo6PI8dOnT8Pb2xtxcXE4duwY3NzchBeANXH9+nWMHTsWubm5Yp+nteUz9GPDhw9Hr169MH36dJHj27Ztw5kzZ3D48GFs2rQJ27dvx+3bt2tUw9LSEn5+fhgyZAhUVVWRlJQEU1NTJCcno0ePHtTXaLx//x6ZmZkoKiqCpaXlZ2+kfi19fX0cOnQInTp1goWFBVasWIGRI0fi7t27sLOzo7YXWW5u7icf52K6He1rnLCwMBBC4OrqisDAQKirqwsfq3zv/Omnn6jUAoDevXvDxcUFY8eOxZQpU/Dvv/9i9uzZCA8Px8uXLxEbG0utFsDdZ44sfJedo8+9yCpx8WIrKioSu7smzWJFWW5oW5vp6Ojg4sWLsLKykvh4cnIy7O3tqW0sZ25ujn79+sHPz4/qWiZZUFRUxL///iv2xpeRkYE2bdqguLgYOTk5sLKyEt6xlBbt183HH9jx8fHw8vKCn58frK2txTYYrgub6HLBx8cH7u7unO4af+bMGQQEBGDbtm1iaydoMjIywm+//YaFCxdyVoNPioqKSExMFBsNvXPnDmxsbFBSUoJ79+7B0tJSqtdo27ZtYW5uDh8fHzRp0kQs7Ojjiz9pvXv3Dv/++6/EESpaaw1UVFRw69YtsSCYzMxMtG3bFkVFRcjKykLr1q1rfNddUVERd+7cgZGRkUjnKCMjA61bt0ZJSQmNb4U3M2fOxIkTJ2BmZobExETcu3cPKioq2L9/P1avXk39xkJtV1pair1798LBwQEGBgac1qocoba3t8ezZ8/g7OwsHEnatWsXLyPytL19+xaXLl1CXl4e3r9/L/IYzRlS32UgA9cL+qrKycnBzJkzcfHiRbx79054nMYIFd/JewUFBViyZEm100+kGQGxsbH54u9H2jdcvlPxHj58iNmzZ/PSMXr06BGuXr0q8f+HxpuHgYEBdu3ahZUrV4oc37Vrl/DNvqCgAJqamlLV4fJ1o6GhIfK7RghBz549RZ7D1Qgyl6l4QMV5Hzp0qNrXaOXCeWnxkSQ3evRoFBcXo3nz5lBSUhLruNIacX358iVGjhxJpa3PuXHjRrX/N+vWraNSo2XLlli5ciW2b98uDEj58OEDVq5cKewwPXz4EHp6elLVycjIwKFDhySmStJ06tQpODs7SxxVofkabdSoEY4fPy4WjnD8+HE0atQIQMXFmTThNnws+AcqOpObNm2q9neNVqeFr/Q9AMjKykJgYKAwtc7S0hJz5sxB8+bNqdXg8hoH4Dd5z9bWVvh3XV1dKlOdJeHrM4ev9D3gO+wc5eXlfdVFyMOHD6VO2xg3bhwIIQgODoaenh7VDg3fA3/jx49HZmYmJk2aRP17GTJkiPDv7969w59//glLS0vhMPP169eRkpJC5Q2Xz1Q8AHB0dER8fDzVlCBJQkNDMW3aNMjLy0NLS0tsehCNNw++Ysm5fN3Qmtf/NfhIxQOAuXPnYtu2bbC3t6f+c/sYH0lygYGBUrfxJUaOHIkzZ86ITaeizc/PD15eXrCwsBD7v6H5/8RXNHnHjh2RmZnJeedo1qxZGDlyJJYsWSJ1h+5T+Igmnz9/PmbMmIF3796BEIK4uDjs27cP/v7+2LlzJ5XvAwAmTZqEM2fOYMSIEejQoQNn7wN8pe+dPn0agwYNQtu2bdG5c2cAQHR0NKysrHD8+HH06tWLSh0ur3Eq8ZW8l5OTg9LSUomzPBo0aEBtNJ6vzxy+0veA73BanZ6eHoYMGYLJkycLL+yqevXqFSIiIrBhwwZMnTpV6gtKFRUV3Lx5U2zhPw0+Pj7w8PDgbaqWqqoqrl69Si2eszqTJ09GkyZNxBaO/vHHH7h//z6Cg4Olal9OTg6tWrUS26OlUmlpKVJSUqhdsO7atQvLli3DxIkTJU7dojUtxMDAANOnT8eiRYskLmClJScnRySW3MLCAtOmTaM69YnL140sdO7cGfXr14enp6fEKUi0XlONGjXCnj17qOxj8yl9+/ZFXl4eZs6cKfH7GTx4MKf1afL398e6devQv39/ia9PWnck9fT0sGrVKri4uFBp71PevHkjEk1uYWEhEk1Ow9GjR+Hl5QUPDw+JPzdaoUZqampITEykOkJQnejoaAQFBeHu3bsAKn5us2bNEkaT08BlqFEldXV1REVFCTsSXAoPD8e2bduQnZ2NmJgYGBkZITAwECYmJtTeB2xsbODo6Cg2Y8HT0xNnzpyhNhLGxzVOREQEFi1ahHnz5qF9+/ZiU5NpvW66d+8OV1dXTJgwQeT4nj17sHPnTly8eJFKHb4+czQ0NBAbGwsLCwtoaGggJiYGP/zwA2JjYzFhwgSqa5y/u85RQUEBfH19ERwcDAUFBbRv3x76+vpQUFDAy5cvkZqaipSUFLRr1w7e3t5U/rPt7e2xePFi6otuAf6T9+zs7LBp0yb8+OOPVNqrjrq6OuLj4yXe8bC1tZV6yhtfqXiVPtVRoTlqoKWlhbi4OF4uIrjG5etGFiPIfKXimZiY4OTJk5zX4StJLisrCyEhIcjKysKGDRugq6uLkydPwtDQsNo1g1+r6v4cH6MZaNOkSRNcvny5Vi9U/hhfCWKurq7o3Lkz1c7Dt4DLUCNLS0vs37+fauquJHyl7ykoKOD27dtir5309HS0bt1aZOq1NPi4xuHrdaOmpoaEhASJa+hsbW2pbQbM12cOX+l7wHc4rU5LSwvr1q2Dr68vIiMjcfXqVeTm5qKkpATa2tpwcnKCo6Mj1V3sd+7cienTp+Phw4do1aoV1btrbdu25TV5788//4SnpyeWLFki8XuhtXhdUVER0dHRYm+E0dHRUFBQkLp9PtZLfKzqHFyuTJo0CQcPHoSnpyendfiIJefydWNnZ8f7CLKlpSUvu4UvXboUPj4+CA4OppZQKImBgQHn03ovXbqEvn37onPnzrh8+TJ8fX2hq6uLpKQk7Nq1SziNU1o5OTlU2vmcefPmYfPmzbxMF+Qjmpyvn1tQUBBGjhyJK1eucDqyB/AXTQ4ASkpKnM36CAgIwMKFC7F161ZOp29t2rQJO3bswJAhQ0RGdWxtbSVOt6spHR0d3Lp1S+ya4NatW1Q7l3xc4/D1uhEIBHjz5o3Y8VevXlFdNsDXZ46NjQ1u3LgBMzMzdO/eHUuWLMHz588RHh5O9Zod+A5HjmShMu703r17wmO0Oi58J+9lZGRg7NixYkPYtDthK1euhI+PD6ZMmSKc+x0bG4vg4GB4e3tzfvFfW5WVlWHAgAEoKSmReBFBY8E3X7HkXL5u+BpBlkUqXklJCYYOHYro6GgYGxuL1aE1/YSPJLmffvoJI0eOxPz580WSveLi4jBs2DA8ePCAk7pcKS8vR//+/ZGeng5LS0ux/xtaC5f5jibn2q5duzB9+nQoKChIXEtJa2SPq2hyPsOGKuXn52PUqFG4fPkyp2EmfKXvLVu2DOvXr4enp6dwimN0dDRWrVqF+fPnw9vbm0odvq5x+DBw4EAoKipi3759wjXWZWVlGD16NN6+fYuTJ09SqcPXZw6f6Xvf3ciRLLi6usLGxgb79u2jvliN7+Q9JycnNGjQAH/99RenC+88PT1hamqKDRs2YM+ePQCAH374ASEhIWL763wtvj6oNm7ciKlTp0JBQQEbN2785HNp3fn09/fH6dOnhet0uFjw7ebmBldXV85jybl83fA1giyLVLwJEybg5s2bGDduHKevUT6S5G7fvo2//vpL7Liurq7Uo3Dz58/H8uXLoaysjPnz53/yubRS5GbPno0LFy7A3t5e7CKfphUrVsDX15eXaHKu0zEBYPHixfDx8YGnpyenaymnT58OW1tbREZGSlxHV1Mfhw3xZcyYMXj48CH8/Pw4fR/gK33P29sbqqqqCAgIwKJFiwBUrNVaunQp1ZFDvq5x+EjeW7VqFbp16wYLCwt07doVQMXG6q9fv8b58+ep1eHrM4ev9D2AjRzxQllZGUlJSdQTfWSxbkJJSQmJiYm1epH8x+uNPpeK5+/vX+M6JiYmiI+Ph5aWFm9rGjQ1NbF+/XpOF3wrKyvj9u3bnCfvcfW64dPXbCIsTQLWx5SVlXH69GnON7UNCwv75ONVFwHXRLNmzRAREYFOnTqJ3JU+evQo3N3dpdrA1N7eHkePHoWGhgbs7e0/+Vxa6yZUVVWxf/9+9O/fn0p71VFTU8OtW7dkno5J632tUaNGuHHjBudrKevCe04lJSUlxMTEcB6etHPnTixduhQBAQGYNGkSdu7ciaysLGH63i+//EK9ZuVUMZrhIpX4uMapLnkvKSmJavIeUHHzIigoCElJSVBUVETr1q0xc+ZMYTQ9DXx95vCVvgcAIAznBgwYQA4dOkS9XV1dXTJ16lQSFxdX7XMKCwvJ9u3biZWVFdmwYYPUNbt27UrOnj0rdTtf6r///iP3798nubm5In9omTRpEvHy8hI7vmTJEjJx4kRqdfiip6dH0tPTOa0xdOhQcuDAAU5rEMLd66aus7CwIElJSbI+DSrc3NxIly5dyOPHj4mqqirJyMggV69eJaampmTp0qWyPr2vZmhoSNLS0jiv4+rqSrZs2cJ5nWbNmpEVK1aQsrIyTuvMnTuX+Pr6clqDEELs7e3JyZMnOa/DBxsbGxITE8NLrT179pAWLVoQgUBABAIBadq0Kdm5cycntZ4+fUouX75MLl++TJ49e0a9fT6ucdq2bUsWLlwodnzhwoXExsaG09pc4Oszp1u3biQ0NFTseHh4OOnevTvVWmzkiAfbt2/HihUr4OrqSjXGWRbJewcPHsTSpUs5j27NyMiAq6sr53vCcJ2KV2nZsmVwd3cXm4ZWUlKCNWvWUFsg7e/vj8ePH392Gp80+Iol5+p1wydZjO5GRkZi06ZN2Lp1K2drgSpxnST3/v17zJgxA6GhoSgrK0P9+vVRVlaGsWPHIjQ09JN7lX0NV1dXbNiwQexO9Nu3bzFr1iyptw6oFBISglOnTiEkJITTKal8RZPzlY45e/Zs7N69G23atEHr1q05WUsJ8BNNXlZWhvXr1yMiIgJ5eXl4//69yOO01gKdOXMGPj4+8PX15XSN48e4TN978+YNfvvtN+zbt084fbNevXoYPXo0Nm/eDHV1dSp1+LjG4TJ5799//0WrVq0gJyf32TRjWtdrfH3m8JW+B7BpdbzgOsa5pKRE4rqJyn0BaKZ48BVBydeeMI0bN8bKlSvFpqGFhoZi4cKFePr0KZU69erVw+PHj8U+NAoKCqCrq0vt5zZ06FCcP38eWlpasLKy4mTBN1+x5HzV4ZIs9lXT1NREcXExSktLOV2IXTVJLi0tDaampli5ciXi4+OpJckBFZ3M5ORkFBUVwcbGhnoUdnWvz+fPn6Nx48YoLS2lUsfGxgZZWVkghHC6cJmvabwLFixAo0aNOA/I+dS0R4FAQG39BB+fb0uWLMHOnTvh5uYGLy8vLF68GPfu3cOxY8ewZMkSah3Xyu+l6mcn7c9qvowePRqJiYnYtGmTcAp8TEwM5syZg7Zt22L//v1U6vDxO2BgYIB169Zh5MiRIscjIiLg7u6OvLy8GrctJyeHJ0+eQFdXF3Jycp9MM6b1O8DXZ466ujouXrwIGxsbkeM3b95Ejx49JCbz1RQLZOAB1zHOioqKGDFiBEaMGMFpHYC/CMpbt27xsifM3Llz8euvvyIhIUFiKh4tlW+sVSUlJVGd+6uhoYFhw4ZRa08SvmLJ+arDpdTUVPj6+qJXr16fHd1dvXo1ldFdPmKigYrQlBUrVgiT5Co5ODggKCiIai1DQ8OvGoH7Uq9fvwYhBIQQvHnzRmSbgLKyMkRFRVG9C87Xwny+3qf9/f0xYMAAnDp1irN0TIDemq/P4ePntnfvXuzYsQP9+/fH0qVLMWbMGDRv3hytW7fG9evXqXWOuPyZySJ978SJE2LrWhwdHbFjxw706dOHSg2An9+BKVOmYOrUqcjOzpaYvCeNnJwc6OjoCP/OB74+c7p16wZ/f3+x9D1/f3/q653YyBHzTbKzs8P69es5X+AHQHjXvjI15ocffsCcOXOkTsUDKu6oCAQCvHr1Siz2uqysDEVFRZg+fTo2b94sdS3m28Xn6C5fVFRUcPv2bZiYmIiEJdy7dw8tW7aksikjIQSHDh2qdr8eaUdCK++sVkcgEMDHxweLFy+Wqk5dtWLFCixZsgQWFhZiKVU0R3TqEmVlZaSlpcHQ0BBNmjRBZGQk2rVrh+zsbNjY2FCbys2lL91EHaC3p6ChoSEiIyNhbW0tcvzff/9Fv379alWsPyEEgYGBCAgIwKNHjwBUJO95eHhg9uzZnKW91Xapqano1q0bNDQ0JKbv0fwcZZ0j5pt0/vx5XvaE4VpYWBgIIXB1dUVgYKDIvGh5eXkYGxsLpwh8y2QRS85827hMkqs0Z84cbNu2Dfb29hIjYkNCQqRq/9KlSyCEwMHBAYcPHxYZxZWXl4eRkRH09fWlqsEXWUST85GOyTeuo8ktLCywe/dudOzYEV26dMGAAQPg6emJAwcOYNasWXj27JnUNeqi7du34+DBgwgPD0fjxo0BAE+ePMGECRMwbNgwTJs2TcZnWDNcJu8B/GwGzSc+0vcA1jlivlF8z5d+//69xDcPWlN5Ll26hE6dOol18moLWcSSM982d3d3xMbG4uDBgzA3N0dCQgKePn0KZ2dnODs7U7lj3KhRI+zZs4fKdMNPyc3NhaGhYa2+YyuLaPLGjRvjypUr1NeAyQof0eSenp5QU1PD77//jgMHDmDcuHEwNjZGXl4e5s2bh5UrV0pdoy6ysbFBZmYm/vvvP+Hncl5eHho2bCj2+1dbNjl+9uwZ7t69CwBo2bKlcDocLXVtM2g+sc4R80363P4wtPaE4SsVD6hYQ5OZmSmxE9atWzdqdRiGD3wkyZmYmODkyZOcrz0EKqZnbNu2DdnZ2Th48CCaNm2K8PBwmJiY8DK9tzbiIx2TTwYGBpg+fToWLVrE6WazH4uJiUFMTAzMzMwwcOBAXmrSxFf6niym8nGFr+Q9IyMj/Pbbb7xsBs0VWaTvAaxzxHzn+ErFu379OsaOHYvc3Fyx5JjalhzEVyw5UztwmSQXFhaGU6dOITg4GIqKitTarerw4cMYP348nJycEB4ejtTUVJiamiIoKAhRUVGIiorirDYX+Iom5yMdk098RZPXJXyl79UlfCXv8bUZNJdkkb4HsM4R840rLi6WeDeK1h0CZWVlXlLx2rZtC3Nzc/j4+EjshNG6U8QHvmLJGaakpARDhw5FdHQ0p9HXNjY2mDdvHpydnUXWTyUmJqJv37548uQJlTp84SuafOLEiZ98XNo1YV/i8uXLaNOmDZX3UD6iycPCwqCtrY3+/fsLa27fvh2WlpbYt28fjIyMOKvNhebNm2Pjxo3o378/VFVVcevWLeGx69ev46+//qJaLz4+XhieZGlpifbt21Ntnw/KyspiyXtAxeh1nz598PbtWyp1Jk2aBDs7O0yfPp1Ke7Lw8ZTn3NzcTz6X5muHRXnLmJycHHr06IE1a9bUyhf5x0xMTODg4IDly5dLvYg5Pz8fEydOxMmTJyU+TusC3NLSEs+fP6fS1qdkZGTg0KFDYpuX8Wn37t3o3Lmz1HdF+Yol/5S69Lrhk6urK+zt7TF+/Hip2+I6SQ4AJkyYgJs3b2LcuHESAxlouXv3rsSprerq6lQ3FvyUZcuWwd7eXpjCVBN8R5N/aecnOjoatra2aNiwIbXalXr06AFNTU38/vvvcHNzk6otPqLJ/fz8sGXLFgAVowVBQUEIDAzEiRMnMG/ePF5G2xwcHGBvbw83NzepNyN+8uSJMEFORUVFmLY3YMAAqtthPHjwAGPGjEF0dDQ0NDQAAIWFhejUqRP279+PZs2aUatVHVrXOFpaWhI78+rq6tDU1JTmFEW0aNEC3t7euH79OqebQX+KtJ85H3d4+LxxwDpHMhYcHIx79+5hxowZuH79uqxPRyoTJkzAvXv30LlzZ6nz9efOnYvCwkLExsaiR48eOHr0KJ4+fYoVK1YgICCA0hkDq1atwoIFCzhPxevYsSMyMzNl2jlycXFBgwYNMHXqVGzatOmr/31lLLlAIIC5uXm1seR8qEuvGz5lZ2fj/PnzCAgIwK1bt6Rqa+7cuZ9MkqMhMjJS4h1W2ho3bozMzEyx3d2vXr3K25SUkJAQrFy5Ej179sTx48dr1IaGhobIa7SqymhyvvXt25ez6T05OTnIzs6u9kba1/D398fp06dhYWEBAGIL2Gm4f/++8HPg2LFjGDFiBKZOnYrOnTujR48eVGp8jqGhIc6dO4cdO3ZIteEoUJFa+fjxYxgaGqJ58+Y4c+YM2rVrhxs3blDtDE+ePBkfPnxAWlqa8P/n7t27mDhxIiZPnoxTp05Rq1UdWtc4Xl5emD9/vljynoeHB9UO5fbt26GiooJLly6JreMWCAS8dI5ofuYA/KXvsWl1zDepSZMm+Pvvv9GhQweoqakhPj4e5ubm+N///ofVq1fj6tWrVOrwlYp39OhReHl5wcPDQ2InjOZCwk/JycnByZMn8dtvv331v60rseRMxX4RlpaWUrXBR5Jcy5YtERERwfnrw9/fH3v27EFwcDB69eqFqKgo5ObmYt68efD29sasWbM4rV+ppKQEFy5cqPHP9FuNJv94quK3jI9ocl1dXZw+fRo2NjawsbHB/PnzMX78eGRlZaFNmzYoKirirHZVr1+/lvoGIF/pe4qKirh27RpsbGxEjt+8eRNdu3ZFcXExlTp8qIvJe59D4zOHz/Q9NnLEoermfTOf9/btW+HPTVNTE/n5+TA3N4e1tTXVFwBfO68PHz4cQMUQc6XKhYV8BjKYmJjUqGMEVNw1q2yD61jyDx8+QFFREbdu3aqVG6TK0uXLl9GpUyfUry/69l5aWopr166hW7duUn9IARVTQLi+2A0ICMCCBQuwdetWsVEdmjw9PVFeXo6ePXuiuLgY3bp1Q8OGDeHu7s5bxwiouACUprNZmeKZk5NT66PJZaFhw4bo3LkzpzV69eqFyZMnw8bGBunp6cL/75SUFE5/x4GKaWiVU9IAOjMjPu78jB49GoaGhpyk7xkYGODDhw9ix8vKyqh2+PkIHBoyZIjUbdQ2ND5zVqxYAV9fX17S99jIEYc+TtmoC96+fYtVq1bhyJEjuHfvHgQCAUxMTDBixAiJbybSsLOzw4oVK+Do6IhBgwZBQ0MD/v7+2LhxIw4dOkRlg0k+8bWQ8PXr1xKPCwQCNGzYEPLy8lTq8BFLXrmhKK3EwO8FX4EZfCTJaWpqori4GKWlpVBSUhLrkNOKCf7w4QMaNGiA9+/fIzMzE0VFRbC0tISKigqeP38ObW1tKnWqi6IVCARQUFCAoaEhtalI31I0ubQjR5VTequq/Lm1aNECLi4unw2I+Bw+oskLCwvh5eWF+/fv49dff0WfPn0AVMRPy8vLY/HixVTqrFq1CsbGxhg9ejQAYNSoUTh8+DAaN26MqKioWve++vfff8PPzw+bN2+Gra0tgIpwhlmzZmHhwoXUOhx1KXCorKwMoaGhOHfunMTP6vPnz9e47f/9739f/NxBgwbVuM7H+EzfY50jDtWlztH79+/RqVMnJCcno2/fvmjZsiUIIUhLS8OpU6fQrl07XL58mdpowp49e1BaWgoXFxfcvHkTffr0wYsXLyAvL4/Q0FDhGz4tXKfi8aUy6rI6zZo1g4uLC/74448a7+PBVyz5rl27cOTIEYSHh/MW9FAXyMnJ4enTp2IbCqanp8PW1rbaDvTX4iNJLiws7JOPV45mSmv48OE4dOiQ2Gvn6dOn6NmzJ5KTk6nU+dzrs0GDBhg9ejS2bdsmEqbwtb61aHJpO0fr16+Hr68v+vbtiw4dOgAA4uLicOrUKcybNw85OTkIDw/Hpk2bMGXKlBqfZ12KJjcxMcHevXvRqVMnnD17FqNGjcKBAweE+xGdOXOGSh2+0vc+vlFSOSpe+XdlZWWR50pz06S698/z589j9OjRyM/Pr3HbVXGdvDdz5kyEhoaif//+ElNy169fX+O2v/T6geY1AZ/pe2xaHcd27twJFRWVTz6nNuwDsGXLFjx48ABJSUnCxZCV7ty5gx49emDr1q3UpqCMGzdO+Pf27dsjNzcXd+7cgaGhIbW7uAB/qXi7d+/+5OPOzs5U6oSGhmLx4sVwcXERuYgICwuDl5cX8vPzsXbtWjRs2BC///57jWpMnz4dtra2iIyMlPiGS0tQUBAyMzOhr68PIyMjsQ/AujIXm5Zhw4YBqPgwcnFxERmBKCsrw7///otOnTpRq8dHkhytzs/n5OXlYfLkydi1a5fw2OPHj+Hg4AArKytqdY4ePYqFCxfCw8ND5PUZEBCAP/74A6WlpfD09ISXlxfWrl1b4zorVqzA1q1b4ezsLLJnSufOnbFixQqpv4+vJe3vxtWrV7FixQqxi6Jt27bhzJkzOHz4MFq3bo2NGzdK1TnS0NAQvo5oysvLE64t+RIPHz5E06ZNpar55MkTGBgYAABOnDiBUaNGoXfv3jA2NkbHjh2lavtjfKXvBQYGUmmnOnwGDvGVvLd//35ERERwsi606igUH/hM32MjRxySk5NDs2bNPrlTvEAgQHZ2No9nVTPdu3fHqFGjMGPGDImPb9q0CYcOHRJLRKHt3bt3CAoKgru7O5X2nJyckJubi8DAQImpeJV3w6RVNZ7zw4cPKC4uhry8PJSUlKhND+rZsyemTZuGUaNGiRyPiIjAtm3bcO7cOYSHh8PX1xd37typUQ1lZWUkJSVxnrz3uVStb30XdL5VTikKCwvDqFGjRKa6VQZmTJkyhdrNher26qAtKysLISEhyMrKwoYNG6Crq4uTJ0/C0NCQWsclPz8f3bp1Q9++fbFu3To8evQI9vb2aNOmDfbv31/jUdaqOnTogOXLl8PR0VHk+OnTp+Ht7Y24uDgcO3YMbm5uUk0dVlJSQmpqKoyNjUVGbbKzs2FpaYl3795J+618FWlHjlRUVHDr1i2x95zMzEy0bdsWRUVFyMrKQuvWrantEfMpXxtNrqenhyFDhmDy5Mmws7OT+JxXr14hIiICGzZswNSpU6W+0NPX18ehQ4fQqVMnWFhYYMWKFRg5ciTu3r0LOzs7aiPISkpKwhuXCxcuxOPHj7F7926kpKSgR48eVEdauMRn4FCfPn1QWFiIsLAwseQ9NTU1asl7+vr6uHjxosTkytrIxMSk2seoX0sThjMCgYA8ffpU1qdBhba2NklOTq728du3bxNtbW0qtZ49e0aOHz9OTp8+TUpLSwkhhLx//54EBgYSPT09oqWlRaUOIYQ0btyYxMbGEkIIUVVVJXfv3iWEEPL333+Tzp07U6sjSXp6OunZsyc5deoUtTYVFBRIenq6xFqKioqEEEKys7OFf68Je3t7cvLkyRr/e4ZbS5cuJUVFRZzXsbCwIElJSZzWuHjxIlFUVCQ///wzkZeXJ1lZWYQQQvz9/cnw4cOp1srLyyOGhoZk3rx5xMzMjIwePVr4/kOLgoICSUtLEzuelpZGFBQUCCGE5OTkSPX6JIQQExMTcvbsWUIIISoqKsKfW1hYGPnhhx+kavtj9vb25OXLl2LHX716Rezt7anVMTAwIOvWrRM7vm7dOmJgYEAIISQpKYno6elRq/kpqqqqwp/pl3j+/DmZN28eUVdXJ3p6eqRfv35k8uTJZObMmcTJyYnY2NgQeXl58uOPP5LIyEgq5zhjxgxiZGREfv75Z6KlpUXevHlDCCFk3759xMbGhkoNQgjR0dEhCQkJhBBC2rZtS3bv3k0IISQzM5MoKytTq5Obm/vJPzR8+PCBhIaGkry8PCrtVUdBQUH4M/tYfHy81K/9j61du5b89ttvpLy8nFqb1SkqKiKRkZFky5YtZMOGDSJ/aiM2rY5DdSkpqLCwEFpaWtU+rqWlJdz8TRpXr17FgAED8Pr1awgEAtja2iIkJARDhgxB/fr1sXTpUqpTbfhKxZPEzMwMK1euxLhx42o8ilOVgYEBdu3aJRafumvXLuEUi4KCAqk2mps1axbc3NyEm/9xHUv+/v17iYtJv2aayveErxE1PpLkPD09sWLFCsyfPx+qqqrC4w4ODggKCqJay8DAAGfPnkXXrl3Rq1cvhIeHU38Pb9myJVauXInt27cLw1E+fPiAlStXomXLlgAqplTp6elJVWfKlCmYM2cOgoODIRAI8OjRI8TExMDd3Z3qPioXL14UW6cJVIzwX7lyhVodb29v/Prrr7hw4YJwOuKNGzcQFRWFrVu3AgDOnj0rTOvjGvnKCTdaWlpYt24dfH19ERkZiatXryI3NxclJSXQ1taGk5MTHB0dqSZzrl+/HsbGxrh//z5Wr14tnN7/+PHjGieWSsJX+p6xsfEnX480psDXr18fv/76q3AdEFe4TN6rOi30/PnzOHnyJKdr6BITE9GvXz8UFxfj7du3aNSoEZ4/fw4lJSXo6urWiqUjVbHOEYe+9g30W1ZeXv7J6YFycnJU3py8vLzQr18//P777wgLC0NAQACGDh0KPz8/jBgxQur2q7KwsMDdu3dhbGyMNm3aYNu2bTA2NsbWrVvRpEkT6vWqql+/Ph49ekStvbVr12LkyJE4efKkcPpGfHw87ty5g0OHDgGouKiQJtCCr1jy9PR0TJo0CdeuXRM5TrtOXfP06VO4u7sLE4qqvg/R+rmNGzcOxcXFaN68OWdJcrdv38Zff/0ldlxXVxfPnz+Xqu3qEtCKi4tx/PhxkZtBtKa9bt68GYMGDUKzZs2ENxFu376NsrIynDhxAkDFponSXrxyHU3+cepeamoqnjx5Ivy6rKwMp06dknrNzMemTJkCS0tLBAUFCS/oLCwscOnSJeE6Ojc3N2r1uKKoqIgRI0Zw8llWVYMGDSROP583bx7VOps3bxam7x0+fFj4url58ybGjBlDrU5iYqLI1x8+fEBiYqKw00lLhw4dkJiYSC1IQpI1a9Zg1qxZYsl7c+bMkWqtIQCR6YBARcgI1+bNm4eBAwdi69atUFdXx/Xr19GgQQOMGzcOc+bMoVaHy/S9qtiaIw75+PjAw8ODasS1rMjJyaFVq1Zie6dUKi0tRUpKitQXXlpaWrhy5QosLS1RUlICFRUVHDlyBIMHD5aq3erwlYpXNfaSEILHjx8jKCgIBgYGVHZ3r5STk4Nt27YhPT0dQMVFxLRp06jdxeMrlrxz586oX78+PD09JQY/1LYoWr707dsXeXl5mDlzpsSfG63XEh9Jcs2aNUNERAQ6deoksm7l6NGjcHd3l2pdzufO/2M0R6vfvHmDvXv3irw+x44dKzIyJi2uo8k/Tt2TdAmhqKiITZs2idxAqUtqy6a24eHhwjj3mJgYGBkZITAwECYmJpx9pvItMjISa9aswcWLF6m0FxERgUWLFmHevHlo3769WBAQjZkRfCXv8UVDQwOxsbGwsLCAhoYGYmJi8MMPPyA2NhYTJkygNjOGy/S9qljniEPV7WlRVW2Ii/7c4vhK0k7pqRp/rqqqilu3bqF58+ZStfuliouLOUnFq7qgWyAQQEdHBw4ODggICOBllKq2UVZWxs2bN4XTjZgvo6qqiitXrqBt27ayPhWpubu7IzY2FgcPHoS5uTkSEhLw9OlTODs7w9nZmcoUwtLSUvz1119wdHSUejrbt4LraPLKGH9TU1PExcWJxB7Ly8tDV1f3kzMNaoKPvdW+VG3oHG3ZsgVLlizB3Llz4evri+TkZJiamiI0NBRhYWFSbYAui/S96mRmZqJNmzbUgjgkha/QnhnB142ZnJwclJaWwszMTOR4RkYGGjRoQO2GqY6ODq5duwYzMzOYm5tj06ZNcHR0xJ07d9C+fXtq/zfa2trYvXs3J+l7VbFpdRxq27at8EVVFRfTkLjEZzLYx9M0CCG4e/eu2IuLqw6lkpIS2rVrh3fv3mHt2rXUUvH4jL0sLCxEXFycxIsIGpHhfMWSW1paSj116ntkYGDA25RerpPk/Pz8MGPGDBgYGKCsrAyWlpYoKyvD2LFj4eXlReE7qJjaOn36dM7XGVTKyMjAhQsXJL4+lyxZQqUG19HklaPDfL2v8bW32peqDeuJN23ahB07dmDIkCEia1BtbW2l/lyzs7PjPX2varpe5eyLpUuXil38SyMnJ4daW9Xha4sCFxcXuLq6iv18YmNjsXPnTmqjbTY2Nrhx4wbMzMzQvXt3LFmyBM+fP0d4eDjVdXTy8vKcp+RWYiNHHPrc9KNKXM5trW0qp2vw0aHMz89HbGws5OXl0bNnT9SrVw8fPnzAn3/+CX9/f5SWlnJycV75vXHxAXv8+HE4OTmhqKgIampqIjUEAgGVIXouY8k//gCMj4+Hl5cX/Pz8JAY/qKmp1bhOXXbmzBkEBAQI189x5dKlS+jbty86d+6My5cvIy0tDaampli5ciXi4+OFa9xoyMvLQ3JyMoqKimBjY0P1YggAevTogblz52LIkCFU261qx44d+PXXX6GtrY3GjRuLvT5phcDwFU3u7+8PPT09selzwcHByM/Px8KFC6nUadu2LczNzeHj4yNxOk3VdRZcqw0jR4qKirhz5w6MjIxEzjcjIwOtW7dGSUlJjdsuKCiAr68vgoODoaCggPbt20NfXx8KCgp4+fIlUlNTkZKSgnbt2sHb25vKnX5JGygTQmBgYID9+/dTi9nmQ15e3icfpxU2pKamhoSEBIkR+La2tigsLKRSJz4+Hm/evIG9vT2ePXsGZ2dn4UjSrl27qM1iCAgIQHZ2NoKCgji/QcE6R8xn2djYfPEvorQf7nx1KD+Xijd79mxMmDBBZK8Yae3evRtr1qxBRkYGAMDc3BweHh4YP348tRrm5ubo168f/Pz8eF3rlpGRgV9//RUeHh5ie7h8jaofgJWd4Y/VphFXWfh4PjtXQQkA8NNPP2HkyJHCJLnKi6+4uDgMGzYMDx48oFKHD3ysMwAq3rd+++03ap2GT7l//z66dOmC4cOH48SJE2jXrh327t1LdbqbsbEx/vrrL7HNhWNjY/HLL79QuwvP195qDg4OOHLkiHBjzkqvX7/GkCFDqC745pqlpSX8/f0xePBgkdfnpk2bEBISQqUjXlJSIjF9z8bGhnr6XtU9FOXk5KCjo4MWLVpUuxa6prKyshAYGCgcTba0tMScOXOoTe+X1NH7GK3PNnV1dVy8eBE2NjYix2/evIkePXrgzZs3VOpwSVL6XqNGjThN3wPYtDrOfEtzcqX18d3Ud+/e4c8//4SlpaXwTs3169eRkpJCJR6Ur1E0vlPx1q1bB29vb8ycOROdO3cGUNFBmz59Op4/f04tQejhw4eYPXs27yEgtGLJpZkHz1Tgeif5SlwmyVWaP3++xOMCgQAKCgpo0aIFBg8ejEaNGklV55dffgEgusM6F1OfX758iZEjR1Jp63P4iCZ/8uSJxPWSOjo6ePz4MbU6HTt2RGZmJuedI76iyfkwf/58zJgxA+/evQMhBHFxcdi3bx/8/f2xc+dOKjX4TN/jK6b99OnTGDRoENq2bSv8rI6OjoaVlRWOHz+OXr16SV2Dr+S9bt26wd/fH/v27RPeFCkrK4O/vz/Vzbu5XNski/Q9AGwTWK7o6uqSqVOnkri4uGqfU1hYSLZv306srKxqzUZZkyZNIl5eXmLHlyxZQiZOnChV21+7kduDBw9qXKtRo0YkJSWFEEJIcXExkZOTI8eOHatxe59jbGxMwsLCxI6HhoYSY2NjanWGDh1KDhw4QK29r5GYmEhUVVVlUpvhX9OmTUl0dDQhRHSj0SNHjhBTU1MqNXr06EHU1NSIsrIyadeuHWnXrh1RUVEh6urqpGPHjkRDQ4NoamoKX8s1de/evU/+ocXV1ZVs2bKFWnsfq/xZVP3TsGFDoqamJnKMlhYtWpDw8HCx47t37yYmJibU6hw5coRYWlqSkJAQEh8fT5KSkkT+SKuyHYFAQC5cuCDSdkJCAvHz8yNGRkbSfyM827NnD2nRogURCAREIBCQpk2bkp07d8r6tGokNDSUnDhxQvi1h4cHUVdXJz/99BPV12jbtm3JwoULxY4vXLiQ6ua5kpw4cYJ0796dWnspKSlES0uLNG/enLi4uBAXFxfSvHlzoqOjQ27fvk2tTrdu3UhoaKjY8fDwcKrfD5/YtDqOyGJOLh/U1dURHx8v8Q6Bra2tVBvB6unp8bbIk+9UPAUFBSQnJ4vd+czIyIC1tTXevXtHpc6uXbuwbNkyTJw4UeI6nUGDBkldg8tY8ro04ipLXAclAPwkyQUGBuLKlSsICQkRrjF79eoVJk+ejC5dumDKlCkYO3YsSkpKcPr0aanrcc3f3x/r1q1D//79Jb4+pVm0Loto8tWrV2P16tVYs2YNHBwcAADnzp3DggUL4ObmhkWLFlGpw3WCWF2PJi8uLkZRUZHw8642srCwwJYtW+Dg4ICYmBj07NkTgYGBOHHiBOrXr09tSpWCggJu374tdo2Tnp6O1q1bU/usloR28h4APHr0CEFBQUhKSoKioiJat26NmTNnSj3a/jG+1jbxlb4HgI0cca24uJgcPHiQzJkzhwwZMoQ4OjoSJycnsnbtWqo9d77o6emRkJAQseMhISFEV1dXqrafP39O5s2bR9TV1Ymenh7p168fmTx5Mpk5cyZxcnIiNjY2RF5envz4448kMjJSqlpV7xAqKyuTyMhI6nckK1lZWRFfX1+x48uXLyetWrWiVqfyDqGkP3JycpzUkJOTI3p6emTMmDHk0aNHUrVdV0dc+XTx4kWiqKhIfv75ZyIvLy8c0fH39yfDhw+nVue///4jkydPJvXr1ycCgYA0aNCAyMnJkXHjxpHS0lIqNfT19SWOCiUnJxN9fX1CCCE3b94kWlpaVOqlpKSQkydPkr///lvkDy3GxsbV/qE10vLhwwcSFhZGnjx5QqW9TykvLycLFiwgCgoKRE5OjsjJyRElJSXi4+NDtQ7XI3v37t0jOTk5RCAQkBs3boi0/ejRI2q/z0zNKSoqCmeXLFiwgIwfP54QUvFeoK2tTa1Os2bNSEREhNjxAwcOEAMDAyo1Xr16JfKnsLCQpKWlkdGjR5M2bdpQqcEnNTU1kpCQIHY8Pj6eqKioUKvD5wgVGzlivsrKlSvh4+ODKVOmoEOHDgAqFt8GBwfD29sbnp6eUtfgY5Enn6l4AHD48GGMHj0aP//8s8g85nPnziEiIoK/ebTfuLo64sonvoMSuEySU1FRwYkTJ9CjRw+R4xcvXsTAgQPx5s0bZGdno23btmJRv18jOzsbQ4cOxe3bt0XeFypHE2pb+IeSkhLS0tJ4W8NZVFSEtLQ0KCoqwszMDA0bNuSlLiOKz/Akvunq6uL06dOwsbGBjY0N5s+fj/HjxyMrKwtt2rRBUVERlTrLli3D+vXr4enpKQwaiY6OxqpVqzB//nx4e3tLXYPP5L0rV64INwI+ePAgmjZtivDwcJiYmFBbdzRw4EAoKiqKrW0aPXo03r59S22Te75GqAAWyMB8JU9PT5iammLDhg3Ys2cPAOCHH35ASEgIRo0aRaUGH4s8+djL4GPDhw9HbGws1q9fj2PHjgGo+LnFxcWJJcnUJlUvIqWlpaUlXJQqqYPs5OREPQWpruEjKOFjhoaG1KJnqxo8eDBcXV0REBAgnGp748YNuLu7C4Ni4uLiYG5uLlWdOXPmwMTEBOfOnYOJiQni4uJQUFAANzc3rF27Vtpvg3cdOnRAYmIib50jFRWVaqdC0/Lo0SNcvXpV4v5Q0u6hU4mvaHKucB1FL0u9evXC5MmTYWNjg/T0dOGNsZSUFKrTqby9vaGqqoqAgADhtFB9fX0sXbqU2u9Z1eAhrpL3Dh8+jPHjx8PJyQkJCQn477//AFRMTfbz80NUVBSVOqtWrUK3bt1gYWGBrl27AqjolL1+/ZpqwqNAIJCYsPfq1SvqN7DYyBHD1HIbN27E1KlToaCggI0bN37yubTe3PmIJWdqplmzZoiIiECnTp1ERo6OHj0Kd3d3ZGVlUanDR5JcUVER5s2bh927d6O0tBRAxaatEyZMwPr166GsrIxbt24BgFR7aWhra+P8+fNo3bo11NXVERcXBwsLC5w/fx5ubm5i6VJfY/78+Vi+fDmUlZWr/ZlVWrduXY3rfIyvaHJ7e/tP3hihdWEUGhqKadOmQV5eHlpaWmL7Q2VnZ1Opw1c0OfP1CgsL4eXlhfv37+PXX39Fnz59AFRsUC8vL4/FixdTr1l5Ia6qqkq9bT7Y2Nhg3rx5cHZ2FvksSExMRN++ffHkyRNqtfhY28TXCBXAOkdMDb1//17iHTyu7iDTJItF/1FRUahXr57YHkCnT59GeXk5+vbtW+O2TUxMEB8fDy0tLZiYmFT7PFoXEdXFkm/evBkrVqygFkvO1AwfQQlAxYVxQkICysrKYGFhAaBi0XK9evXQsmVL3L17FwKBAFevXoWlpaVUtYqKioS/u6amplBRUZH6/D+mqamJhIQEmJiYoHnz5ti5cyfs7e2RlZUFa2trFBcX17hte3t7HD16FBoaGrC3t//kc2lF2XMdYFCp6mv9w4cPuHXrFpKTkzFhwgRs2LCBSh0DAwNMnz4dixYtoraBrSQKCgpIS0sTex/Nzs6GpaUlp4vxmW/Ls2fPcPfuXQBAy5YtoaOjQ63tsLAwaGtro3///gCABQsWYPv27bC0tMS+ffuojfgqKSkhNTUVxsbGIp2j2vr7nJqaim7dukFDQ0PiCBXVGSVUVzAxdV56ejrp0qWLcPFt5R+aC/65JotF/9bW1hJDJE6ePElat24tdft84iuWnKkZPoISCCFk/fr1ZNiwYeTVq1fCY4WFhWTEiBEkMDCQvH37lgwePJj07t2bWk2udOnShRw9epQQQsiYMWNInz59yNWrV4mzszOxsrKS7cnVAF/R5NX5448/iJubG7X2GjVqRDIzM6m1Vx2+osn5UFpaStasWUPs7OyInp6eWMR7bcDn9h6VXr9+TcaNG0fq1asnDB2qX78+cXJyIoWFhVK3Twgh5ubm5Ny5c4QQQq5du0YUFRXJtm3byMCBA8nQoUOp1CCEEBMTE3L27FlCiOh2C2FhYeSHH36Qqu2kpCRSVlYm/Pun/tD08OFDsmjRItKvXz8yfPhw4uPjQwoKCqjWIIQQ1jlivkqnTp1It27dSFRUFElMTCS3bt0S+VMb8JmKV0lBQYHk5OSIHc/JySFKSkpUahBCiI+PD3n79q3Y8eLiYmoJUg0bNiQZGRlix9PT00nDhg2p1GCkl5ubSyIjI8mBAwdIeno69fb5SpK7ceMG8fDwIKNHjyZDhw4V+UPLqVOnyOHDhwkhhGRkZBALCwsiEAiItra28CKGhokTJ5LXr1+LHS8qKpJ6n7hvSUZGBtULcA8PD+Lv70+tveqsWrWKaGlpkeDgYGFHcteuXURLS4v4+flxXp8mb29v0qRJE7J27VqioKBAli9fTiZNmkS0tLRqTcqnLG5kjho1ipiZmZFTp04J0+ROnTpFLCwsyOjRo6VunxD+kvf8/PyIpaUluX79OlFVVSVXrlwhe/bsITo6OmTjxo1StS0QCMjTp0+Ff6+8Sc5VSi7fWOeI+SpKSkokLS1N1qdBBZ8x63p6ehIvss6ePUt0dHSo1ZGTkxO+YX3s+fPn1N6k+IolZ75tysrK5MKFC2LHL1y4IIxvzcrKkmpj4H379pEGDRqQAQMGEHl5eTJgwABibm5O1NXViYuLS43b/RIFBQWkvLycapvVvT7z8/NJvXr1qNYihPto8urs3r2bNGnShFp7paWlpE+fPqR79+5k5syZZN68eSJ/aOErmpwPpqamwk1TVVRUhCNvGzZsIGPGjJHlqX0xWdzIVFJSIleuXBE7fvnyZWo3MnV0dITR123btiW7d+8mhBCSmZlJlJWVqdQgpOL3ecWKFURZWVnYWVFQUCBeXl5St33v3j3h+yOfI9WXL18mTk5O5KeffhKOFO7evVvi/5k0WFod81UsLS05SbySBT5S8SoNHjwYc+fOxdGjR4UbzWZmZsLNzY3KxqyVyP9fU1BVUlIStYWRPj4+GD16NC5fviwxlpyRLUIIDh06hAsXLkhcF0hrs0Q+kuT8/Pywfv16zJgxA6qqqtiwYQNMTEwwbdo0NGnShMa3US2aC4lfv34NUnEzEm/evIGCgoLwsbKyMkRFRVHdoJOvaPJhw4aJfE3+/4bQ8fHxVCKPK/n7++P06dPCtW1VAxloEQgEWLVqFby9vWt9NPmTJ09gbW0NoCJNsHKD9gEDBlD9v+GSLNJLtbS0oK6uLnZcXV0dmpqaVGrwlbwnEAiwePFieHh4IDMzE0VFRbC0tKSyZvPjdVF8pWLylb4HsEAG5iudP38eXl5e8PPzk7jDe+Uu9oyoV69eoU+fPoiPj0ezZs0AAA8ePEDXrl1x5MgRaGhoSNW+pqYmBAIBXr16BTU1NZELhrKyMhQVFWH69OnYvHmzVHUq3bx5E+vXr0daWhqAilhyNze3Wh1LXlfMmTMH27Ztg729PfT09MQuHkNCQqjU4SNJTllZWXjBoKWlhYsXL8La2hppaWlwcHDA48ePqXwv7969w6ZNm6rtUEq7J4ykfU0+JhAI4OPjQy1xa+DAgahXrx527twpMZq8cjGztCZOnCjydWUksYODA3r37k2lBlDx/rZ+/Xq4uLhQa7Ous7CwwO7du9GxY0d06dIFAwYMgKenJw4cOIBZs2bh2bNnsj7Fb9L27dtx8OBBhIeHo3HjxgAqOpoTJkzAsGHDMG3aNKlr8JW85+rqig0bNoil7b19+xazZs1CcHAwlToAkJGRUe3755IlS6jU4DN9j3WOmK9SmRQkaQMzmilIdREhBGfPnhWJuuzWrRuVtsPCwkAIgaurKwIDA0XufMnLy8PY2JjqxnLMt6tRo0bYs2cPbxvkcpkk16xZM5w8eRLW1tZo3bo1Fi1ahDFjxiAmJgZ9+vQR3g2XlpOTE86cOYMRI0ZI7FBKm/B36dIlEELg4OCAw4cPi4xKycvLw8jICPr6+lLV+BiX0eSy0LhxY1y5coXqBsOS8BVNzgdPT0+oqanh999/x4EDBzBu3DgYGxsjLy8P8+bNw8qVK2V9it8kGxsbZGZm4r///hOm2ubl5aFhw4Ziv3/f+ka69erVw+PHj8VGpZ8/f47GjRsLb2pJa8eOHfj111+hra2Nxo0bi43s0vo58Zm+x6bVMV+FVtTs90ggEKB3795U76hWmjBhAoCKWO9OnTqJjejRxGUsOSM9dXV1mJqa8lZPRUWF2r45VXXr1g1nz56FtbU1Ro4ciTlz5uD8+fM4e/YsevbsSa3OiRMnEBUVJZwmSlv37t0BVGw+bWhoSHUqmCRlZWXCu8Xa2tp49OgRLCwsYGRkJIwnrk3mzJmDTZs2fXYfN2lVHeGsGk1em3zc+Rk9ejQMDQ0RExMDMzMzDBw4UIZn9m3jaiNdPrcQ4Xsa74oVK+Dr68v5JsmNGzdGZmam2NTDq1evUv/MY50j5qtUfsgzX2f27Nlo0aKF2CasQUFByMzMRGBgIJU63bt3R3l5OdLT0yUOb9MYqfL09JR415EQAk9PT9Y5krGlS5fCx8cHwcHBUFRU5LRWfHw8IiIikJeXh/fv34s8RmNtU1BQkPBu4OLFi9GgQQNcu3YNw4cPh5eXl9TtV2ratCkvGz0aGRnhypUr2LZtG7Kzs3Hw4EE0bdoU4eHhMDExQZcuXajUadWqFZKSkmBiYoKOHTti9erVkJeXx/bt26W+iKicwvslXrx4IVWtSnFxcTh//jxOnDgBKysrsZs/tNbRrV+/XuLxpUuXoqioiEoNWfnpp5/Y7IEvQGsfuKrs7OwwZMgQTJ48WbhGs6pXr14hIiICGzZswNSpU2u8abuGhgYEAgEEAoHENZ+V03hpefnyJUaOHEmtvepMmTIFc+bMQXBwMAQCAR49eoSYmBi4u7tTX0fHptUxNVJcXCzxgoirO8i1XdOmTfG///0P7du3FzmekJCAQYMG4cGDB1TqXL9+HWPHjkVubi6qvrRpTXtUVFREWlqa2N2be/fuwcrKCm/fvpW6BlNzJSUlGDp0KKKjo2FsbCx2IUlrisP+/fvh7OwMR0dHnDlzBr1790Z6ejqePn2KoUOHUlvbxIeTJ09i48aN2Lp1K6eLiz9eUBweHo7U1FSYmpoiKCgIUVFR1BYUnz59Gm/fvsWwYcOQmZmJAQMGID09HVpaWjhw4AAcHBxq3HZYWJjw7wUFBVixYgUcHR2FF94xMTE4ffo0vL29qW0IXXVtU1Vc/65lZmaiQ4cO1Dp7fOBro9G6Kj4+Xrim1tLSUuyz+2sVFBTA19cXwcHBUFBQQPv27aGvrw8FBQW8fPkSqampSElJQbt27eDt7S3VtGi+p/FOmjQJdnZ2mD59OrU2JSGEwM/PD/7+/sKNuRs2bAh3d3csX76cai3WOWK+Sn5+PiZOnIiTJ09KfJytOZJMQUEBycnJaNGihcjxzMxMtGrVitpc2bZt28Lc3Bw+Pj5o0qSJ2B1eSSk8X6tx48b466+/xC6w/vnnH4wdO5Yt9JWxUaNG4cKFC5ytn6nUunVrTJs2TZgkVzlSUZkkR+vOZHl5OTIzMzkbCQUq3tdGjRqFy5cvQ0lJSaxDSeuimM8FxVW9ePHiq0Z9vsTw4cNhb2+PmTNnihwPCgrCP//8g2PHjlGr9SWio6Nha2tLPV0uPDwcCxcuxKNHj6i2yyULCwts2bIFDg4OiImJQc+ePREYGIgTJ06gfv361Ebb6poHDx5gzJgxiI6OFgYlFRYWolOnTti/f78wUKmmSkpKJCbv2djYUE/ey83N5WUar7+/P9atW4f+/ftLDOqq6QhYdd6/f089fa8q1jlivoqTkxNyc3MRGBiIHj164OjRo3j69ClWrFiBgIAA4V0qRlSrVq0wffp0sYuITZs2YcuWLUhNTaVSR1lZGUlJSWKdMJqmTZuGmJgYsVjy4cOHw87ODjt37uSsNvN5ysrKOH36NLUpWp+qw3WSHB8joQDw888/Iy8vD5MmTZLYoaS13oTPBcV8UFFRwa1btyTe9Gnbti3vU9HU1NRw69atGk8d/Fw0OVdTrrigpKSEO3fuwNDQEAsXLsTjx4+xe/dupKSkoEePHsjPz5f1KX6T+vTpg8LCQoSFhQmj4+/evYuJEydCTU0Np06dkvEZfhqfa5sqmZiYVPuYQCAQBvZIi8/0PbbmiPkq58+fx99//w1bW1vIycnByMgIvXr1gpqaGvz9/VnnqBrz58/HzJkzkZ+fLxxxOXfuHAICAqitNwKAjh07IjMzk9PO0erVq9GnTx+0bNlSLJZ87dq1nNVlvoyBgQEvkfqampp48+YNgIppo8nJybC2tkZhYaFwyoO0pk+fDltbW0RGRkocCaXl2rVriImJQZs2bThpvxJfC4q5jiavpKWlhb///htubm4ix//++29oaWlRqfE1pL3XW3VkXU5ODhYWFli2bBknQTpcUlFRQUFBAQwNDXHmzBnMnz8fQMUshpKSEhmf3bfr0qVLuHbtmrBjBFSMwm3atIlaBD6X+FzbVCknJ0eqf/+lwsLCsHLlSrHOUUlJCXbv3s06R4zsvH37Vphyoqmpifz8fJibm8Pa2vqbj7WUJVdXV/z333/w9fUVzo01NjbGli1b4OzsTK3OrFmz4ObmJtwAsOrwNo01Yerq6rh27RpnseSMdAICArBgwQJs3bqV6oaCVfGRJJeRkYFDhw5x2tkHgJYtW/JywcjXguJJkyYJo8k7dOjAWafSx8cHkydPxsWLF9GxY0cAQGxsLE6dOoUdO3ZwUpNLtWmd3OfwtdFoXWNgYIAPHz6IHS8rK6O6Tocrqamp8PX1Ra9evT67tmn16tW8bfkgDb7T9wA2rY75SnZ2dsIFuIMGDYKGhgb8/f2xceNGHDp0CFlZWbI+xW9efn4+FBUVOZknW7kP1ccEAgHbh+o7oqmpieLiYpSWlnK6fubFixd49+4d9PX1UV5ejtWrV+PatWswMzODl5cXld3kHRwcsGDBAuEmiVw5c+YMfHx84Ovry+nm1nwtKFZXV+c0mvxjsbGx2Lhxo8iG0LNnzxZ2lvj08VTF7x1fG43WNX///Tf8/PywefNm2NraAqgIZ5g1axYWLlzIWdQ3bXyubSorK0NoaCjOnTsncaRa2v3B+N5EG2CdI+Yr7dmzB6WlpXBxccHNmzfRp08fvHjxAvLy8ggNDcXo0aNlfYrftdzc3E8+TiOhiK9YcqZmPk4Tk6Q27ddy9OhReHl5wcPDg7ORUIC/za0/fPiABg0aSFxQ/Pz5c2hra1OpY2lpif3793936aE16RzJIpqc+XZ9fHOpfv2KyVWVf1dWVhZ5Lvt9qDBz5kyEhoaif//+Eqc/VxeR/6X4Tt8DWOeIkVJxcbFw0SetD/a66tChQ9XuCVObpiTyFUvOfPu4TpLjayT00qVLn3yc1v5uw4cPx6FDh8QuHp4+fYqePXsiOTmZSh2+osmBirvGx44dE44cWVlZYdCgQahXrx6ndSWpSSCDLKLJuSKLxfh1zeduLn2sNt1o4pK2tjZ2797N+RQ9vtL3ANY5Yih59+4dgoKC4O7uLutT+SZt3LgRixcvhouLC7Zv346JEyciKysLN27cwIwZM+Dr60ulzu7duz/5OI31TXzFkjM1l5WVhZCQEGRlZWHDhg3Q1dXFyZMnYWhoCCsrKyo1+EiS42MklE92dnZo3bo1du3aJTz2+PFjODg4wMrKCocOHaJSh69o8szMTPTv3x8PHjwQSfYyMDBAZGSkMM2SL9JOq/vWosm/lp6eHu+L8RlGX18fFy9elLjhrLRk1eFnnSPmi+Xn5yM2Nhby8vLo2bMn6tWrhw8fPuDPP/+Ev78/SktL8fz5c1mf5jepZcuW+OOPPzBmzBiRD/AlS5bgxYsXCAoKolKn6jqPDx8+oLi4GPLy8lBSUqJyUcRXLDlTM5cuXULfvn3RuXNnXL58GWlpaTA1NcXKlSsRHx9P7QKcjz21uCSLD938/Hx069YNffv2xbp16/Do0SPY29ujTZs22L9/v8SRsprgK5q8X79+IIRg7969wqkuBQUFGDduHOTk5BAZGUmljoODA44cOSLcd6bS69evMWTIEKnXNFT61qLJvxafG43WVXl5eZ98/GveM74XAQEByM7ORlBQEPVRHVl1+FnniPkiV69exYABA/D69WsIBALY2toiJCQEQ4YMQf369TF79mxMmDABioqKsj7Vb5KSkhLS0tJgZGQEXV1dnD17Fm3atEFGRgZ+/PFHFBQUcFY7IyMDv/76Kzw8PODo6Ch1e8HBwZg5cyY8PDwkxpJPmTJF6hpMzf30008YOXIk5s+fL9IRj4uLw7Bhw6hNe+RjT61KqampEqejDho0qMZtyupD9/79++jSpQuGDx+OEydOoF27dti7dy/VaWhKSkq8RJMrKyvj+vXrsLa2FjmelJSEzp07U+tMyMnJ4cmTJ2KJVM+ePUPTpk0lpovVhJGREWbPni0WTR4QEICNGzd+diTzW8HnYvy65nOL/1moUYWqe4KdP38ejRo1gpWVldhItTQbDsuqw8+ivJkv4uXlhX79+uH3339HWFgYAgICMHToUPj5+WHEiBGyPr1vXuPGjfHixQsYGRnB0NAQ169fR5s2bZCTkyP13hyfY2ZmhpUrV2LcuHG4c+eO1O3xFUvO1Mzt27fx119/iR3X1dWlOrLLx55a2dnZGDp0KG7fvi1cawT8X3CCNBcqsoq8NTAwwNmzZ9G1a1f06tUL4eHh1O+28hVN3rBhQ+FeVx8rKiqCvLy81O3/+++/wr+npqbiyZMnwq/Lyspw6tQpqmtm6ko0uaKiIkaMGME+m2sgMTFR5OsPHz4gMTER69atozb9vS6oOjNg6NChnNTR0tIS/uwldfidnJy46fAThvkCjRo1IikpKYQQQoqLi4mcnBw5duyYjM+q9pg0aRJZunQpIYSQoKAgoqioSH7++WeioaFBXF1dOa+fmJhIVFVVqbf77Nkz8ubNG+rtMjXXtGlTEh0dTQghREVFhWRlZRFCCDly5AgxNTWlVufIkSPE0tKShISEkPj4eJKUlCTyh4YBAwaQwYMHk/z8fKKiokJSU1PJlStXSIcOHcjly5ep1CguLiYHDx4kc+bMIUOGDCGOjo7EycmJrF27lty+fVvq9jU0NIimpqbYn4YNGxI1NTWRY7ScPn2adOrUiVy4cIE8f/6cvHr1SuQPLePHjydWVlbk+vXrpLy8nJSXl5OYmBjSqlUrMmHCBKnbFwgERE5OjsjJyRGBQCD2R0lJiezatUv6b+Qj169fJ2PHjiU2NjbExsaGjB07lly/fp1qDab2OXHiBOnevbusT4PhCZtWx3yRqtMaVFVVcevWLd4X3NZW5eXlKC8vF0aD7t+/X7gnzLRp06jcZQWA//3vfyJfE0Lw+PFjBAUFwcDAACdPnqRSh/l2ubu7IzY2FgcPHoS5uTkSEhLw9OlTODs7w9nZGX/88QeVOnwkyWlra+P8+fNo3bo11NXVERcXBwsLC5w/fx5ubm5id3m/RbJIv+IrmrywsBATJkzA8ePHhVNpSktLMWjQIISGhkq97qwy7KNyWqiOjo7wMXl5eejq6sokFY/5/mRmZqJNmzZ4+/atrE/lm5OTk4PS0lKYmZmJHM/IyECDBg1q5abDbFod88U+ntZACMHdu3fF3ii+t301vpScnJzIxeQvv/yCX375hXqdqhvUCQQC6OjowMHBAQEBAdTq1JVY8rrIz88PM2bMgIGBAcrKymBpaYmysjKMHTsWXl5e1Ork5ORQa6s6ZWVlUFVVBVDRUXr06BEsLCxgZGSEu3fvcl6fhsoOT2lpKf766y84OjpCT0+P05oXLlzgtH2g4jPg9evX2L9/Px4+fCiyCSytqZaVaYRVY+K59C1FkzP8e/36tcjXlTcYly5dKnbxz1RwcXGBq6ur2M8nNjYWO3fuxMWLF2VzYlJgI0fMF6lcpCjp14WLfUfqgrq65wRfseSMdPLy8pCcnIyioiLY2NjUyg/2rl27ws3NDUOGDMHYsWPx8uVLeHl5Yfv27bh58ya1fYH48nEwS21XXl4OBQUFpKSkcP675e/vDz09Pbi6uoocDw4ORn5+PhYuXEilzrcWTc7wT1IgAyEEBgYG2L9/v3D/K+b/qKmpISEhQWLKo62tLQoLC2VzYlJgI0fMF+HjLnFdY2dnJ9M9J0iVxeu0/Pnnn9i+fTvGjBmD0NBQLFiwQCSWnPk2GBoa8hI7y0WSXCUvLy/h6PSyZcswYMAAdO3aFVpaWjhw4IDU7fOtQ4cOSExM5KRzxPfNGDk5OZiZmaGgoIDzztG2bdskhoxYWVnhl19+odY5mj17NkxNTRETEyMWTT579mxq0eTMt6vqqKucnBx0dHTQokUL4bR4RpRAIJAYzPLq1atae8OcjRwxDEdkFUG5e/durFmzBhkZGQAAc3NzeHh4YPz48VTal2UsOfN58+fPl3hcIBBAQUEBLVq0wODBg4UXfzXFZZLcp7x48QKampq87JJOW0REBBYtWoR58+ahffv2UFZWFnlcmmnJsogmP378OFavXo0tW7ZwGg+toKCAtLQ0mJiYiBzPzs6GpaUltY2n+YomZ5i6ZODAgVBUVMS+ffuE00/LysowevRovH37tlaudWbdYOaz6ur0MK7JIoJy3bp18Pb2xsyZM9G5c2cAFXtUTZ8+Hc+fP8e8efOkriHLWHLm8xITE5GQkICysjLh1KD09HTUq1cPLVu2xJ9//gk3NzdcvXoVlpaWNa4zZ84cmJiY4Ny5czAxMUFcXBwKCgrg5uaGtWvX0vp2xEjbqZOlynWGH3dKaE1LlkU0ubOzM4qLi9GmTRvIy8uL7XNHayTZwMAA0dHRYp2j6Oho6OvrU6kBcB9Nznz7wsLCoK2tjf79+wMAFixYgO3bt8PS0hL79u2rE1NiaVu1ahW6desGCwsLdO3aFQBw5coVvH79mtoGzXxjI0fMZ8lqs0Tm65mYmMDHx0dsv6GwsDAsXbqUyvTIyZMnw8DAAH/88Qc2b94MDw8PdO7cGfHx8Rg2bBh27doldQ2m5gIDA3HlyhWEhIRATU0NQMXrc/LkyejSpQumTJmCsWPHoqSkBKdPn65xHT6S5N69e4dNmzbhwoULePbsmdjC/NoW/vG5TURpXHjxuQHo55L4aKXvrV69GqtXr8aaNWtENp5esGAB3NzcsGjRIip1nJ2dkZCQgF27dqFDhw4AKhaVT5kyBe3bt0doaCiVOsy3y8LCAlu2bIGDgwNiYmLQs2dPBAYG4sSJE6hfv75UG5rWZY8ePUJQUBCSkpKgqKiI1q1bY+bMmbX2ZhbrHDGfJavpYczXU1BQQHJystjCyIyMDFhbW1OZfsJXLDlTM02bNsXZs2fFRoVSUlLQu3dvPHz4EAkJCejdu7dUm8JqamoiISEBJiYmaN68OXbu3Al7e3tkZWXB2toaxcXF0n4rcHJywpkzZzBixAjo6emJTaWjFUvOfNsIIfD09MTGjRuFa9sUFBSwcOFCLFmyhFodrqPJmW+fkpIS7ty5A0NDQyxcuBCPHz/G7t27kZKSgh49eiA/P1/Wp8jwgE2rYz5LZjsUM1+tRYsWiIiIwO+//y5y/MCBA9QWTfMVS87UzKtXr/Ds2TOxzlF+fr4wplZDQ0MsQOFrtWrVCklJSTAxMUHHjh2xevVqyMvLY/v27TA1NZWq7UonTpxAVFSUcIpoXcFliAXfysrKcPToUWH0taWlJQYPHkx18bpAIMCqVavg7e2NtLQ0KCoqwszMDA0bNqRWg49ocubbp6KigoKCAhgaGuLMmTPCNZwKCgooKSmR8dl9u65cuYJt27YhOzsbBw8eRNOmTREeHg4TExN06dJF1qf31VjniPliioqKGDFiBEaMGCHrU2Gq4ePjg9GjR+Py5cvCC8ro6GicO3cOERERNW6XrTurPQYPHgxXV1cEBAQIp8HeuHED7u7uwn2w4uLiYG5uLlUdPpLkmjZtKtznqC6QVYgFV1JSUjBo0CA8efJEuL5t1apV0NHRwfHjx6nfMFNRUal2are0CCFo0aKFMJqcdYi+T7169cLkyZNhY2OD9PR04UyYlJSUWrmZKR8OHz6M8ePHw8nJCQkJCfjvv/8AVNyo8/PzQ1RUlIzP8OuxaXUMU8fcvHkT69evF7nz6ebmBhsbmxq3ydad1R5FRUWYN28edu/ejdLSUgBA/fr1MWHCBKxfvx7Kysq4desWAKBt27ZUa9NOkjt58iQ2btyIrVu31omF0AMHDkS9evWwc+dOiSEWlYuZa4uffvoJOjo6CAsLg6amJgDg5cuXcHFxQX5+Pq5du0aljr29/Sd/p2gt+rayssKuXbvw448/UmmPqX0KCwvh5eWF+/fv49dff0WfPn0AVEzhlZeXx+LFi2V8ht8eGxsbzJs3D87OzlBVVUVSUhJMTU2RmJiIvn374smTJ7I+xa/GOkcMw3wWW3dW+xQVFSE7OxsAYGpqChUVFRmf0dfLz8/HqFGjcPnyZSgpKQnXgVSqbftq8RFiwSdFRUXEx8fDyspK5HhycjLs7OyoTUOqmrL54cMH3Lp1C8nJyZgwYQI2bNhApQ5f0eQMU5coKSkhNTUVxsbGIp0j2lH7fGLT6himDomKikK9evXg6Ogocvz06dMoLy9H3759a9QuW3dW+6ioqEi1b87n8JEkN2bMGDx8+BB+fn4SAxlqm7KyMuE0QW1tbTx69AgWFhYwMjLC3bt3ZXx2X8/c3BxPnz4V6xw9e/aM6rS09evXSzy+dOlSqnsP8RVNznxb2LRx6TRu3BiZmZli0w6vXr1Kbf0p31jniGHqEE9PT6xcuVLseGXaU007R5XYurPaIT4+HhERERIX/dOKop00aZIwSa5Dhw6cdFyuXbuGmJgYtGnThnrbssBHiAWf/P39MXv2bCxdulQ4Fe369etYtmwZVq1aJQwAASCMladp3Lhx6NChA7V9tQIDA6m0w9QudnZ2bNq4FKZMmYI5c+YgODgYAoEAjx49QkxMDNzd3eHt7S3r06sR1jlimDokIyND4saeLVu2RGZmpgzOiOHb/v374ezsDEdHR5w5cwa9e/dGeno6nj59iqFDh1Krw0eSXMuWLetUQhQfIRZ8GjBgAABg1KhRws5x5Uz9gQMHCr+WdoPb6sTExEBBQYFae7T2ZWJqF1lsoFyXeHp6ory8HD179kRxcTG6deuGhg0bwt3dHbNmzZL16dUIW3PEMHVI48aN8ddffwk3Sqz0zz//YOzYsXj27JmMzozhS+vWrTFt2jTMmDFDOP/bxMQE06ZNQ5MmTeDj40OljqWlJfbv38/p1L0zZ87Ax8cHvr6+sLa2FltzxMVoBN9oh1jw6dKlS1/83O7du9e4zrBhw0S+JoTg8ePHiI+Ph7e3N9X9rviIJme+TXxuoFwXvX//HpmZmSgqKoKlpWWtXOdaiXWOGKYOmTZtGmJiYnD06FE0b94cAJCZmYnhw4fDzs4OO3fulPEZMlxTVlYWxs5qaWnh4sWLsLa2RlpaGhwcHPD48WMqdfhIkqvcT6tqx4HL0Qjm2zNx4kSRr+Xk5KCjowMHBwf07t2bWh1J0eTp6emcRZMzTF3g6uqKDRs2iG278PbtW8yaNQvBwcEyOrOaY50jhqlDXr16hT59+iA+Ph7NmjUDADx48ABdu3bFkSNHoKGhIdsTZDjXrFkznDx5EtbW1mjdujUWLVqEMWPGICYmBn369MGrV6+o1OEjSe5zIxPSjEbIAh8hFlyry4vX+YomZ5i6pF69enj8+DF0dXVFjj9//hyNGzcWbilRm7BxYoapQ9TV1XHt2jWcPXsWSUlJUFRUROvWrdGtWzdZnxrDk27duuHs2bOwtrbGyJEjMWfOHJw/fx5nz55Fz549qdXhI0mutnV+PoePEAuu1eXF67du3UJ8fLywYwQAmpqa8PX15WzzWYaprV6/fg1CCAghePPmjcj6v7KyMkRFRYl1mGoL1jlimDpGIBCgd+/eVKebMLVHUFCQcF+JxYsXo0GDBrh27RqGDx8OLy8vanW4SpKryyMTfIRYcI2vxetfsw6LVsQ2X9HkDFMXaGhoQCAQQCAQwNzcXOxxgUBAbY0r39i0OoapQ2bPno0WLVqI3akNCgpCZmYmi6plqGnXrh3+/PNPYYQzLXp6enV2ZIKPEAu+cL14PSwsTPj3goICrFixAo6Ojvjpp58AVCTVnT59Gt7e3mKbxNZUVFQUFixYIDGafOXKlejSpYvwuXUhDIRhpHHp0iUQQuDg4IDDhw+jUaNGwsfk5eVhZGQEfX19GZ5hzbHOEcPUIU2bNsX//vc/tG/fXuR4QkICBg0ahAcPHsjozBg+lZeXIzMzU+K6FlpTLLlKkisoKICvry+Cg4M/OzLh7e1dq2J1+QixqIuGDx8Oe3t7zJw5U+R4UFAQ/vnnHxw7doxKncoAEABi0eQff83CQBjm/+Tm5sLQ0LBWThOuDuscMUwdoqCggOTkZLEpIJmZmWjVqpVwuhVTd12/fh1jx45Fbm4uqr6907yo4zpJri7G6vIRYlEXqaio4NatWxLf19q2bYuioiIqdfiKJmeY2q4uT38G2JojhqlTWrRogVOnTondYT158iRMTU1ldFYMn6ZPnw5bW1tERkaiSZMmnN3Nu3DhAiftVlJUVMSIESMwYsQITuvwiY8Qi7pIS0sLf//9N9zc3ESO//3339DS0qJWh3V4GObL1OVgFoB1jhimTpk/fz5mzpyJ/Px84Uaw586dQ0BAAFtv9J3IyMjAoUOHOF9Azi4kvx5XIRZ1nY+PDyZPnoyLFy+iY8eOAIDY2FicOnUKO3bskKrtun4HnGG4wFcwi6zIff4pDMPUFq6urggICMCuXbtgb28Pe3t77NmzB1u2bMGUKVNkfXoMDzp27IjMzExO2s7Ly/uq5z98+JCT86itWrZsiZKSElmfRq3j4uKC6OhoqKmp4ciRIzhy5AjU1NRw9epVuLi4SNW2nZ0dpk2bhhs3blT7nFevXmHHjh1o1aoVDh8+LFU9hqkLtLS0sG7dOjx+/BhBQUEwMzPD8+fPkZGRAQBwcnLCzZs3ERMTU+s6RgBbc8QwdVZ+fj4UFRWhoqIi61NheHT06FF4eXnBw8NDYlCCNElpdTlJjg9chVgwNVeXA0AYhqkZ1jliGIapQz5O3KokEAioBCWwC0npcB1iUZeVlZXh2LFjSEtLAwBYWVlh0KBBqFevHpX262IACMMwNcM6RwxTxxw6dAgRERHIy8vD+/fvRR5LSEiQ0VkxfMnNzf3k4zQipNmFZM18Lg2NreOSLDMzE/3798eDBw9gYWEBALh79y4MDAwQGRmJ5s2by/gMGYapS1jniGHqkI0bN2Lx4sVwcXHB9u3bMXHiRGRlZeHGjRuYMWMGfH19ZX2KDMMwX6Vfv34ghGDv3r3CjSYLCgowbtw4yMnJITIyUsZnyDBMXcI6RwxTh7Rs2RJ//PEHxowZA1VVVSQlJcHU1BRLlizBixcvEBQUJOtTZHiSmpoqcfRw0KBBMjqj7xNLQ5OesrIyrl+/Dmtra5HjSUlJ6Ny5M7V9jhiGYQAW5c0wdUpeXh46deoEoGKfmDdv3gAAxo8fjx9//JF1jr4D2dnZGDp0KG7fvi1cawT83zoXtq6FX3V9PxA+NGzYUPhe9rGioiLIy8vL4IwYhqnLWJQ3w9QhjRs3xosXLwAAhoaGuH79OgAgJycHbJD4+zBnzhyYmJjg2bNnUFJSQkpKCi5fvgxbW1tcvHhR1qf33UlNTYWysjJ69eqFxo0bo3///pgyZQpmzZqFcePGoV27dtDV1UVwcDBWr17NOkYSDBgwAFOnTkVsbCwIISCE4Pr165g+fTobCWUYhjo2rY5h6pDJkyfDwMAAf/zxBzZv3gwPDw907twZ8fHxGDZsGHbt2iXrU2Q4pq2tjfPnz6N169ZQV1dHXFwcLCwscP78ebi5uSExMVHWp/hdYiEWNVdYWIgJEybg+PHjwvjz0tJSDBo0CKGhoVBXV5fxGTIMU5ewzhHD1CHl5eUoLy9H/foVM2b379+Pa9euwczMDNOmTWNTUL4DmpqaSEhIgImJCZo3b46dO3fC3t4eWVlZsLa2RnFxsaxPkWG+GCEE9+/fh46ODh4+fCiM8v7hhx/QokULGZ8dwzB1EVtzxDB1iJycnMg+N7/88gt++eUXGZ4Rw7dWrVohKSkJJiYm6NixI1avXg15eXls374dpqamsj49hvkqhBC0aNECKSkpMDMzYx0ihmE4x9YcMUwtl5eX91XPf/jwIUdnwnwLvLy8UF5eDgBYtmwZcnJy0LVrV0RFRWHjxo0yPjuG+TpycnIwMzNDQUGBrE+FYZjvBJtWxzC1nJ6eHkvDYj7pxYsX0NTUFCbWMUxtcvz4caxevRpbtmxha7MYhuEc6xwxTC1XUFAAX19fBAcHQ0FBAe3bt4e+vj4UFBTw8uVLpKamIiUlBe3atYO3tzf69esn61NmGIb5YpqamiguLkZpaSnk5eWhqKgo8nhlQifDMAwNrHPEMHUES8NiAODdu3fYtGkTLly4gGfPngmn2FVKSEiQ0ZkxTM2EhYV98vEJEybwdCYMw3wPWOeIYRimDnFycsKZM2cwYsQI6OnpiU2l++OPP2R0ZgzDMAzz7WOdI4ZhmDpEXV0dUVFR6Ny5s6xPhWGoKSsrw9GjR4VR3paWlhg8eLBw2wKGYRha2LsKwzBMHdK0aVOoqqrK+jQYhpqUlBQMGjQIT548gYWFBQBg1apV0NHRwfHjx9mUYYZhqGIjRwzDMHXIyZMnsXHjRmzduhVGRkayPh2GkdpPP/0EHR0dhIWFQVNTEwDw8uVLuLi4ID8/H9euXZPxGTIMU5ewzhHDMEwdkp+fj1GjRuHy5ctQUlJCgwYNRB5nyV5MbaOoqIj4+HhYWVmJHE9OToadnR1KSkpkdGYMw9RFbFodwzBMHTJmzBg8fPgQfn5+EgMZGKa2MTc3x9OnT8U6R8+ePUOLFi1kdFYMw9RVbOSIYRimDlFSUkJMTAzatGkj61NhGCqioqKwYMECLF26FD/++CMA4Pr161i2bBlWrlyJLl26CJ+rpqYmq9NkGKaOYJ0jhmGYOqRdu3b4888/hReRDFPbycnJCf9eORJaeeny8dcCgQBlZWX8nyDDMHUKm1bHMAxTh6xcuRJubm7w9fWFtbW12JojdmedqW0uXLgg61NgGOY7wkaOGIZh6pDKu+xV1xqxO+sMwzAM83ls5IhhGKYOYXfZmbogLy8PhoaGX/z8hw8fomnTphyeEcMw3ws2csQwDMMwzDdFT08PQ4YMweTJk2FnZyfxOa9evUJERAQ2bNiAqVOnYvbs2TyfJcMwdREbOWIYhqnl2F12pq5JTU2Fr68vevXqBQUFBbRv3x76+vpQUFDAy5cvkZqaipSUFLRr1w6rV69Gv379ZH3KDMPUEWzkiGEYppZjd9mZuqqkpASRkZG4evUqcnNzUVJSAm1tbdjY2MDR0RGtWrWS9SkyDFPHsM4RwzBMLVdQUABfX18EBwd/9i67t7c3u8vOMAzDMNVgnSOGYZg6gt1lZxiGYRjpsM4RwzAMwzAMwzAMALnPP4VhGIZhGIZhGKbuY50jhmEYhmEYhmEYsM4RwzAMwzAMwzAMANY5YhiGYRiGYRiGAcA6RwzDMN+1Hj16YO7cubI+je/WxYsXIRAIUFhYKOtTYRiGYcA6RwzDMMw34N69exAIBLh165asT0XI2NgYgYGBsj4NhmEYhkesc8QwDMPI1Pv372V9CrUa+/kxDMPQwzpHDMMw34m3b9/C2dkZKioqaNKkCQICAkQe/++//+Du7o6mTZtCWVkZHTt2xMWLF4WPh4aGQkNDA8eOHYOZmRkUFBTg6OiI+/fvC5+TlZWFwYMHQ09PDyoqKrCzs8M///wjUsfY2BjLly+Hs7Mz1NTUMHXqVJiYmAAAbGxsIBAI0KNHDwCAi4sLhgwZAj8/P+jp6UFDQwPLli1DaWkpPDw80KhRIzRr1gwhISEiNe7fv49Ro0ZBQ0MDjRo1wuDBg3Hv3j3h45Xtrl27Fk2aNIGWlhZmzJiBDx8+AKiYbpibm4t58+ZBIBBAIBBI/JkSQrB06VIYGhqiYcOG0NfXx+zZs4WPh4eHw9bWFqqqqmjcuDHGjh2LZ8+eVft/VFBQgDFjxqBp06ZQUlKCtbU19u3bJ/KcHj16YObMmZg7dy60tbXh6OgIV1dXDBgwQOR5Hz58gK6uLnbt2lVtPYZhGEYU6xwxDMN8Jzw8PHDp0iX8/fffOHPmDC5evIiEhATh4zNnzkRMTAz279+Pf//9FyNHjkSfPn2QkZEhfE5xcTF8fX2xe/duREdHo7CwEL/88ovw8aKiIvTr1w/nzp1DYmIi+vTpg4EDByIvL0/kXNauXYs2bdogMTER3t7eiIuLAwD8888/ePz4MY4cOSJ87vnz5/Ho0SNcvnwZ69atwx9//IEBAwZAU1MTsbGxmD59OqZNm4YHDx4AqOgUODo6QlVVFVeuXEF0dDRUVFTQp08fkVGWCxcuICsrCxcuXEBYWBhCQ0MRGhoKADhy5AiaNWuGZcuW4fHjx3j8+LHEn+nhw4exfv16bNu2DRkZGTh27Bisra2Fj3/48AHLly9HUlISjh07hnv37sHFxaXa/6N3796hffv2iIyMRHJyMqZOnYrx48cLfz6VwsLCIC8vj+joaGzduhWTJ0/GqVOnRM7zxIkTKC4uxujRo6utxzAMw1RBGIZhmDrvzZs3RF5enkRERAiPFRQUEEVFRTJnzhySm5tL6tWrRx4+fCjy73r27EkWLVpECCEkJCSEACDXr18XPp6WlkYAkNjY2GprW1lZkU2bNgm/NjIyIkOGDBF5Tk5ODgFAEhMTRY5PmDCBGBkZkbKyMuExCwsL0rVrV+HXpaWlRFlZmezbt48QQkh4eDixsLAg5eXlwuf8999/RFFRkZw+fVqk3dLSUuFzRo4cSUaPHi1ynuvXr6/2+yKEkICAAGJubk7ev3//yedVunHjBgFA3rx5Qwgh5MKFCwQAefnyZbX/pn///sTNzU34dffu3YmNjY3Y8ywtLcmqVauEXw8cOJC4uLh80XkxDMMwFdjIEcMwzHcgKysL79+/R8eOHYXHGjVqBAsLCwDA7du3UVZWBnNzc6ioqAj/XLp0CVlZWcJ/U79+fdjZ2Qm/btmyJTQ0NJCWlgagYuTI3d0dP/zwAzQ0NKCiooK0tDSxkSNbW9svPncrKyvIyf3fx5Wenp7I6Ey9evWgpaUlnK6WlJSEzMxMqKqqCr+PRo0a4d27dyLfi5WVFerVqyf8ukmTJp+c8ibJyJEjUVJSAlNTU0yZMgVHjx5FaWmp8PGbN29i4MCBMDQ0hKqqKrp37w4AYj+PSmVlZVi+fDmsra3RqFEjqKio4PTp02LPb9++vdi/nTx5snB64dOnT3Hy5Em4urp+1ffDMAzzvasv6xNgGIZhZK+oqAj16tXDzZs3RToMAKCiovLF7bi7u+Ps2bNYu3YtWrRoAUVFRYwYMUIsNEBZWfmL22zQoIHI1wKBQOKx8vJy4ffSvn177N27V6wtHR2dT7Zb2caXMjAwwN27d/HPP//g7Nmz+O2337BmzRpcunQJ79+/h6OjIxwdHbF3717o6OggLy8Pjo6O1YYorFmzBhs2bEBgYCCsra2hrKyMuXPnftHPz9nZGZ6enoiJicG1a9dgYmKCrl27ftX3wzAM871jnSOGYZjvQPPmzdGgQQPExsbC0NAQAPDy5Uukp6eje/fusLGxQVlZGZ49e/bJC+rS0lLEx8ejQ4cOAIC7d++isLAQP/zwAwAgOjoaLi4uGDp0KICKjsrHQQjVkZeXB1AxciKtdu3a4cCBA9DV1YWamlqN25GXl/+i81FUVMTAgQMxcOBAzJgxAy1btsTt27dBCEFBQQFWrlwJAwMDAEB8fPwn24qOjsbgwYMxbtw4AEB5eTnS09NhaWn52fPQ0tLCkCFDEBISgpiYGEycOPELvkuGYRjmY2xaHcMwzHdARUUFkyZNgoeHB86fP4/k5GS4uLgIp6uZm5vDyckJzs7OOHLkCHJychAXFwd/f39ERkYK22nQoAFmzZqF2NhY3Lx5Ey4uLvjxxx+FnSUzMzMcOXIEt27dQlJSEsaOHftFozG6urpQVFTEqVOn8PTpU7x69arG36uTkxO0tbUxePBgXLlyBTk5Obh48SJmz54tDG34EsbGxrh8+TIePnyI58+fS3xOaGgodu3aheTkZGRnZ2PPnj1QVFSEkZERDA0NIS8vj02bNiE7Oxv/+9//sHz58k/WNDMzw9mzZ3Ht2jWkpaVh2rRpePr06Ref8+TJkxEWFoa0tDRMmDDhi/8dwzAMU4F1jhiGYb4Ta9asQdeuXTFw4ED8/PPP6NKli8jalZCQEDg7O8PNzQ0WFhYYMmQIbty4IRxpAgAlJSUsXLgQY8eORefOnaGiooIDBw4IH1+3bh00NTXRqVMnDBw4EI6OjmjXrt1nz61+/frYuHEjtm3bBn19fQwePLjG36eSkhIuX74MQ0NDDBs2DD/88AMmTZqEd+/efdVI0rJly3Dv3j00b95cZDqeQCAQptppaGhgx44d6Ny5M1q3bo1//vkHx48fh5aWFnR0dBAaGoqDBw/C0tISK1euxNq1az9Z08vLC+3atYOjoyN69OiBxo0bY8iQIV98zj///DOaNGkCR0dH6Ovrf/G/YxiGYSoICCFE1ifBMAzDfPtCQ0Mxd+5cFBYWyvpUZCYnJwfm5uZITU2FmZmZrE9HTFFREZo2bYqQkBAMGzZM1qfDMAxT67A1RwzDMAzzhaKiojB16tRvrmNUXl6O58+fIyAgABoaGhg0aJCsT4lhGKZWYp0jhmEYhvlCM2bMkPUpSJSXlwcTExM0a9YMoaGhqF+ffbwzDMPUBJtWxzAMwzAMwzAMAxbIwDAMwzAMwzAMA4B1jhiGYRiGYRiGYQCwzhHDMAzDMAzDMAwA1jliGIZhGIZhGIYBwDpHDMMwDMMwDMMwAFjniGEYhmEYhmEYBgDrHDEMwzAMwzAMwwBgnSOGYRiGYRiGYRgArHPEMAzDMAzDMAwDAPh/5VAOJlFbm0kAAAAASUVORK5CYII=\n"
          },
          "metadata": {}
        }
      ]
    },
    {
      "cell_type": "markdown",
      "source": [
        "7. Проверить гипотезу, что сотрудники с высоким окладом\n",
        "проводят на работе больше времени, чем сотрудники с низким\n",
        "окладом.\n"
      ],
      "metadata": {
        "id": "TNzVAvSV56gB"
      }
    },
    {
      "cell_type": "code",
      "source": [
        "low = hr_noleft[hr_noleft.salary == 'low']['average_montly_hours']\n",
        "high = hr_noleft[hr_noleft.salary == 'high']['average_montly_hours']"
      ],
      "metadata": {
        "id": "iObVvj5H5_qE"
      },
      "execution_count": null,
      "outputs": []
    },
    {
      "cell_type": "markdown",
      "source": [
        "H0 - сотрудники с высоким окладом проводят на работе больше времени, чем сотрудники с низким окладом"
      ],
      "metadata": {
        "id": "LMpVlixyBgkk"
      }
    },
    {
      "cell_type": "code",
      "source": [
        "stat, p = stats.ttest_ind(low, high, equal_var= False)\n",
        "if  p < 0.05:\n",
        "  print('Отклоняем нулевую гипотезу')\n",
        "else:\n",
        "  print('Не отклоняем нулевую гипотезу')"
      ],
      "metadata": {
        "colab": {
          "base_uri": "https://localhost:8080/"
        },
        "id": "JDyxK0G7BpWu",
        "outputId": "35cac2b8-1bae-4290-ec6b-07a8a59bea51"
      },
      "execution_count": null,
      "outputs": [
        {
          "output_type": "stream",
          "name": "stdout",
          "text": [
            "Не отклоняем нулевую гипотезу\n"
          ]
        }
      ]
    },
    {
      "cell_type": "markdown",
      "source": [
        "8. Рассчитать следующие показатели среди уволившихся и не\n",
        "уволившихся сотрудников (по отдельности):\n",
        "- Доля сотрудников с повышением за последние 5 лет\n",
        "- Средняя степень удовлетворенности\n",
        "- Среднее количество проектов\n"
      ],
      "metadata": {
        "id": "DeQg41HXDbgr"
      }
    },
    {
      "cell_type": "code",
      "source": [
        "# уволившиеся сотрудники\n",
        "hr_left = hr[hr['left'] == 1]"
      ],
      "metadata": {
        "id": "AnidlwmWDpPc"
      },
      "execution_count": null,
      "outputs": []
    },
    {
      "cell_type": "code",
      "source": [
        "# показатели среди уволившихся сотрудников\n",
        "print('Доля сотрудников с повышением за последние 5 лет', hr_left['promotion_last_5years'].value_counts()[1] / hr_left['promotion_last_5years'].count())\n",
        "print('Средняя степень удовлетворенности', hr_left['satisfaction_level'].mean())\n",
        "print('Среднее количество проектов', hr_left['number_project'].mean())"
      ],
      "metadata": {
        "colab": {
          "base_uri": "https://localhost:8080/"
        },
        "id": "BbHB-GIcMEtS",
        "outputId": "c87c8716-ada8-4a56-d8a8-b45fe3951c41"
      },
      "execution_count": null,
      "outputs": [
        {
          "output_type": "stream",
          "name": "stdout",
          "text": [
            "Доля сотрудников с повышением за последние 5 лет 0.005320638476617194\n",
            "Средняя степень удовлетворенности 0.4400980117614114\n",
            "Среднее количество проектов 3.8555026603192384\n"
          ]
        }
      ]
    },
    {
      "cell_type": "code",
      "source": [
        "# показатели среди действующих сотрудников\n",
        "print('Доля сотрудников с повышением за последние 5 лет', hr_noleft['promotion_last_5years'].value_counts()[1] / hr_noleft['promotion_last_5years'].count())\n",
        "print('Средняя степень удовлетворенности', hr_noleft['satisfaction_level'].mean())\n",
        "print('Среднее количество проектов', hr_noleft['number_project'].mean())"
      ],
      "metadata": {
        "colab": {
          "base_uri": "https://localhost:8080/"
        },
        "id": "PoiFmOFBNnb9",
        "outputId": "3a2caf7f-a382-4d33-ebd9-0215fd31d6a2"
      },
      "execution_count": null,
      "outputs": [
        {
          "output_type": "stream",
          "name": "stdout",
          "text": [
            "Доля сотрудников с повышением за последние 5 лет 0.026251312565628283\n",
            "Средняя степень удовлетворенности 0.666809590479524\n",
            "Среднее количество проектов 3.786664333216661\n"
          ]
        }
      ]
    },
    {
      "cell_type": "markdown",
      "source": [
        "9. Разделить данные на тестовую и обучающую выборки.\n",
        "\n",
        "Построить модель LDA, предсказывающую уволился ли\n",
        "сотрудник на основе имеющихся факторов (кроме department и\n",
        "salary).\n",
        "\n",
        "Оценить качество модели на тестовой выборки.\n"
      ],
      "metadata": {
        "id": "XabEvvpAOE0W"
      }
    },
    {
      "cell_type": "code",
      "source": [
        "X = hr.iloc[:,[0,1,2,3,4,5,7]]\n",
        "y = hr['left']"
      ],
      "metadata": {
        "id": "Hrjd2hjVORvv"
      },
      "execution_count": null,
      "outputs": []
    },
    {
      "cell_type": "code",
      "source": [
        "# разделяем выборку на тренировочную и тестовую\n",
        "X_train, X_test, y_train, y_test = train_test_split(X, y, test_size=0.30, random_state=42)"
      ],
      "metadata": {
        "id": "IT1x41aLWHCe"
      },
      "execution_count": null,
      "outputs": []
    },
    {
      "cell_type": "code",
      "source": [
        "lda = LinearDiscriminantAnalysis()"
      ],
      "metadata": {
        "id": "MK69l2cnWcW-"
      },
      "execution_count": null,
      "outputs": []
    },
    {
      "cell_type": "code",
      "source": [
        "# обучаем данные\n",
        "lda.fit(X_train, y_train)"
      ],
      "metadata": {
        "colab": {
          "base_uri": "https://localhost:8080/",
          "height": 74
        },
        "id": "3mRzadovWdXv",
        "outputId": "b8017873-cd9f-4202-d0f1-52827247f654"
      },
      "execution_count": null,
      "outputs": [
        {
          "output_type": "execute_result",
          "data": {
            "text/plain": [
              "LinearDiscriminantAnalysis()"
            ],
            "text/html": [
              "<style>#sk-container-id-2 {color: black;background-color: white;}#sk-container-id-2 pre{padding: 0;}#sk-container-id-2 div.sk-toggleable {background-color: white;}#sk-container-id-2 label.sk-toggleable__label {cursor: pointer;display: block;width: 100%;margin-bottom: 0;padding: 0.3em;box-sizing: border-box;text-align: center;}#sk-container-id-2 label.sk-toggleable__label-arrow:before {content: \"▸\";float: left;margin-right: 0.25em;color: #696969;}#sk-container-id-2 label.sk-toggleable__label-arrow:hover:before {color: black;}#sk-container-id-2 div.sk-estimator:hover label.sk-toggleable__label-arrow:before {color: black;}#sk-container-id-2 div.sk-toggleable__content {max-height: 0;max-width: 0;overflow: hidden;text-align: left;background-color: #f0f8ff;}#sk-container-id-2 div.sk-toggleable__content pre {margin: 0.2em;color: black;border-radius: 0.25em;background-color: #f0f8ff;}#sk-container-id-2 input.sk-toggleable__control:checked~div.sk-toggleable__content {max-height: 200px;max-width: 100%;overflow: auto;}#sk-container-id-2 input.sk-toggleable__control:checked~label.sk-toggleable__label-arrow:before {content: \"▾\";}#sk-container-id-2 div.sk-estimator input.sk-toggleable__control:checked~label.sk-toggleable__label {background-color: #d4ebff;}#sk-container-id-2 div.sk-label input.sk-toggleable__control:checked~label.sk-toggleable__label {background-color: #d4ebff;}#sk-container-id-2 input.sk-hidden--visually {border: 0;clip: rect(1px 1px 1px 1px);clip: rect(1px, 1px, 1px, 1px);height: 1px;margin: -1px;overflow: hidden;padding: 0;position: absolute;width: 1px;}#sk-container-id-2 div.sk-estimator {font-family: monospace;background-color: #f0f8ff;border: 1px dotted black;border-radius: 0.25em;box-sizing: border-box;margin-bottom: 0.5em;}#sk-container-id-2 div.sk-estimator:hover {background-color: #d4ebff;}#sk-container-id-2 div.sk-parallel-item::after {content: \"\";width: 100%;border-bottom: 1px solid gray;flex-grow: 1;}#sk-container-id-2 div.sk-label:hover label.sk-toggleable__label {background-color: #d4ebff;}#sk-container-id-2 div.sk-serial::before {content: \"\";position: absolute;border-left: 1px solid gray;box-sizing: border-box;top: 0;bottom: 0;left: 50%;z-index: 0;}#sk-container-id-2 div.sk-serial {display: flex;flex-direction: column;align-items: center;background-color: white;padding-right: 0.2em;padding-left: 0.2em;position: relative;}#sk-container-id-2 div.sk-item {position: relative;z-index: 1;}#sk-container-id-2 div.sk-parallel {display: flex;align-items: stretch;justify-content: center;background-color: white;position: relative;}#sk-container-id-2 div.sk-item::before, #sk-container-id-2 div.sk-parallel-item::before {content: \"\";position: absolute;border-left: 1px solid gray;box-sizing: border-box;top: 0;bottom: 0;left: 50%;z-index: -1;}#sk-container-id-2 div.sk-parallel-item {display: flex;flex-direction: column;z-index: 1;position: relative;background-color: white;}#sk-container-id-2 div.sk-parallel-item:first-child::after {align-self: flex-end;width: 50%;}#sk-container-id-2 div.sk-parallel-item:last-child::after {align-self: flex-start;width: 50%;}#sk-container-id-2 div.sk-parallel-item:only-child::after {width: 0;}#sk-container-id-2 div.sk-dashed-wrapped {border: 1px dashed gray;margin: 0 0.4em 0.5em 0.4em;box-sizing: border-box;padding-bottom: 0.4em;background-color: white;}#sk-container-id-2 div.sk-label label {font-family: monospace;font-weight: bold;display: inline-block;line-height: 1.2em;}#sk-container-id-2 div.sk-label-container {text-align: center;}#sk-container-id-2 div.sk-container {/* jupyter's `normalize.less` sets `[hidden] { display: none; }` but bootstrap.min.css set `[hidden] { display: none !important; }` so we also need the `!important` here to be able to override the default hidden behavior on the sphinx rendered scikit-learn.org. See: https://github.com/scikit-learn/scikit-learn/issues/21755 */display: inline-block !important;position: relative;}#sk-container-id-2 div.sk-text-repr-fallback {display: none;}</style><div id=\"sk-container-id-2\" class=\"sk-top-container\"><div class=\"sk-text-repr-fallback\"><pre>LinearDiscriminantAnalysis()</pre><b>In a Jupyter environment, please rerun this cell to show the HTML representation or trust the notebook. <br />On GitHub, the HTML representation is unable to render, please try loading this page with nbviewer.org.</b></div><div class=\"sk-container\" hidden><div class=\"sk-item\"><div class=\"sk-estimator sk-toggleable\"><input class=\"sk-toggleable__control sk-hidden--visually\" id=\"sk-estimator-id-2\" type=\"checkbox\" checked><label for=\"sk-estimator-id-2\" class=\"sk-toggleable__label sk-toggleable__label-arrow\">LinearDiscriminantAnalysis</label><div class=\"sk-toggleable__content\"><pre>LinearDiscriminantAnalysis()</pre></div></div></div></div></div>"
            ]
          },
          "metadata": {},
          "execution_count": 68
        }
      ]
    },
    {
      "cell_type": "code",
      "source": [
        "# делаем прогноз на тестовой выборке\n",
        "lda.predict(X_test)"
      ],
      "metadata": {
        "colab": {
          "base_uri": "https://localhost:8080/"
        },
        "id": "lctDyA2HWjUb",
        "outputId": "99b06313-2b41-46bf-84aa-e1b48cff4b52"
      },
      "execution_count": null,
      "outputs": [
        {
          "output_type": "execute_result",
          "data": {
            "text/plain": [
              "array([0, 0, 0, ..., 0, 0, 0])"
            ]
          },
          "metadata": {},
          "execution_count": 69
        }
      ]
    },
    {
      "cell_type": "code",
      "source": [
        "lda.score(X_test, y_test)"
      ],
      "metadata": {
        "colab": {
          "base_uri": "https://localhost:8080/"
        },
        "id": "3Q1mmbrJXLsS",
        "outputId": "da687c3b-2971-44e5-ade7-abe9312124ec"
      },
      "execution_count": null,
      "outputs": [
        {
          "output_type": "execute_result",
          "data": {
            "text/plain": [
              "0.7557777777777778"
            ]
          },
          "metadata": {},
          "execution_count": 74
        }
      ]
    },
    {
      "cell_type": "markdown",
      "source": [
        "Коэффициент детерминации - 0.755, а это означает, что модель получилась хорошая (коэффициент стремится к 1)."
      ],
      "metadata": {
        "id": "d2aR7o_bbbRD"
      }
    },
    {
      "cell_type": "code",
      "source": [
        "accuracy_score(y_test, lda.predict(X_test))"
      ],
      "metadata": {
        "colab": {
          "base_uri": "https://localhost:8080/"
        },
        "id": "GXwqsNkZZqg1",
        "outputId": "ea86007a-13fa-4a5f-e06e-7a50bfc33912"
      },
      "execution_count": null,
      "outputs": [
        {
          "output_type": "execute_result",
          "data": {
            "text/plain": [
              "0.7557777777777778"
            ]
          },
          "metadata": {},
          "execution_count": 73
        }
      ]
    },
    {
      "cell_type": "markdown",
      "source": [
        "Точность модели хорошая."
      ],
      "metadata": {
        "id": "s9ZF-qlVc96o"
      }
    },
    {
      "cell_type": "markdown",
      "source": [
        "10. Загрузить jupyter notebook с решение на github и прислать ссылку."
      ],
      "metadata": {
        "id": "5jkvDrbFdCOw"
      }
    },
    {
      "cell_type": "markdown",
      "source": [
https://github.com/NenashevaKseniya/Netology/blob/main/%D0%98%D1%82%D0%BE%D0%B3%D0%BE%D0%B2%D0%B0%D1%8F_%D1%80%D0%B0%D0%B1%D0%BE%D1%82%D0%B0_%D0%BF%D0%BE_%D0%BA%D1%83%D1%80%D1%81%D1%83_%C2%ABPython_%D0%B4%D0%BB%D1%8F_%D0%B0%D0%BD%D0%B0%D0%BB%D0%B8%D0%B7%D0%B0_%D0%B4%D0%B0%D0%BD%D0%BD%D1%8B%D1%85%C2%BB.ipynb
      ],
      "metadata": {
        "id": "LGJTtGJqdGzc"
      }
    }
  ]
}
